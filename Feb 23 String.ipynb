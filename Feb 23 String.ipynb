{
 "cells": [
  {
   "cell_type": "code",
   "execution_count": 3,
   "metadata": {},
   "outputs": [
    {
     "name": "stdout",
     "output_type": "stream",
     "text": [
      "PYTHON FOR D.S\n",
      "False\n",
      "['python', 'muthu']\n"
     ]
    }
   ],
   "source": [
    "txt=\"python for d.s\"\n",
    "\n",
    "type(txt)\n",
    "print(txt.upper())\n",
    "txt.lower()\n",
    "print(txt.isupper())\n",
    "txt.islower()\n",
    "txt.lstrip()\n",
    "txt.rstrip()\n",
    "txt1=\"python muthu\"\n",
    "\n",
    "print(txt1.split())\n",
    "\n",
    "#txt.startswith('p')\n",
    "#txt.endswith('d.s')\n",
    " \n",
    "\n"
   ]
  },
  {
   "cell_type": "code",
   "execution_count": 79,
   "metadata": {},
   "outputs": [
    {
     "data": {
      "text/plain": [
       "'python for d.s'"
      ]
     },
     "execution_count": 79,
     "metadata": {},
     "output_type": "execute_result"
    }
   ],
   "source": [
    "txt=['python','for','d.s']\n",
    "\" \".join(txt)\n",
    "\n",
    "\n",
    "#'for ' in txt\n",
    "#'for xyz' not in txt "
   ]
  },
  {
   "cell_type": "code",
   "execution_count": 36,
   "metadata": {},
   "outputs": [
    {
     "data": {
      "text/plain": [
       "True"
      ]
     },
     "execution_count": 36,
     "metadata": {},
     "output_type": "execute_result"
    }
   ],
   "source": [
    "txt=\"123\"\n",
    "txt.isnumeric()"
   ]
  },
  {
   "cell_type": "code",
   "execution_count": 63,
   "metadata": {},
   "outputs": [
    {
     "data": {
      "text/plain": [
       "False"
      ]
     },
     "execution_count": 63,
     "metadata": {},
     "output_type": "execute_result"
    }
   ],
   "source": [
    "txt=\"9.6\"\n",
    "txt.isdigit()"
   ]
  },
  {
   "cell_type": "code",
   "execution_count": 152,
   "metadata": {},
   "outputs": [
    {
     "name": "stdout",
     "output_type": "stream",
     "text": [
      "1\n",
      "drFscr\n"
     ]
    }
   ],
   "source": [
    "txt=\"Python\"\n",
    "str=\"rocks For d.s\"\n",
    "txt+str\n",
    "txt.rindex('P')\n",
    "str.capitalize()\n",
    "str.swapcase()\n",
    "print(txt.count('on'))\n",
    "print(str[10::-2])\n",
    "\n"
   ]
  },
  {
   "cell_type": "code",
   "execution_count": 7,
   "metadata": {},
   "outputs": [
    {
     "name": "stdout",
     "output_type": "stream",
     "text": [
      "['python', 'in', 'machine', 'learning', 'and', 'artificial', 'intelligence']\n",
      "intelligence artificial and learning machine in python\n"
     ]
    }
   ],
   "source": [
    "#Print words in reverse order\n",
    "str1=\"python in machine learning and artificial intelligence\"\n",
    "input1=str1.split()\n",
    "print(input1)\n",
    "reverse=input1[::-1]\n",
    "output=\" \".join(reverse)\n",
    "print(output)"
   ]
  },
  {
   "cell_type": "code",
   "execution_count": 158,
   "metadata": {},
   "outputs": [
    {
     "name": "stdout",
     "output_type": "stream",
     "text": [
      "654321"
     ]
    }
   ],
   "source": [
    "Num=123456\n",
    "while Num!=0:\n",
    "\n",
    "    print(Num%10,end='')\n",
    "    Num=int(Num/10)\n"
   ]
  },
  {
   "cell_type": "code",
   "execution_count": 13,
   "metadata": {},
   "outputs": [
    {
     "name": "stdout",
     "output_type": "stream",
     "text": [
      "Upper Case: 1\n",
      "Lower Case: 9\n"
     ]
    }
   ],
   "source": [
    "txt=\"Hello world!\"\n",
    "count=0\n",
    "temp=0\n",
    "for i in txt:\n",
    "\n",
    "    if i.isupper()==True:\n",
    "        #count+=count\n",
    "        count+=1\n",
    "    \n",
    "    if i.islower()==True:\n",
    "        temp+=1\n",
    "        \n",
    "print(\"Upper Case:\",count)\n",
    "print(\"Lower Case:\",temp)\n",
    "        \n",
    "   \n"
   ]
  },
  {
   "cell_type": "code",
   "execution_count": 23,
   "metadata": {},
   "outputs": [
    {
     "name": "stdout",
     "output_type": "stream",
     "text": [
      "Upper Case: 1\n",
      "Lower Case: 9\n"
     ]
    }
   ],
   "source": [
    "txt=\"Hello world!\"\n",
    "count=0\n",
    "temp=0\n",
    "for i in txt:\n",
    "    asciiVal=ord(i) \n",
    "    if (asciiVal>=65) & (asciiVal<=90):        \n",
    "        count+=1\n",
    "    \n",
    "    elif (asciiVal>=97) & (asciiVal<=122):\n",
    "        temp+=1\n",
    "        \n",
    "print(\"Upper Case:\",count)\n",
    "print(\"Lower Case:\",temp)"
   ]
  },
  {
   "cell_type": "code",
   "execution_count": null,
   "metadata": {},
   "outputs": [],
   "source": []
  }
 ],
 "metadata": {
  "kernelspec": {
   "display_name": "Python 3",
   "language": "python",
   "name": "python3"
  },
  "language_info": {
   "codemirror_mode": {
    "name": "ipython",
    "version": 3
   },
   "file_extension": ".py",
   "mimetype": "text/x-python",
   "name": "python",
   "nbconvert_exporter": "python",
   "pygments_lexer": "ipython3",
   "version": "3.7.1"
  }
 },
 "nbformat": 4,
 "nbformat_minor": 2
}
