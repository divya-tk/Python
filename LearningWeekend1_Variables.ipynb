{
 "cells": [
  {
   "cell_type": "code",
   "execution_count": 1,
   "metadata": {},
   "outputs": [
    {
     "name": "stdout",
     "output_type": "stream",
     "text": [
      "Bhanu\n"
     ]
    }
   ],
   "source": [
    "print (\"Bhanu\")"
   ]
  },
  {
   "cell_type": "code",
   "execution_count": 3,
   "metadata": {},
   "outputs": [
    {
     "name": "stdout",
     "output_type": "stream",
     "text": [
      "Divya\n"
     ]
    }
   ],
   "source": [
    "print ('Divya')"
   ]
  },
  {
   "cell_type": "code",
   "execution_count": 1,
   "metadata": {},
   "outputs": [
    {
     "name": "stdout",
     "output_type": "stream",
     "text": [
      "5\n"
     ]
    }
   ],
   "source": [
    "a=3\n",
    "b=2\n",
    "print(a+b)"
   ]
  },
  {
   "cell_type": "code",
   "execution_count": 5,
   "metadata": {},
   "outputs": [
    {
     "name": "stdout",
     "output_type": "stream",
     "text": [
      "1\n"
     ]
    }
   ],
   "source": [
    "a=3\n",
    "b=2\n",
    "print(a//b)"
   ]
  },
  {
   "cell_type": "code",
   "execution_count": 6,
   "metadata": {},
   "outputs": [
    {
     "name": "stdout",
     "output_type": "stream",
     "text": [
      "10\n"
     ]
    }
   ],
   "source": [
    "a=10\n",
    "print(a)"
   ]
  },
  {
   "cell_type": "code",
   "execution_count": 7,
   "metadata": {
    "scrolled": true
   },
   "outputs": [
    {
     "ename": "NameError",
     "evalue": "name 'c' is not defined",
     "output_type": "error",
     "traceback": [
      "\u001b[1;31m---------------------------------------------------------------------------\u001b[0m",
      "\u001b[1;31mNameError\u001b[0m                                 Traceback (most recent call last)",
      "\u001b[1;32m<ipython-input-7-86036c4cac93>\u001b[0m in \u001b[0;36m<module>\u001b[1;34m\u001b[0m\n\u001b[1;32m----> 1\u001b[1;33m \u001b[0mprint\u001b[0m \u001b[1;33m(\u001b[0m\u001b[0mc\u001b[0m\u001b[1;33m)\u001b[0m\u001b[1;33m\u001b[0m\u001b[1;33m\u001b[0m\u001b[0m\n\u001b[0m",
      "\u001b[1;31mNameError\u001b[0m: name 'c' is not defined"
     ]
    }
   ],
   "source": [
    "print (c)"
   ]
  },
  {
   "cell_type": "code",
   "execution_count": 6,
   "metadata": {},
   "outputs": [
    {
     "name": "stdout",
     "output_type": "stream",
     "text": [
      "3\n"
     ]
    }
   ],
   "source": [
    "print(a)\n",
    "      "
   ]
  },
  {
   "cell_type": "code",
   "execution_count": 9,
   "metadata": {},
   "outputs": [
    {
     "name": "stdout",
     "output_type": "stream",
     "text": [
      "<class 'int'>\n"
     ]
    }
   ],
   "source": [
    "a=10\n",
    "print (type (a))"
   ]
  },
  {
   "cell_type": "code",
   "execution_count": 10,
   "metadata": {},
   "outputs": [
    {
     "name": "stdout",
     "output_type": "stream",
     "text": [
      "<class 'str'>\n"
     ]
    }
   ],
   "source": [
    "a =\"Test\"\n",
    "print (type (a))"
   ]
  },
  {
   "cell_type": "code",
   "execution_count": 28,
   "metadata": {},
   "outputs": [
    {
     "name": "stdout",
     "output_type": "stream",
     "text": [
      "Answer is 5\n",
      "Answer is 7\n",
      "Answer is 7\n"
     ]
    }
   ],
   "source": [
    "a = 2\n",
    "b = 3\n",
    "v = 5\n",
    "print('Answer is ' + str(a.__add__(b)))\n",
    "print(\"Answer is\"  , a+v)\n",
    "print(\"Answer is \" + str(a+v))"
   ]
  },
  {
   "cell_type": "code",
   "execution_count": 25,
   "metadata": {},
   "outputs": [
    {
     "name": "stdout",
     "output_type": "stream",
     "text": [
      "5 * 1 = 5\n"
     ]
    }
   ],
   "source": [
    "#Write  program to print the given input the multiplied by 5\n",
    "print ('5 * 1 = 5')"
   ]
  },
  {
   "cell_type": "code",
   "execution_count": 30,
   "metadata": {
    "scrolled": true
   },
   "outputs": [
    {
     "name": "stdout",
     "output_type": "stream",
     "text": [
      "5 * {0} 2\n"
     ]
    }
   ],
   "source": [
    "i = 2\n",
    "print('5 * {0}' , i)"
   ]
  },
  {
   "cell_type": "code",
   "execution_count": 48,
   "metadata": {},
   "outputs": [
    {
     "name": "stdout",
     "output_type": "stream",
     "text": [
      "5 * 4 = 20\n",
      "5 * 4 = 20\n"
     ]
    }
   ],
   "source": [
    "print('{0} * {1} = {2}'.format(5,4,5*4))\n",
    "print(f'{5} * {4} = {5*4}')\n"
   ]
  },
  {
   "cell_type": "code",
   "execution_count": 28,
   "metadata": {},
   "outputs": [
    {
     "name": "stdout",
     "output_type": "stream",
     "text": [
      "125\n"
     ]
    }
   ],
   "source": [
    "print(pow(5,3))"
   ]
  },
  {
   "cell_type": "code",
   "execution_count": 25,
   "metadata": {},
   "outputs": [
    {
     "name": "stdout",
     "output_type": "stream",
     "text": [
      "Number of minutes per day 1440\n"
     ]
    }
   ],
   "source": [
    "print ('Number of minutes per day', 24 * 60 )"
   ]
  },
  {
   "cell_type": "code",
   "execution_count": 26,
   "metadata": {},
   "outputs": [
    {
     "name": "stdout",
     "output_type": "stream",
     "text": [
      "Number of seconds per day 86400\n"
     ]
    }
   ],
   "source": [
    "print ('Number of seconds per day', 24 * 60 * 60 )"
   ]
  },
  {
   "cell_type": "code",
   "execution_count": 32,
   "metadata": {},
   "outputs": [
    {
     "name": "stdout",
     "output_type": "stream",
     "text": [
      "1 0.5 gh\n"
     ]
    }
   ],
   "source": [
    "a,b,c=1,1/2,'gh'\n",
    "print (a,b,c)"
   ]
  },
  {
   "cell_type": "code",
   "execution_count": 33,
   "metadata": {},
   "outputs": [
    {
     "name": "stdout",
     "output_type": "stream",
     "text": [
      "data data data\n"
     ]
    }
   ],
   "source": [
    "a = b = c ='data'\n",
    "print (a,b,c)"
   ]
  },
  {
   "cell_type": "code",
   "execution_count": 35,
   "metadata": {},
   "outputs": [
    {
     "name": "stdout",
     "output_type": "stream",
     "text": [
      "13\n"
     ]
    }
   ],
   "source": [
    "a = 2 + 4 + \\\n",
    "5 + 1 \\\n",
    "+ 1\n",
    "print (a)"
   ]
  },
  {
   "cell_type": "code",
   "execution_count": 37,
   "metadata": {},
   "outputs": [
    {
     "name": "stdout",
     "output_type": "stream",
     "text": [
      "10\n"
     ]
    }
   ],
   "source": [
    "a = (1 + 2 + 3\n",
    "    + 4)\n",
    "print (a)"
   ]
  },
  {
   "cell_type": "code",
   "execution_count": 52,
   "metadata": {},
   "outputs": [
    {
     "name": "stdout",
     "output_type": "stream",
     "text": [
      "10 20 30\n",
      "50 60 70\n"
     ]
    }
   ],
   "source": [
    "a = 10; b = 20; c =30\n",
    "x,y,z=50,60,70\n",
    "print(a,b,c)\n",
    "print(x,y,z)"
   ]
  },
  {
   "cell_type": "code",
   "execution_count": 39,
   "metadata": {},
   "outputs": [
    {
     "name": "stdout",
     "output_type": "stream",
     "text": [
      "Bhanu Bhanu Bhanu\n"
     ]
    }
   ],
   "source": [
    "a = b = c = 'Bhanu'\n",
    "print (a,b,c)"
   ]
  },
  {
   "cell_type": "code",
   "execution_count": 43,
   "metadata": {},
   "outputs": [
    {
     "name": "stdout",
     "output_type": "stream",
     "text": [
      "1\n"
     ]
    }
   ],
   "source": [
    "a = 1\n",
    "b = a\n",
    "a = a + 1\n",
    "print (b)"
   ]
  },
  {
   "cell_type": "code",
   "execution_count": 46,
   "metadata": {},
   "outputs": [
    {
     "name": "stdout",
     "output_type": "stream",
     "text": [
      "4\n",
      "5\n"
     ]
    }
   ],
   "source": [
    "data = 4\n",
    "Data = 5\n",
    "print (data)\n",
    "print (Data)"
   ]
  },
  {
   "cell_type": "code",
   "execution_count": 48,
   "metadata": {},
   "outputs": [
    {
     "name": "stdout",
     "output_type": "stream",
     "text": [
      "<class 'float'>\n"
     ]
    }
   ],
   "source": [
    "print (type(1.2))"
   ]
  },
  {
   "cell_type": "code",
   "execution_count": 49,
   "metadata": {},
   "outputs": [
    {
     "name": "stdout",
     "output_type": "stream",
     "text": [
      "5 * 2 = 10\n"
     ]
    }
   ],
   "source": [
    "i = 2\n",
    "print ('{0} * {1} = {2}'.format(5, i, 5 * i))"
   ]
  },
  {
   "cell_type": "code",
   "execution_count": 55,
   "metadata": {},
   "outputs": [
    {
     "name": "stdout",
     "output_type": "stream",
     "text": [
      "5 Table\n",
      "5 * 1 = 5\n",
      "5 * 2 = 10\n",
      "5 * 3 = 15\n",
      "5 * 4 = 20\n",
      "5 * 5 = 25\n",
      "5 * 6 = 30\n",
      "5 * 7 = 35\n",
      "5 * 8 = 40\n",
      "5 * 9 = 45\n",
      "5 * 10 = 50\n",
      "***End of Table***\n"
     ]
    }
   ],
   "source": [
    "# for loop\n",
    "print ('5 Table')\n",
    "for i in range(1,11):\n",
    "    #print ('{0} * {1} = {2}'.format (5, i, 5 * i))\n",
    "    print(f'{5} * {i} = {5*i}')\n",
    "print(\"***End of Table***\")"
   ]
  },
  {
   "cell_type": "code",
   "execution_count": 60,
   "metadata": {},
   "outputs": [
    {
     "name": "stdout",
     "output_type": "stream",
     "text": [
      "bmi is 23.875114784205696\n",
      "Good Job for maintaining your weight!\n"
     ]
    }
   ],
   "source": [
    "# if condition\n",
    "weight = 65\n",
    "height = 1.65\n",
    "bmi = weight / (height ** 2)\n",
    "print ('bmi is', bmi)\n",
    "if bmi > 25:\n",
    "    print (\"You are Overweight!!! Take Action!!\")\n",
    "else:\n",
    "    print (\"Good Job for maintaining your weight!\")"
   ]
  },
  {
   "cell_type": "code",
   "execution_count": 59,
   "metadata": {},
   "outputs": [
    {
     "name": "stdout",
     "output_type": "stream",
     "text": [
      "1\n",
      "1\n",
      "2\n",
      "3\n",
      "5\n",
      "8\n",
      "13\n",
      "21\n",
      "34\n",
      "55\n"
     ]
    }
   ],
   "source": [
    "# Write a program to print Fibonacci Series\n",
    "a = 1\n",
    "b = 1\n",
    "print (a)\n",
    "for i in range(1,10):\n",
    "    print (b)\n",
    "    temp = a\n",
    "    a = b\n",
    "    b += temp \n",
    "    "
   ]
  },
  {
   "cell_type": "code",
   "execution_count": 6,
   "metadata": {},
   "outputs": [
    {
     "name": "stdout",
     "output_type": "stream",
     "text": [
      "The year 2019 is not leap year\n"
     ]
    }
   ],
   "source": [
    "#Program to check leap year\n",
    "year = 2019\n",
    "if year%4 == 0:\n",
    "    print ('The year', year, 'is leap year')\n",
    "else:\n",
    "    print ('The year', year, 'is not leap year')"
   ]
  },
  {
   "cell_type": "code",
   "execution_count": 66,
   "metadata": {},
   "outputs": [
    {
     "name": "stdout",
     "output_type": "stream",
     "text": [
      "The word Mumbai is not a palindrome\n"
     ]
    }
   ],
   "source": [
    "# Program to check Palindrome or not\n",
    "Str = 'Mumbai'\n",
    "Str1 = \"\"\n",
    "for i in Str:\n",
    "    Str1 = i + Str1\n",
    "  #     Str1 +=i\n",
    "\n",
    "if (Str.lower() == Str1.lower()):\n",
    "    print (\"The word\", Str, \"is a palindrome\")\n",
    "else:\n",
    "    print (\"The word\", Str, \"is not a palindrome\")"
   ]
  },
  {
   "cell_type": "code",
   "execution_count": 87,
   "metadata": {},
   "outputs": [
    {
     "name": "stdout",
     "output_type": "stream",
     "text": [
      "The number 37 is prime\n"
     ]
    }
   ],
   "source": [
    "# Check if the number is prime or not\n",
    "number = 32\n",
    "# flag = 'false'\n",
    "flag = True\n",
    "rval = int (number/2)\n",
    "for i in range (2,rval):\n",
    "    \n",
    "    if number % i == 0:\n",
    "#         flag = 'true'\n",
    "        flag = False\n",
    "        break\n",
    "# if flag == 'true':\n",
    "if flag == False:    \n",
    "        print ('The number', number, 'is not prime')\n",
    "else:\n",
    "        print ('The number', number, 'is prime')\n",
    "    "
   ]
  },
  {
   "cell_type": "code",
   "execution_count": 91,
   "metadata": {},
   "outputs": [
    {
     "name": "stdout",
     "output_type": "stream",
     "text": [
      "Factorial of 6 is 720\n"
     ]
    }
   ],
   "source": [
    "# Program to find factorial of a number\n",
    "Number = 6\n",
    "Factorial = 1\n",
    "for i in range(2,Number +1):\n",
    "    Factorial = Factorial * i\n",
    "print (\"Factorial of\", Number, \"is\", Factorial)\n",
    "    \n",
    "    "
   ]
  },
  {
   "cell_type": "code",
   "execution_count": 15,
   "metadata": {},
   "outputs": [
    {
     "name": "stdout",
     "output_type": "stream",
     "text": [
      "$ \r\n",
      "$ $ \r\n",
      "$ $ $ \r\n"
     ]
    }
   ],
   "source": [
    "# Program to print triangle\n",
    "size = 3\n",
    "for i in range (1, size + 1):\n",
    "    for j in range (1, i + 1):\n",
    "        print ('$ ', end = '')\n",
    "    print ('\\r')\n"
   ]
  },
  {
   "cell_type": "code",
   "execution_count": 11,
   "metadata": {},
   "outputs": [
    {
     "name": "stdout",
     "output_type": "stream",
     "text": [
      "$ \n",
      "$ $ \n",
      "$ $ $ \n",
      "$ $ $ $ \n",
      "$ $ $ $ $ \n",
      "$ $ $ $ $ $ \n"
     ]
    }
   ],
   "source": [
    "# Program to print a triangle\n",
    "size = 6\n",
    "for i in range (1, size + 1):\n",
    "    print ('$ '  * i)  "
   ]
  },
  {
   "cell_type": "code",
   "execution_count": 5,
   "metadata": {},
   "outputs": [
    {
     "name": "stdout",
     "output_type": "stream",
     "text": [
      " 1 x 5 = 5\n",
      " 2 x 5 = 10\n",
      " 3 x 5 = 15\n",
      " 4 x 5 = 20\n",
      " 5 x 5 = 25\n",
      " 6 x 5 = 30\n",
      " 7 x 5 = 35\n",
      " 8 x 5 = 40\n",
      " 9 x 5 = 45\n",
      "10 x 5 = 50\n",
      "11 x 5 = 55\n",
      "12 x 5 = 60\n",
      "13 x 5 = 65\n",
      "14 x 5 = 70\n",
      "15 x 5 = 75\n",
      "16 x 5 = 80\n",
      "17 x 5 = 85\n",
      "18 x 5 = 90\n",
      "19 x 5 = 95\n"
     ]
    }
   ],
   "source": [
    "for i in range(1,10):\n",
    "    print (f\" {i} x {5} = {5 * i}\")\n",
    "for i in range(10,20):\n",
    "    print (f\"{i} x {5} = {5 * i}\")"
   ]
  },
  {
   "cell_type": "code",
   "execution_count": null,
   "metadata": {},
   "outputs": [],
   "source": []
  }
 ],
 "metadata": {
  "kernelspec": {
   "display_name": "Python 3",
   "language": "python",
   "name": "python3"
  },
  "language_info": {
   "codemirror_mode": {
    "name": "ipython",
    "version": 3
   },
   "file_extension": ".py",
   "mimetype": "text/x-python",
   "name": "python",
   "nbconvert_exporter": "python",
   "pygments_lexer": "ipython3",
   "version": "3.7.1"
  }
 },
 "nbformat": 4,
 "nbformat_minor": 2
}
