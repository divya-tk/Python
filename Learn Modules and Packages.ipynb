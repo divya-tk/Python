{
 "cells": [
  {
   "cell_type": "markdown",
   "metadata": {},
   "source": [
    "### What is a module?\n",
    "Modules in Python are simply Python files with the .py extension, which implement a set of functions. Modules are imported from other modules using the **import** command.\n",
    "\n",
    "To import a module, we use the **import** command. Check out the full list of built-in modules in the Python standard library here.\n",
    "\n",
    "The first time a module is loaded into a running Python script, it is initialized by executing the code in the module once. If another module in your code imports the same module again, it will not be loaded twice but once only - so local variables inside the module act as a \"singleton\" - they are initialized only once."
   ]
  },
  {
   "cell_type": "code",
   "execution_count": 18,
   "metadata": {},
   "outputs": [
    {
     "name": "stdout",
     "output_type": "stream",
     "text": [
      "(100, 'Oop Language', 'xxxx', [(10, 'Great Book', 5), (101, 'Awesome', 5)])\n"
     ]
    }
   ],
   "source": [
    "# way 1 - import the library\n",
    "import ForModules\n",
    "\n",
    "x = ForModules.Book(100, 'Oop Language', 'xxxx')\n",
    "x.add_review(ForModules.Review(10, \"Great Book\", 5))\n",
    "x.add_review(ForModules.Review(101, \"Awesome\", 5))\n",
    "print(x)\n",
    "\n"
   ]
  },
  {
   "cell_type": "markdown",
   "metadata": {},
   "source": [
    "### Exploring built-in modules\n",
    "Two very important functions come in handy when exploring modules in Python - the dir and help functions.\n",
    "\n",
    "We can look for which functions are implemented in each module by using the dir function:"
   ]
  },
  {
   "cell_type": "code",
   "execution_count": 52,
   "metadata": {},
   "outputs": [
    {
     "data": {
      "text/plain": [
       "['__class__',\n",
       " '__delattr__',\n",
       " '__dict__',\n",
       " '__dir__',\n",
       " '__doc__',\n",
       " '__eq__',\n",
       " '__format__',\n",
       " '__ge__',\n",
       " '__getattribute__',\n",
       " '__gt__',\n",
       " '__hash__',\n",
       " '__init__',\n",
       " '__init_subclass__',\n",
       " '__le__',\n",
       " '__lt__',\n",
       " '__module__',\n",
       " '__ne__',\n",
       " '__new__',\n",
       " '__reduce__',\n",
       " '__reduce_ex__',\n",
       " '__repr__',\n",
       " '__setattr__',\n",
       " '__sizeof__',\n",
       " '__str__',\n",
       " '__subclasshook__',\n",
       " '__weakref__',\n",
       " 'add_review',\n",
       " 'author',\n",
       " 'id',\n",
       " 'name',\n",
       " 'reviews']"
      ]
     },
     "execution_count": 52,
     "metadata": {},
     "output_type": "execute_result"
    }
   ],
   "source": [
    "dir(x)"
   ]
  },
  {
   "cell_type": "code",
   "execution_count": 3,
   "metadata": {},
   "outputs": [
    {
     "data": {
      "text/plain": [
       "['__class__',\n",
       " '__delattr__',\n",
       " '__dict__',\n",
       " '__dir__',\n",
       " '__doc__',\n",
       " '__eq__',\n",
       " '__format__',\n",
       " '__ge__',\n",
       " '__getattribute__',\n",
       " '__gt__',\n",
       " '__hash__',\n",
       " '__init__',\n",
       " '__init_subclass__',\n",
       " '__le__',\n",
       " '__lt__',\n",
       " '__module__',\n",
       " '__ne__',\n",
       " '__new__',\n",
       " '__reduce__',\n",
       " '__reduce_ex__',\n",
       " '__repr__',\n",
       " '__setattr__',\n",
       " '__sizeof__',\n",
       " '__str__',\n",
       " '__subclasshook__',\n",
       " '__weakref__',\n",
       " 'add_review',\n",
       " 'author',\n",
       " 'id',\n",
       " 'name',\n",
       " 'reviews']"
      ]
     },
     "execution_count": 3,
     "metadata": {},
     "output_type": "execute_result"
    }
   ],
   "source": [
    "# Way 2 - importing library\n",
    "from ForModules import Book\n",
    "\n",
    "y = Book(100,\"Advance Python Prog Book\", \"I don't know\")\n",
    "dir(y)\n",
    "# print(y.__repr__)\n",
    "# print (y.author)"
   ]
  },
  {
   "cell_type": "code",
   "execution_count": 34,
   "metadata": {},
   "outputs": [
    {
     "name": "stdout",
     "output_type": "stream",
     "text": [
      "100\n"
     ]
    }
   ],
   "source": [
    "# Way 3 - import Library\n",
    "from ForModules import Book as b1\n",
    "\n",
    "z= b1(100,\"Advance Python Prog Book\", \"I don't know\")\n",
    "print(z.id)"
   ]
  },
  {
   "cell_type": "code",
   "execution_count": 39,
   "metadata": {},
   "outputs": [
    {
     "name": "stdout",
     "output_type": "stream",
     "text": [
      "5\n"
     ]
    }
   ],
   "source": [
    "# Multiple Class importing\n",
    "from ForModules import Book, Review\n",
    "\n",
    "w = Review(10, 'Great Book', 5)\n",
    "print(w.rating)"
   ]
  },
  {
   "cell_type": "code",
   "execution_count": 40,
   "metadata": {},
   "outputs": [
    {
     "name": "stdout",
     "output_type": "stream",
     "text": [
      "['', 'C:\\\\Users\\\\Gopinath Jayakumar\\\\Anaconda3\\\\python36.zip', 'C:\\\\Users\\\\Gopinath Jayakumar\\\\Anaconda3\\\\DLLs', 'C:\\\\Users\\\\Gopinath Jayakumar\\\\Anaconda3\\\\lib', 'C:\\\\Users\\\\Gopinath Jayakumar\\\\Anaconda3', 'C:\\\\Users\\\\Gopinath Jayakumar\\\\Anaconda3\\\\lib\\\\site-packages', 'C:\\\\Users\\\\Gopinath Jayakumar\\\\Anaconda3\\\\lib\\\\site-packages\\\\win32', 'C:\\\\Users\\\\Gopinath Jayakumar\\\\Anaconda3\\\\lib\\\\site-packages\\\\win32\\\\lib', 'C:\\\\Users\\\\Gopinath Jayakumar\\\\Anaconda3\\\\lib\\\\site-packages\\\\Pythonwin', 'C:\\\\Users\\\\Gopinath Jayakumar\\\\Anaconda3\\\\lib\\\\site-packages\\\\IPython\\\\extensions', 'C:\\\\Users\\\\Gopinath Jayakumar\\\\.ipython']\n"
     ]
    }
   ],
   "source": [
    "import sys\n",
    "\n",
    "print(sys.path)"
   ]
  },
  {
   "cell_type": "code",
   "execution_count": 3,
   "metadata": {},
   "outputs": [
    {
     "data": {
      "text/plain": [
       "<module 'sys' (built-in)>"
      ]
     },
     "execution_count": 3,
     "metadata": {},
     "output_type": "execute_result"
    }
   ],
   "source": [
    "import cmd\n",
    "\n",
    "cmd.sys"
   ]
  },
  {
   "cell_type": "code",
   "execution_count": 4,
   "metadata": {},
   "outputs": [
    {
     "name": "stdout",
     "output_type": "stream",
     "text": [
      "0.8523080624755417\n"
     ]
    }
   ],
   "source": [
    "import random\n",
    "\n",
    "print(random.random())"
   ]
  },
  {
   "cell_type": "markdown",
   "metadata": {},
   "source": [
    "## Writing packages\n",
    "\n",
    "Packages are namespaces which contain multiple packages and modules themselves. They are simply directories, but with a twist.\n",
    "\n",
    "Each package in Python is a directory which MUST contain a special file called **`__init__.py`**. This file can be empty, and it indicates that the directory it contains is a Python package, so it can be imported the same way a module can be imported.\n",
    "\n",
    "If we create a directory called **modulePackages**, which marks the package name, we can then create a module inside that package called **first**. We also must not forget to add the **`__init__.py`** file inside the modulePackages directory.\n",
    "\n",
    "To use the module bar, we can import it in two ways:\n",
    "\n",
    "**import modulePackages.first**\n",
    "\n",
    "or:\n",
    "\n",
    "** from modulePackages import first **\n",
    "\n",
    "\n",
    "In the first method, we must use the **modulePackages** prefix whenever we access the module **first**. In the second method, we don't, because we import the module to our module's namespace.\n",
    "\n",
    "The **`__init__.py`**  file can also decide which modules the package exports as the API, while keeping other modules internal, by overriding the **`__all__`**  variable, like so:\n",
    "\n",
    "    __init__.py:\n",
    "\n",
    "       __all__ = [\"first\"]"
   ]
  },
  {
   "cell_type": "code",
   "execution_count": 66,
   "metadata": {},
   "outputs": [
    {
     "name": "stdout",
     "output_type": "stream",
     "text": [
      "Mona 10 5th\n",
      "None\n",
      "60\n"
     ]
    }
   ],
   "source": [
    "# for Compositions\n",
    "\n",
    "class studentPersonalDetails:\n",
    "    def __init__(self, name, age, std):\n",
    "        self.name = name\n",
    "        self.age = age\n",
    "        self.std = std\n",
    "        \n",
    "    def infoStudent(self):\n",
    "        print(self.name, self.age, self.std)\n",
    "        \n",
    "class marksDetails:\n",
    "    def __init__(self, marks):\n",
    "        self.marks = marks\n",
    "        self.details = studentPersonalDetails(\"Mona\", 10, '5th')\n",
    "        \n",
    "    def sumOfmarks(self):\n",
    "        return sum(self.marks)\n",
    "    \n",
    "x = marksDetails([10,20,30])\n",
    "print(x.details.infoStudent())\n",
    "print(x.sumOfmarks())"
   ]
  },
  {
   "cell_type": "code",
   "execution_count": 92,
   "metadata": {},
   "outputs": [],
   "source": [
    "# Example 1:\n",
    "class income:\n",
    "    def __init__(self, monthlyIncome, bonus):\n",
    "        self.monthlyIncome = monthlyIncome\n",
    "        self.bonus = bonus\n",
    "    \n",
    "    def annual_Salary(self):\n",
    "        return (self.monthlyIncome*12) + (self.bonus)    \n",
    "    "
   ]
  },
  {
   "cell_type": "code",
   "execution_count": 93,
   "metadata": {},
   "outputs": [
    {
     "name": "stdout",
     "output_type": "stream",
     "text": [
      "36100\n"
     ]
    }
   ],
   "source": [
    "class empl:\n",
    "    def __init__(self, name, age, monthlyIncome, bonus):\n",
    "        self.name = name\n",
    "        self.age = age\n",
    "        self.objincome = income(monthlyIncome, bonus)\n",
    "        \n",
    "    def totalIncome(self):\n",
    "        return self.objincome.annual_Salary()\n",
    "    \n",
    "x = empl(\"Mona\", 25, 3000, 100)\n",
    "\n",
    "print(x.totalIncome())\n",
    "    "
   ]
  },
  {
   "cell_type": "code",
   "execution_count": null,
   "metadata": {},
   "outputs": [],
   "source": []
  },
  {
   "cell_type": "code",
   "execution_count": null,
   "metadata": {},
   "outputs": [],
   "source": []
  }
 ],
 "metadata": {
  "kernelspec": {
   "display_name": "Python 3",
   "language": "python",
   "name": "python3"
  },
  "language_info": {
   "codemirror_mode": {
    "name": "ipython",
    "version": 3
   },
   "file_extension": ".py",
   "mimetype": "text/x-python",
   "name": "python",
   "nbconvert_exporter": "python",
   "pygments_lexer": "ipython3",
   "version": "3.6.5"
  }
 },
 "nbformat": 4,
 "nbformat_minor": 2
}
