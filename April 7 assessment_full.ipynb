{
 "cells": [
  {
   "cell_type": "code",
   "execution_count": 9,
   "metadata": {},
   "outputs": [
    {
     "name": "stdout",
     "output_type": "stream",
     "text": [
      "C:\\Users\\muddi\n",
      "8.54\n"
     ]
    }
   ],
   "source": [
    " #1.\tDifference between variable and constant? Create and import a constant, then print the values of constant\n",
    "\n",
    "#Variable ==>can be changed\n",
    "#constant ==>can't change\n",
    "import os\n",
    "pwd=os.getcwd()\n",
    "print(pwd)\n",
    "\n",
    "import Const\n",
    "print(Const.EPSILON)"
   ]
  },
  {
   "cell_type": "code",
   "execution_count": 7,
   "metadata": {},
   "outputs": [
    {
     "name": "stdout",
     "output_type": "stream",
     "text": [
      "5.14\n",
      "5\n"
     ]
    },
    {
     "data": {
      "text/plain": [
       "'5'"
      ]
     },
     "execution_count": 7,
     "metadata": {},
     "output_type": "execute_result"
    }
   ],
   "source": [
    "#2.\tConvert a float to integer, then convert it to string. \n",
    "\n",
    "x=5.14\n",
    "print(x)\n",
    "y=int(x)\n",
    "print(y)\n",
    "str(y)\n"
   ]
  },
  {
   "cell_type": "code",
   "execution_count": 9,
   "metadata": {},
   "outputs": [
    {
     "name": "stdout",
     "output_type": "stream",
     "text": [
      "{1, 2, 3, 4, 5, 67, 88}\n"
     ]
    },
    {
     "data": {
      "text/plain": [
       "['h', 'e', 'l', 'l', 'o', ' ', '!']"
      ]
     },
     "execution_count": 9,
     "metadata": {},
     "output_type": "execute_result"
    }
   ],
   "source": [
    "#2.Convert a list into a set. Convert a string into a list\n",
    "list1=[1,2,3,4,5,67,88]\n",
    "print(set(list1))\n",
    "txt=\"hello !\"\n",
    "list(txt)"
   ]
  },
  {
   "cell_type": "code",
   "execution_count": 27,
   "metadata": {},
   "outputs": [
    {
     "name": "stdout",
     "output_type": "stream",
     "text": [
      "12379\n",
      "12351.78\n"
     ]
    }
   ],
   "source": [
    "\n",
    "#3.\tAdd an integer/float with a string using type casting\n",
    "x = 34\n",
    "y = 6.78\n",
    "z = \"12345\"\n",
    "a = x  + int (z)\n",
    "print (a)\n",
    "b = y  + int (z)\n",
    "print (b)\n"
   ]
  },
  {
   "cell_type": "code",
   "execution_count": 35,
   "metadata": {},
   "outputs": [
    {
     "name": "stdout",
     "output_type": "stream",
     "text": [
      "0\n",
      "1\n",
      "2\n",
      "3\n",
      "4\n",
      "5\n",
      "6\n",
      "7\n",
      "8\n"
     ]
    }
   ],
   "source": [
    "#4.\tWrite a simple for loop to iterate through a string and break the iteration before the last iteration\n",
    "i=0\n",
    "for i in range(10):\n",
    "    print(i)\n",
    "    if i==8:\n",
    "        break\n",
    "       "
   ]
  },
  {
   "cell_type": "code",
   "execution_count": 36,
   "metadata": {},
   "outputs": [
    {
     "data": {
      "text/plain": [
       "1"
      ]
     },
     "execution_count": 36,
     "metadata": {},
     "output_type": "execute_result"
    }
   ],
   "source": [
    "#5.\tWrite a function to return the reminder of 2 numbers given through function arguments\n",
    "\n",
    "def rem(x,y):\n",
    "    return x%y\n",
    "\n",
    "rem(7,2)\n"
   ]
  },
  {
   "cell_type": "code",
   "execution_count": 37,
   "metadata": {},
   "outputs": [
    {
     "data": {
      "text/plain": [
       "' return remainder of 2 numbers'"
      ]
     },
     "execution_count": 37,
     "metadata": {},
     "output_type": "execute_result"
    }
   ],
   "source": [
    "#6.\tAdd a docstring to above function and print the same\n",
    "def rem(x,y):\n",
    "    \"\"\" return remainder of 2 numbers\"\"\"\n",
    "    return x%y\n",
    "\n",
    "rem(7,2)\n",
    "rem.__doc__"
   ]
  },
  {
   "cell_type": "code",
   "execution_count": 46,
   "metadata": {},
   "outputs": [
    {
     "name": "stdout",
     "output_type": "stream",
     "text": [
      "Hello! Muthu , hi\n",
      "Hello! Muthu , How are you?\n",
      "hello Divya ! Mumbai\n"
     ]
    }
   ],
   "source": [
    "#7.\tWrite a function with one and 2 default arguments and print the same.\n",
    "def greet(name,txt=\"hi\"):\n",
    "    print(\"Hello!\",name,\",\",txt)\n",
    "\n",
    "def greet_1(name,address=\"chennai\",txt=\"hello\"):\n",
    "    print(txt,name,\"!\",address)\n",
    "    \n",
    "greet(\"Muthu\")  \n",
    "greet(\"Muthu\",\"How are you?\")\n",
    "greet_1(\"Divya\",\"Mumbai\")"
   ]
  },
  {
   "cell_type": "code",
   "execution_count": null,
   "metadata": {},
   "outputs": [],
   "source": [
    "#8.\tCan a non-default arg follow a default argument? Can two default args be mixed while calling a function? If we mix a default argument and positional argument, what is the constraint?\n",
    "#No \n",
    "#2 default arguments can be mixed\n",
    "#default argument should follow non-default / positional arg\n",
    "\n"
   ]
  },
  {
   "cell_type": "code",
   "execution_count": 49,
   "metadata": {},
   "outputs": [
    {
     "data": {
      "text/plain": [
       "1.0"
      ]
     },
     "execution_count": 49,
     "metadata": {},
     "output_type": "execute_result"
    }
   ],
   "source": [
    "#9.\tWrite a lambda function to add first to number, then divide the sum by third number. \n",
    "result=lambda x,y,z:(x+y)/z\n",
    "result(1,2,3)"
   ]
  },
  {
   "cell_type": "code",
   "execution_count": 50,
   "metadata": {},
   "outputs": [
    {
     "name": "stdout",
     "output_type": "stream",
     "text": [
      "[1, 3, 5, 7, 9, 11, 13, 15, 17, 19]\n"
     ]
    }
   ],
   "source": [
    "#10.\tCreate a list of first 20 numbers using a range function, then use a filter function to output the odd numbers\n",
    "\n",
    "my_list=list(range(20))\n",
    "result=list(filter(lambda x : x%2 !=0,my_list)) \n",
    "print(result)"
   ]
  },
  {
   "cell_type": "code",
   "execution_count": 10,
   "metadata": {},
   "outputs": [
    {
     "name": "stdout",
     "output_type": "stream",
     "text": [
      "[1, 4, 9, 16, 25]\n"
     ]
    }
   ],
   "source": [
    "#11.\tCreate a list of 5 numbers and use a lambda function to square each number in a list\n",
    "\n",
    "my_list=list(range(1,6))\n",
    "result=list(map(lambda x : x**2 ,my_list))\n",
    "print(result)"
   ]
  },
  {
   "cell_type": "code",
   "execution_count": 13,
   "metadata": {},
   "outputs": [
    {
     "name": "stdout",
     "output_type": "stream",
     "text": [
      "25\n"
     ]
    }
   ],
   "source": [
    "#12.\tUse the ‘global’ keyword to modify a global variable of value ‘5’, then square it and print the output\n",
    "x=5\n",
    "def square(num):\n",
    "    global x\n",
    "    x=pow(x,2)\n",
    "    print(x)\n",
    "    \n",
    "square(5) \n",
    "    "
   ]
  },
  {
   "cell_type": "code",
   "execution_count": 26,
   "metadata": {},
   "outputs": [
    {
     "name": "stdout",
     "output_type": "stream",
     "text": [
      "[1, 2, 3, 7, 8, 9]\n",
      "[10, 1, 2, 3, 7, 8, 9]\n",
      "[10, 1, 2, 3, 7, 8, 20, 30, 9]\n"
     ]
    }
   ],
   "source": [
    "#13.\t Perform list concatenation of 2 lists, then add one element in the beginning of the concatenated list and add 2 elements before the last element of the list\n",
    "list1=[1,2,3]\n",
    "list2=[7,8,9]\n",
    "new_list=list1 + list2\n",
    "print(new_list)\n",
    "new_list.insert(0,10)\n",
    "print(new_list)\n",
    "new_list.insert(6,20)\n",
    "new_list.insert(7,30)\n",
    "print(new_list)"
   ]
  },
  {
   "cell_type": "code",
   "execution_count": 30,
   "metadata": {},
   "outputs": [
    {
     "name": "stdout",
     "output_type": "stream",
     "text": [
      "[1, 3, 5, 7, 9]\n"
     ]
    }
   ],
   "source": [
    "#14.\tCreate a list 0 to 10 and remove all even numbers using ‘remove’ method (Use ‘for’ and ‘if)\n",
    "list1=[]\n",
    "for i in range(11):\n",
    "    if i%2 !=0:\n",
    "        list1.append(i)\n",
    "print(list1)        \n",
    "        "
   ]
  },
  {
   "cell_type": "code",
   "execution_count": 33,
   "metadata": {},
   "outputs": [
    {
     "data": {
      "text/plain": [
       "[15, 16, 17, 18, 19, 20]"
      ]
     },
     "execution_count": 33,
     "metadata": {},
     "output_type": "execute_result"
    }
   ],
   "source": [
    "#15.\tRemove first 5 elements in a list of numbers 10 to 20 using list comprehension\n",
    "lst = [x for x in range(10,21) if x>14]\n",
    "lst"
   ]
  },
  {
   "cell_type": "code",
   "execution_count": 37,
   "metadata": {},
   "outputs": [
    {
     "data": {
      "text/plain": [
       "['Python Language', 'Python Programming', 'R Language', 'R Programming']"
      ]
     },
     "execution_count": 37,
     "metadata": {},
     "output_type": "execute_result"
    }
   ],
   "source": [
    "#16.\tIf x = [‘Python ’, ‘R ’] and y = [‘Language’, ‘Programming], using list comprehension print the following: ['Python Language', 'Python Programming', 'R Language', 'R Programming']\n",
    "result = [x+y for x in ['Python ','R '] for y in ['Language','Programming']]\n",
    "result                                        "
   ]
  },
  {
   "cell_type": "code",
   "execution_count": 39,
   "metadata": {},
   "outputs": [
    {
     "name": "stdout",
     "output_type": "stream",
     "text": [
      "44\n",
      "56\n",
      "77\n",
      "(88,)\n"
     ]
    },
    {
     "data": {
      "text/plain": [
       "tuple"
      ]
     },
     "execution_count": 39,
     "metadata": {},
     "output_type": "execute_result"
    }
   ],
   "source": [
    "#17.\tCreate a tuple (of 3 elements) without parenthesis and unpack each element. \n",
    "# Also create a tuple with just one value in it\n",
    "tup=44,56,77\n",
    "for e in tup:\n",
    "    print(e)\n",
    "\n",
    "    \n",
    "tup1=88,\n",
    "print(tup1)\n",
    "type(tup1)"
   ]
  },
  {
   "cell_type": "code",
   "execution_count": 41,
   "metadata": {},
   "outputs": [
    {
     "name": "stdout",
     "output_type": "stream",
     "text": [
      "('Hello', 1, 4, ['Hi', 78, 9.7])\n",
      "('Hello', 1, 4, ['Hi', 10, 9.7])\n"
     ]
    }
   ],
   "source": [
    "#18.\tIs there a way to change the elements of a tuple? Code an example\n",
    "#Yes. If the elements of a tuple are mutable say list then those can be changed\n",
    "tup = (\"Hello\",1,4,[\"Hi\",78,9.7])\n",
    "print(tup)\n",
    "tup[3][1]=10\n",
    "print(tup)"
   ]
  },
  {
   "cell_type": "code",
   "execution_count": 49,
   "metadata": {},
   "outputs": [
    {
     "name": "stdout",
     "output_type": "stream",
     "text": [
      "What’s up, guys! How’s it going?\n",
      "What's up, guys! How's it going?\n",
      "What’s up, guys! How’s it going?\n"
     ]
    }
   ],
   "source": [
    "#19.\tUsing escape sequence, print the following: What’s up, guys! How’s it going?\n",
    "\n",
    "print(\"\"\"What’s up, guys! How’s it going?\"\"\")\n",
    "print('What\\'s up, guys! How\\'s it going?')\n",
    "print(r'What’s up, guys! How’s it going?')\n"
   ]
  },
  {
   "cell_type": "code",
   "execution_count": 51,
   "metadata": {},
   "outputs": [],
   "source": [
    "#20.\tCan we use insert method in a set to modify? Explain why? \n",
    "# No.Insert method is used to add element at desired location using index.\n",
    "#set is unordered collection of unique elements.so indexing has no meaning.\n"
   ]
  },
  {
   "cell_type": "code",
   "execution_count": null,
   "metadata": {},
   "outputs": [],
   "source": []
  }
 ],
 "metadata": {
  "kernelspec": {
   "display_name": "Python 3",
   "language": "python",
   "name": "python3"
  },
  "language_info": {
   "codemirror_mode": {
    "name": "ipython",
    "version": 3
   },
   "file_extension": ".py",
   "mimetype": "text/x-python",
   "name": "python",
   "nbconvert_exporter": "python",
   "pygments_lexer": "ipython3",
   "version": "3.7.1"
  }
 },
 "nbformat": 4,
 "nbformat_minor": 2
}
