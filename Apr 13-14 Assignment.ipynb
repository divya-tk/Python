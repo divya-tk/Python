{
 "cells": [
  {
   "cell_type": "code",
   "execution_count": 10,
   "metadata": {},
   "outputs": [
    {
     "name": "stdout",
     "output_type": "stream",
     "text": [
      "0    11\n",
      "1    12\n",
      "2    13\n",
      "3    14\n",
      "4    15\n",
      "5    16\n",
      "6    17\n",
      "7    18\n",
      "8    19\n",
      "9    20\n",
      "dtype: int32\n"
     ]
    },
    {
     "data": {
      "text/plain": [
       "0     1\n",
       "1     2\n",
       "2     3\n",
       "3     4\n",
       "4     5\n",
       "5     6\n",
       "6     7\n",
       "7     8\n",
       "8     9\n",
       "9    10\n",
       "dtype: int64"
      ]
     },
     "execution_count": 10,
     "metadata": {},
     "output_type": "execute_result"
    }
   ],
   "source": [
    "#1.\tCreate a series using a list (my_list) and an array (my_arr). Both can be of length 10\n",
    "import numpy as np\n",
    "import pandas as pd\n",
    "x=np.array([11,12,13,14,15,16,17,18,19,20])\n",
    "my_arr=pd.Series(x)\n",
    "print(my_arr)\n",
    "\n",
    "my_list=pd.Series([1,2,3,4,5,6,7,8,9,10])\n",
    "my_list"
   ]
  },
  {
   "cell_type": "code",
   "execution_count": 6,
   "metadata": {},
   "outputs": [
    {
     "data": {
      "text/plain": [
       "0     1\n",
       "1     2\n",
       "2     3\n",
       "3     4\n",
       "4     5\n",
       "5     6\n",
       "6     7\n",
       "7     8\n",
       "8     9\n",
       "9    10\n",
       "dtype: int64"
      ]
     },
     "execution_count": 6,
     "metadata": {},
     "output_type": "execute_result"
    }
   ],
   "source": [
    "#2.\tCreate a series using a dictionary from above my_list and my_arr as key and value pairs\n",
    "#(Hint: my_dict = dict(zip(my_list, my_arr))"
   ]
  },
  {
   "cell_type": "code",
   "execution_count": 13,
   "metadata": {},
   "outputs": [
    {
     "name": "stdout",
     "output_type": "stream",
     "text": [
      "{1: 11, 2: 12, 3: 13, 4: 14, 5: 15, 6: 16, 7: 17, 8: 18, 9: 19, 10: 20}\n"
     ]
    },
    {
     "data": {
      "text/plain": [
       "1     11\n",
       "2     12\n",
       "3     13\n",
       "4     14\n",
       "5     15\n",
       "6     16\n",
       "7     17\n",
       "8     18\n",
       "9     19\n",
       "10    20\n",
       "dtype: int64"
      ]
     },
     "execution_count": 13,
     "metadata": {},
     "output_type": "execute_result"
    }
   ],
   "source": [
    "my_dict=dict(zip(my_list,my_arr))\n",
    "print(my_dict)\n",
    "pd.Series(my_dict)"
   ]
  },
  {
   "cell_type": "code",
   "execution_count": 67,
   "metadata": {},
   "outputs": [
    {
     "data": {
      "text/html": [
       "<div>\n",
       "<style scoped>\n",
       "    .dataframe tbody tr th:only-of-type {\n",
       "        vertical-align: middle;\n",
       "    }\n",
       "\n",
       "    .dataframe tbody tr th {\n",
       "        vertical-align: top;\n",
       "    }\n",
       "\n",
       "    .dataframe thead th {\n",
       "        text-align: right;\n",
       "    }\n",
       "</style>\n",
       "<table border=\"1\" class=\"dataframe\">\n",
       "  <thead>\n",
       "    <tr style=\"text-align: right;\">\n",
       "      <th></th>\n",
       "      <th>0</th>\n",
       "      <th>1</th>\n",
       "      <th>2</th>\n",
       "    </tr>\n",
       "  </thead>\n",
       "  <tbody>\n",
       "    <tr>\n",
       "      <th>0</th>\n",
       "      <td>6.7</td>\n",
       "      <td>45</td>\n",
       "      <td>Muthu</td>\n",
       "    </tr>\n",
       "    <tr>\n",
       "      <th>1</th>\n",
       "      <td>8.9</td>\n",
       "      <td>76</td>\n",
       "      <td>Naresh</td>\n",
       "    </tr>\n",
       "    <tr>\n",
       "      <th>2</th>\n",
       "      <td>9.5</td>\n",
       "      <td>88</td>\n",
       "      <td>Divya</td>\n",
       "    </tr>\n",
       "  </tbody>\n",
       "</table>\n",
       "</div>"
      ],
      "text/plain": [
       "     0   1       2\n",
       "0  6.7  45   Muthu\n",
       "1  8.9  76  Naresh\n",
       "2  9.5  88   Divya"
      ]
     },
     "execution_count": 67,
     "metadata": {},
     "output_type": "execute_result"
    }
   ],
   "source": [
    "#3.\tCreate 3 series of different data types and concatenate them across axis = 1\n",
    "# dic={'x':2,'y':3}\n",
    "# float_series=pd.Series(dic,index=['x','y','z'])\n",
    "int_series=pd.Series([45,76,88])\n",
    "float_series=pd.Series([6.7,8.9,9.5])\n",
    "string_series=pd.Series([\"Muthu\",\"Naresh\",\"Divya\"])\n",
    "pd.concat([float_series,int_series,string_series],axis=1)\n",
    "\n"
   ]
  },
  {
   "cell_type": "code",
   "execution_count": 54,
   "metadata": {},
   "outputs": [
    {
     "name": "stdout",
     "output_type": "stream",
     "text": [
      "    Name    address  age\n",
      "0  Muthu     Nellai   31\n",
      "1    Div  Nagercoil   30\n",
      "2   Naru    chennai    3\n",
      "    Name  Age    Address\n",
      "x  Muthu   45    Chennai\n",
      "y    Div   56     Nellai\n",
      "z   Naru   76  Nagercoil\n"
     ]
    }
   ],
   "source": [
    "#4.\tCreate a data frame using a list of list and dictionary using a forced index\n",
    "sales=[{'Name':'Muthu','age':31 ,'address':\"Nellai\"},{'Name':'Div','age':30 ,'address':\"Nagercoil\"},{'Name':'Naru','age':3 ,'address':\"chennai\"}]\n",
    "s1=pd.DataFrame(sales)\n",
    "print(s1)\n",
    "\n",
    "sales={'Name':[\"Muthu\",\"Div\",\"Naru\"] , \"Age\":[45,56,76] , \"Address\":[\"Chennai\",\"Nellai\",\"Nagercoil\"]}\n",
    "df1=pd.DataFrame(sales,index=['x','y','z'])\n",
    "print(df1)"
   ]
  },
  {
   "cell_type": "code",
   "execution_count": 104,
   "metadata": {},
   "outputs": [
    {
     "name": "stdout",
     "output_type": "stream",
     "text": [
      "   a  b\n",
      "1  3  7\n",
      "2  4  8\n"
     ]
    },
    {
     "data": {
      "text/html": [
       "<div>\n",
       "<style scoped>\n",
       "    .dataframe tbody tr th:only-of-type {\n",
       "        vertical-align: middle;\n",
       "    }\n",
       "\n",
       "    .dataframe tbody tr th {\n",
       "        vertical-align: top;\n",
       "    }\n",
       "\n",
       "    .dataframe thead th {\n",
       "        text-align: right;\n",
       "    }\n",
       "</style>\n",
       "<table border=\"1\" class=\"dataframe\">\n",
       "  <thead>\n",
       "    <tr style=\"text-align: right;\">\n",
       "      <th></th>\n",
       "      <th>a</th>\n",
       "      <th>b</th>\n",
       "      <th>sum</th>\n",
       "      <th>diff</th>\n",
       "      <th>div</th>\n",
       "    </tr>\n",
       "  </thead>\n",
       "  <tbody>\n",
       "    <tr>\n",
       "      <th>1</th>\n",
       "      <td>3</td>\n",
       "      <td>7</td>\n",
       "      <td>10</td>\n",
       "      <td>4</td>\n",
       "      <td>2</td>\n",
       "    </tr>\n",
       "    <tr>\n",
       "      <th>2</th>\n",
       "      <td>4</td>\n",
       "      <td>8</td>\n",
       "      <td>12</td>\n",
       "      <td>4</td>\n",
       "      <td>2</td>\n",
       "    </tr>\n",
       "  </tbody>\n",
       "</table>\n",
       "</div>"
      ],
      "text/plain": [
       "   a  b  sum  diff  div\n",
       "1  3  7   10     4    2\n",
       "2  4  8   12     4    2"
      ]
     },
     "execution_count": 104,
     "metadata": {},
     "output_type": "execute_result"
    }
   ],
   "source": [
    "#5.\tCreate a data frame with 2 integer columns and perform at least 3 numerical operation and storing them as adjacent columns. \n",
    "#Your final df should contain 5 columns\n",
    "dic={'a':[3,4],'b':[7,8]}\n",
    "df=pd.DataFrame(dic,index=[1,2])\n",
    "print(df)\n",
    "df['sum']=df['b']+df['a']\n",
    "df['diff']=df['b']-df['a']\n",
    "df['div']=df['b']//df['a']\n",
    "df"
   ]
  },
  {
   "cell_type": "code",
   "execution_count": 105,
   "metadata": {},
   "outputs": [
    {
     "name": "stdout",
     "output_type": "stream",
     "text": [
      "   a  b  diff\n",
      "1  3  7     4\n",
      "2  4  8     4\n",
      "   a  b  sum  div\n",
      "1  3  7   10    2\n",
      "2  4  8   12    2\n"
     ]
    }
   ],
   "source": [
    "#6.\tDelete 2 columns using del and drop function\n",
    "\n",
    "df1=df.drop(['sum','div'],axis=1)\n",
    "print(df1)\n",
    "\n",
    "del df[\"diff\"]\n",
    "print(df)\n",
    "\n"
   ]
  },
  {
   "cell_type": "code",
   "execution_count": 222,
   "metadata": {},
   "outputs": [
    {
     "name": "stdout",
     "output_type": "stream",
     "text": [
      "    Names  Ages  Favourite  Rating  Score\n",
      "1    Naru    45        Tea      11     10\n",
      "2     Div    56     coffee      12     20\n",
      "3   Muthu    67      choco      13     30\n",
      "4    vani    78      papad      14     40\n",
      "5   krish    89      pulav      15     50\n",
      "6    diva    12      Maagi      16     60\n",
      "7    Achu    23  ice-cream      17     70\n",
      "8    Ishu    34     baloon      18     80\n",
      "9     Uma    33    animals      19     90\n",
      "10   Babu    32      birds      20    100\n"
     ]
    },
    {
     "data": {
      "text/html": [
       "<div>\n",
       "<style scoped>\n",
       "    .dataframe tbody tr th:only-of-type {\n",
       "        vertical-align: middle;\n",
       "    }\n",
       "\n",
       "    .dataframe tbody tr th {\n",
       "        vertical-align: top;\n",
       "    }\n",
       "\n",
       "    .dataframe thead th {\n",
       "        text-align: right;\n",
       "    }\n",
       "</style>\n",
       "<table border=\"1\" class=\"dataframe\">\n",
       "  <thead>\n",
       "    <tr style=\"text-align: right;\">\n",
       "      <th></th>\n",
       "      <th>Names</th>\n",
       "      <th>Ages</th>\n",
       "      <th>Favourite</th>\n",
       "      <th>Rating</th>\n",
       "      <th>Score</th>\n",
       "    </tr>\n",
       "  </thead>\n",
       "  <tbody>\n",
       "    <tr>\n",
       "      <th>6</th>\n",
       "      <td>diva</td>\n",
       "      <td>12</td>\n",
       "      <td>Maagi</td>\n",
       "      <td>16</td>\n",
       "      <td>60</td>\n",
       "    </tr>\n",
       "    <tr>\n",
       "      <th>7</th>\n",
       "      <td>Achu</td>\n",
       "      <td>23</td>\n",
       "      <td>ice-cream</td>\n",
       "      <td>17</td>\n",
       "      <td>70</td>\n",
       "    </tr>\n",
       "    <tr>\n",
       "      <th>8</th>\n",
       "      <td>Ishu</td>\n",
       "      <td>34</td>\n",
       "      <td>baloon</td>\n",
       "      <td>18</td>\n",
       "      <td>80</td>\n",
       "    </tr>\n",
       "    <tr>\n",
       "      <th>9</th>\n",
       "      <td>Uma</td>\n",
       "      <td>33</td>\n",
       "      <td>animals</td>\n",
       "      <td>19</td>\n",
       "      <td>90</td>\n",
       "    </tr>\n",
       "    <tr>\n",
       "      <th>10</th>\n",
       "      <td>Babu</td>\n",
       "      <td>32</td>\n",
       "      <td>birds</td>\n",
       "      <td>20</td>\n",
       "      <td>100</td>\n",
       "    </tr>\n",
       "  </tbody>\n",
       "</table>\n",
       "</div>"
      ],
      "text/plain": [
       "   Names  Ages  Favourite  Rating  Score\n",
       "6   diva    12      Maagi      16     60\n",
       "7   Achu    23  ice-cream      17     70\n",
       "8   Ishu    34     baloon      18     80\n",
       "9    Uma    33    animals      19     90\n",
       "10  Babu    32      birds      20    100"
      ]
     },
     "execution_count": 222,
     "metadata": {},
     "output_type": "execute_result"
    }
   ],
   "source": [
    "#7.\tCreate a data frame with shape 10x5 and extract only those records that are beyond row# 5\n",
    "sample={\"Names\":[\"Naru\",\"Div\",\"Muthu\",\"vani\",\"krish\",\"diva\",\"Achu\",\"Ishu\",\"Uma\",\"Babu\"],\"Ages\":[45,56,67,78,89,12,23,34,33,32],\n",
    "       \"Favourite\":[\"Tea\",\"coffee\",\"choco\",\"papad\",\"pulav\",\"Maagi\",\"ice-cream\",\"baloon\",\"animals\",\"birds\"],\n",
    "       \"Rating\":[11,12,13,14,15,16,17,18,19,20],\"Score\":[10,20,30,40,50,60,70,80,90,100]}\n",
    "df_x=pd.DataFrame(sample,index=[1,2,3,4,5,6,7,8,9,10])\n",
    "print(df_x)\n",
    "df_x.loc[6:,]"
   ]
  },
  {
   "cell_type": "code",
   "execution_count": 207,
   "metadata": {},
   "outputs": [
    {
     "name": "stdout",
     "output_type": "stream",
     "text": [
      "0    1\n",
      "1    2\n",
      "2    3\n",
      "dtype: int64\n",
      "0    5\n",
      "dtype: int64\n",
      "0    1\n",
      "1    2\n",
      "2    3\n",
      "0    5\n",
      "dtype: int64\n"
     ]
    },
    {
     "data": {
      "text/html": [
       "<div>\n",
       "<style scoped>\n",
       "    .dataframe tbody tr th:only-of-type {\n",
       "        vertical-align: middle;\n",
       "    }\n",
       "\n",
       "    .dataframe tbody tr th {\n",
       "        vertical-align: top;\n",
       "    }\n",
       "\n",
       "    .dataframe thead th {\n",
       "        text-align: right;\n",
       "    }\n",
       "</style>\n",
       "<table border=\"1\" class=\"dataframe\">\n",
       "  <thead>\n",
       "    <tr style=\"text-align: right;\">\n",
       "      <th></th>\n",
       "      <th>index</th>\n",
       "      <th>0</th>\n",
       "    </tr>\n",
       "  </thead>\n",
       "  <tbody>\n",
       "    <tr>\n",
       "      <th>0</th>\n",
       "      <td>0</td>\n",
       "      <td>1</td>\n",
       "    </tr>\n",
       "    <tr>\n",
       "      <th>1</th>\n",
       "      <td>1</td>\n",
       "      <td>2</td>\n",
       "    </tr>\n",
       "    <tr>\n",
       "      <th>2</th>\n",
       "      <td>2</td>\n",
       "      <td>3</td>\n",
       "    </tr>\n",
       "    <tr>\n",
       "      <th>3</th>\n",
       "      <td>0</td>\n",
       "      <td>5</td>\n",
       "    </tr>\n",
       "  </tbody>\n",
       "</table>\n",
       "</div>"
      ],
      "text/plain": [
       "   index  0\n",
       "0      0  1\n",
       "1      1  2\n",
       "2      2  3\n",
       "3      0  5"
      ]
     },
     "execution_count": 207,
     "metadata": {},
     "output_type": "execute_result"
    }
   ],
   "source": [
    "#8.\tAdd a last row in a data frame and reset their index\n",
    "df1=pd.Series([1,2,3])\n",
    "print(df1)\n",
    "df2=pd.Series([5])\n",
    "print(df2)\n",
    "df=df1.append(df2)\n",
    "print(df)\n",
    "df=df.reset_index()\n",
    "df\n"
   ]
  },
  {
   "cell_type": "code",
   "execution_count": 248,
   "metadata": {},
   "outputs": [
    {
     "name": "stdout",
     "output_type": "stream",
     "text": [
      "    Names  Ages  Favourite  Rating  Score\n",
      "1    Naru    45        Tea      11     10\n",
      "2     Div    56     coffee      12     20\n",
      "3   Muthu    67      choco      13     30\n",
      "4    vani    78      papad      14     40\n",
      "5   krish    89      pulav      15     50\n",
      "6    diva    12      Maagi      16     70\n",
      "7    Achu    23  ice-cream      17     70\n",
      "8    Ishu    34     baloon      18     80\n",
      "9     Uma    33    animals      19     90\n",
      "10   Babu    32      birds      20    100\n"
     ]
    },
    {
     "data": {
      "text/html": [
       "<div>\n",
       "<style scoped>\n",
       "    .dataframe tbody tr th:only-of-type {\n",
       "        vertical-align: middle;\n",
       "    }\n",
       "\n",
       "    .dataframe tbody tr th {\n",
       "        vertical-align: top;\n",
       "    }\n",
       "\n",
       "    .dataframe thead th {\n",
       "        text-align: right;\n",
       "    }\n",
       "</style>\n",
       "<table border=\"1\" class=\"dataframe\">\n",
       "  <thead>\n",
       "    <tr style=\"text-align: right;\">\n",
       "      <th></th>\n",
       "      <th>Favourite</th>\n",
       "      <th>Rating</th>\n",
       "      <th>Score</th>\n",
       "    </tr>\n",
       "  </thead>\n",
       "  <tbody>\n",
       "    <tr>\n",
       "      <th>1</th>\n",
       "      <td>Tea</td>\n",
       "      <td>11</td>\n",
       "      <td>10</td>\n",
       "    </tr>\n",
       "    <tr>\n",
       "      <th>2</th>\n",
       "      <td>coffee</td>\n",
       "      <td>12</td>\n",
       "      <td>20</td>\n",
       "    </tr>\n",
       "    <tr>\n",
       "      <th>3</th>\n",
       "      <td>choco</td>\n",
       "      <td>13</td>\n",
       "      <td>30</td>\n",
       "    </tr>\n",
       "    <tr>\n",
       "      <th>4</th>\n",
       "      <td>papad</td>\n",
       "      <td>14</td>\n",
       "      <td>40</td>\n",
       "    </tr>\n",
       "    <tr>\n",
       "      <th>5</th>\n",
       "      <td>pulav</td>\n",
       "      <td>15</td>\n",
       "      <td>50</td>\n",
       "    </tr>\n",
       "    <tr>\n",
       "      <th>6</th>\n",
       "      <td>Maagi</td>\n",
       "      <td>16</td>\n",
       "      <td>70</td>\n",
       "    </tr>\n",
       "    <tr>\n",
       "      <th>7</th>\n",
       "      <td>ice-cream</td>\n",
       "      <td>17</td>\n",
       "      <td>70</td>\n",
       "    </tr>\n",
       "    <tr>\n",
       "      <th>8</th>\n",
       "      <td>baloon</td>\n",
       "      <td>18</td>\n",
       "      <td>80</td>\n",
       "    </tr>\n",
       "    <tr>\n",
       "      <th>9</th>\n",
       "      <td>animals</td>\n",
       "      <td>19</td>\n",
       "      <td>90</td>\n",
       "    </tr>\n",
       "    <tr>\n",
       "      <th>10</th>\n",
       "      <td>birds</td>\n",
       "      <td>20</td>\n",
       "      <td>100</td>\n",
       "    </tr>\n",
       "  </tbody>\n",
       "</table>\n",
       "</div>"
      ],
      "text/plain": [
       "    Favourite  Rating  Score\n",
       "1         Tea      11     10\n",
       "2      coffee      12     20\n",
       "3       choco      13     30\n",
       "4       papad      14     40\n",
       "5       pulav      15     50\n",
       "6       Maagi      16     70\n",
       "7   ice-cream      17     70\n",
       "8      baloon      18     80\n",
       "9     animals      19     90\n",
       "10      birds      20    100"
      ]
     },
     "execution_count": 248,
     "metadata": {},
     "output_type": "execute_result"
    }
   ],
   "source": [
    "#9.\tSlice all the rows but last 3 columns\n",
    "sample={\"Names\":[\"Naru\",\"Div\",\"Muthu\",\"vani\",\"krish\",\"diva\",\"Achu\",\"Ishu\",\"Uma\",\"Babu\"],\"Ages\":[45,56,67,78,89,12,23,34,33,32],\n",
    "       \"Favourite\":[\"Tea\",\"coffee\",\"choco\",\"papad\",\"pulav\",\"Maagi\",\"ice-cream\",\"baloon\",\"animals\",\"birds\"],\n",
    "       \"Rating\":[11,12,13,14,15,16,17,18,19,20],\"Score\":[10,20,30,40,50,70,70,80,90,100]}\n",
    "df_x=pd.DataFrame(sample,index=[1,2,3,4,5,6,7,8,9,10])\n",
    "print(df_x)\n",
    "df=df_x.iloc[:,2:]\n",
    "df"
   ]
  },
  {
   "cell_type": "code",
   "execution_count": 249,
   "metadata": {},
   "outputs": [
    {
     "name": "stdout",
     "output_type": "stream",
     "text": [
      "   Names  Ages Favourite  Rating  Score\n",
      "1   Naru    45       Tea      11     10\n",
      "2    Div    56    coffee      12     20\n",
      "3  Muthu    67     choco      13     30\n",
      "4   vani    78     papad      14     40\n",
      "5  krish    89     pulav      15     50\n",
      "   Names  Ages  Favourite  Rating  Score\n",
      "6   diva    12      Maagi      16     70\n",
      "7   Achu    23  ice-cream      17     70\n",
      "8   Ishu    34     baloon      18     80\n",
      "9    Uma    33    animals      19     90\n",
      "10  Babu    32      birds      20    100\n"
     ]
    }
   ],
   "source": [
    "#10.\tTake first and last 5 observations using pre defined pandas function \n",
    "df_x\n",
    "print(df_x.head())\n",
    "print(df_x.tail())"
   ]
  },
  {
   "cell_type": "code",
   "execution_count": 250,
   "metadata": {},
   "outputs": [
    {
     "name": "stdout",
     "output_type": "stream",
     "text": [
      "50\n",
      "(10, 5)\n"
     ]
    },
    {
     "data": {
      "text/plain": [
       "Names        object\n",
       "Ages          int64\n",
       "Favourite    object\n",
       "Rating        int64\n",
       "Score         int64\n",
       "dtype: object"
      ]
     },
     "execution_count": 250,
     "metadata": {},
     "output_type": "execute_result"
    }
   ],
   "source": [
    "#11.\tUsing any of the existing data frame, implement dtypes, shape and size functions\n",
    "print(df_x.size)\n",
    "print(df_x.shape)\n",
    "df_x.dtypes"
   ]
  },
  {
   "cell_type": "code",
   "execution_count": 251,
   "metadata": {},
   "outputs": [
    {
     "data": {
      "text/plain": [
       "1      66\n",
       "2      88\n",
       "3     110\n",
       "4     132\n",
       "5     154\n",
       "6      98\n",
       "7     110\n",
       "8     132\n",
       "9     142\n",
       "10    152\n",
       "dtype: int64"
      ]
     },
     "execution_count": 251,
     "metadata": {},
     "output_type": "execute_result"
    }
   ],
   "source": [
    "#12.\tCalculate the sum of the values across axis=1 for a data frame.\n",
    "#Here, string columns will be not considered by default while performing calculations\n",
    "df_x.sum(1)"
   ]
  },
  {
   "cell_type": "code",
   "execution_count": 252,
   "metadata": {},
   "outputs": [
    {
     "name": "stdout",
     "output_type": "stream",
     "text": [
      "46.9\n",
      "39.5\n",
      "3.0276503540974917\n",
      "0    70\n",
      "dtype: int64\n"
     ]
    }
   ],
   "source": [
    "#13.\tCalculate mean, median, standard deviation and mode for an integer column of an existing data frame\n",
    "print(df_x[\"Ages\"].mean())\n",
    "print(df_x[\"Ages\"].median())\n",
    "print(df_x[\"Rating\"].std())\n",
    "print(df_x[\"Score\"].mode())"
   ]
  },
  {
   "cell_type": "code",
   "execution_count": 256,
   "metadata": {},
   "outputs": [
    {
     "name": "stdout",
     "output_type": "stream",
     "text": [
      "12\n",
      "89\n"
     ]
    },
    {
     "data": {
      "text/html": [
       "<div>\n",
       "<style scoped>\n",
       "    .dataframe tbody tr th:only-of-type {\n",
       "        vertical-align: middle;\n",
       "    }\n",
       "\n",
       "    .dataframe tbody tr th {\n",
       "        vertical-align: top;\n",
       "    }\n",
       "\n",
       "    .dataframe thead th {\n",
       "        text-align: right;\n",
       "    }\n",
       "</style>\n",
       "<table border=\"1\" class=\"dataframe\">\n",
       "  <thead>\n",
       "    <tr style=\"text-align: right;\">\n",
       "      <th></th>\n",
       "      <th>Ages</th>\n",
       "      <th>Rating</th>\n",
       "      <th>Score</th>\n",
       "    </tr>\n",
       "  </thead>\n",
       "  <tbody>\n",
       "    <tr>\n",
       "      <th>count</th>\n",
       "      <td>10.000000</td>\n",
       "      <td>10.00000</td>\n",
       "      <td>10.000000</td>\n",
       "    </tr>\n",
       "    <tr>\n",
       "      <th>mean</th>\n",
       "      <td>46.900000</td>\n",
       "      <td>15.50000</td>\n",
       "      <td>56.000000</td>\n",
       "    </tr>\n",
       "    <tr>\n",
       "      <th>std</th>\n",
       "      <td>24.946387</td>\n",
       "      <td>3.02765</td>\n",
       "      <td>30.623158</td>\n",
       "    </tr>\n",
       "    <tr>\n",
       "      <th>min</th>\n",
       "      <td>12.000000</td>\n",
       "      <td>11.00000</td>\n",
       "      <td>10.000000</td>\n",
       "    </tr>\n",
       "    <tr>\n",
       "      <th>25%</th>\n",
       "      <td>32.250000</td>\n",
       "      <td>13.25000</td>\n",
       "      <td>32.500000</td>\n",
       "    </tr>\n",
       "    <tr>\n",
       "      <th>50%</th>\n",
       "      <td>39.500000</td>\n",
       "      <td>15.50000</td>\n",
       "      <td>60.000000</td>\n",
       "    </tr>\n",
       "    <tr>\n",
       "      <th>75%</th>\n",
       "      <td>64.250000</td>\n",
       "      <td>17.75000</td>\n",
       "      <td>77.500000</td>\n",
       "    </tr>\n",
       "    <tr>\n",
       "      <th>max</th>\n",
       "      <td>89.000000</td>\n",
       "      <td>20.00000</td>\n",
       "      <td>100.000000</td>\n",
       "    </tr>\n",
       "  </tbody>\n",
       "</table>\n",
       "</div>"
      ],
      "text/plain": [
       "            Ages    Rating       Score\n",
       "count  10.000000  10.00000   10.000000\n",
       "mean   46.900000  15.50000   56.000000\n",
       "std    24.946387   3.02765   30.623158\n",
       "min    12.000000  11.00000   10.000000\n",
       "25%    32.250000  13.25000   32.500000\n",
       "50%    39.500000  15.50000   60.000000\n",
       "75%    64.250000  17.75000   77.500000\n",
       "max    89.000000  20.00000  100.000000"
      ]
     },
     "execution_count": 256,
     "metadata": {},
     "output_type": "execute_result"
    }
   ],
   "source": [
    "#14.\tTake min and max of a column, also describe the basic statistics of a data frame\n",
    "print(df_x[\"Ages\"].min())\n",
    "\n",
    "print(df_x[\"Ages\"].max())\n",
    "df_x.describe()"
   ]
  },
  {
   "cell_type": "code",
   "execution_count": 257,
   "metadata": {},
   "outputs": [
    {
     "data": {
      "text/html": [
       "<div>\n",
       "<style scoped>\n",
       "    .dataframe tbody tr th:only-of-type {\n",
       "        vertical-align: middle;\n",
       "    }\n",
       "\n",
       "    .dataframe tbody tr th {\n",
       "        vertical-align: top;\n",
       "    }\n",
       "\n",
       "    .dataframe thead th {\n",
       "        text-align: right;\n",
       "    }\n",
       "</style>\n",
       "<table border=\"1\" class=\"dataframe\">\n",
       "  <thead>\n",
       "    <tr style=\"text-align: right;\">\n",
       "      <th></th>\n",
       "      <th>Names</th>\n",
       "      <th>co1</th>\n",
       "      <th>Favourite</th>\n",
       "      <th>co2</th>\n",
       "      <th>co3</th>\n",
       "    </tr>\n",
       "  </thead>\n",
       "  <tbody>\n",
       "    <tr>\n",
       "      <th>1</th>\n",
       "      <td>Naru</td>\n",
       "      <td>45</td>\n",
       "      <td>Tea</td>\n",
       "      <td>11</td>\n",
       "      <td>10</td>\n",
       "    </tr>\n",
       "    <tr>\n",
       "      <th>2</th>\n",
       "      <td>Div</td>\n",
       "      <td>56</td>\n",
       "      <td>coffee</td>\n",
       "      <td>12</td>\n",
       "      <td>20</td>\n",
       "    </tr>\n",
       "    <tr>\n",
       "      <th>3</th>\n",
       "      <td>Muthu</td>\n",
       "      <td>67</td>\n",
       "      <td>choco</td>\n",
       "      <td>13</td>\n",
       "      <td>30</td>\n",
       "    </tr>\n",
       "    <tr>\n",
       "      <th>4</th>\n",
       "      <td>vani</td>\n",
       "      <td>78</td>\n",
       "      <td>papad</td>\n",
       "      <td>14</td>\n",
       "      <td>40</td>\n",
       "    </tr>\n",
       "    <tr>\n",
       "      <th>5</th>\n",
       "      <td>krish</td>\n",
       "      <td>89</td>\n",
       "      <td>pulav</td>\n",
       "      <td>15</td>\n",
       "      <td>50</td>\n",
       "    </tr>\n",
       "    <tr>\n",
       "      <th>6</th>\n",
       "      <td>diva</td>\n",
       "      <td>12</td>\n",
       "      <td>Maagi</td>\n",
       "      <td>16</td>\n",
       "      <td>70</td>\n",
       "    </tr>\n",
       "    <tr>\n",
       "      <th>7</th>\n",
       "      <td>Achu</td>\n",
       "      <td>23</td>\n",
       "      <td>ice-cream</td>\n",
       "      <td>17</td>\n",
       "      <td>70</td>\n",
       "    </tr>\n",
       "    <tr>\n",
       "      <th>8</th>\n",
       "      <td>Ishu</td>\n",
       "      <td>34</td>\n",
       "      <td>baloon</td>\n",
       "      <td>18</td>\n",
       "      <td>80</td>\n",
       "    </tr>\n",
       "    <tr>\n",
       "      <th>9</th>\n",
       "      <td>Uma</td>\n",
       "      <td>33</td>\n",
       "      <td>animals</td>\n",
       "      <td>19</td>\n",
       "      <td>90</td>\n",
       "    </tr>\n",
       "    <tr>\n",
       "      <th>10</th>\n",
       "      <td>Babu</td>\n",
       "      <td>32</td>\n",
       "      <td>birds</td>\n",
       "      <td>20</td>\n",
       "      <td>100</td>\n",
       "    </tr>\n",
       "  </tbody>\n",
       "</table>\n",
       "</div>"
      ],
      "text/plain": [
       "    Names  co1  Favourite  co2  co3\n",
       "1    Naru   45        Tea   11   10\n",
       "2     Div   56     coffee   12   20\n",
       "3   Muthu   67      choco   13   30\n",
       "4    vani   78      papad   14   40\n",
       "5   krish   89      pulav   15   50\n",
       "6    diva   12      Maagi   16   70\n",
       "7    Achu   23  ice-cream   17   70\n",
       "8    Ishu   34     baloon   18   80\n",
       "9     Uma   33    animals   19   90\n",
       "10   Babu   32      birds   20  100"
      ]
     },
     "execution_count": 257,
     "metadata": {},
     "output_type": "execute_result"
    }
   ],
   "source": [
    "#15.\tRename the columns with just 3 characters across\n",
    "df_x.rename(columns={\"Ages\":\"co1\",\"Rating\":\"co2\",\"Score\":\"co3\"})"
   ]
  },
  {
   "cell_type": "code",
   "execution_count": 289,
   "metadata": {},
   "outputs": [
    {
     "name": "stdout",
     "output_type": "stream",
     "text": [
      "       col1      col2\n",
      "5  0.453059 -1.116453\n",
      "3 -0.909591  1.406674\n",
      "4  1.748517 -0.043186\n",
      "2 -0.607481  1.263678\n",
      "1 -2.043237  0.671255\n",
      "1   -2.043237\n",
      "2   -0.607481\n",
      "3   -0.909591\n",
      "4    1.748517\n",
      "5    0.453059\n",
      "Name: col1, dtype: float64\n"
     ]
    },
    {
     "data": {
      "text/html": [
       "<div>\n",
       "<style scoped>\n",
       "    .dataframe tbody tr th:only-of-type {\n",
       "        vertical-align: middle;\n",
       "    }\n",
       "\n",
       "    .dataframe tbody tr th {\n",
       "        vertical-align: top;\n",
       "    }\n",
       "\n",
       "    .dataframe thead th {\n",
       "        text-align: right;\n",
       "    }\n",
       "</style>\n",
       "<table border=\"1\" class=\"dataframe\">\n",
       "  <thead>\n",
       "    <tr style=\"text-align: right;\">\n",
       "      <th></th>\n",
       "      <th>index</th>\n",
       "      <th>col1</th>\n",
       "      <th>col2</th>\n",
       "    </tr>\n",
       "  </thead>\n",
       "  <tbody>\n",
       "    <tr>\n",
       "      <th>0</th>\n",
       "      <td>5</td>\n",
       "      <td>0.453059</td>\n",
       "      <td>-1.116453</td>\n",
       "    </tr>\n",
       "    <tr>\n",
       "      <th>1</th>\n",
       "      <td>3</td>\n",
       "      <td>-0.909591</td>\n",
       "      <td>1.406674</td>\n",
       "    </tr>\n",
       "    <tr>\n",
       "      <th>2</th>\n",
       "      <td>4</td>\n",
       "      <td>1.748517</td>\n",
       "      <td>-0.043186</td>\n",
       "    </tr>\n",
       "    <tr>\n",
       "      <th>3</th>\n",
       "      <td>2</td>\n",
       "      <td>-0.607481</td>\n",
       "      <td>1.263678</td>\n",
       "    </tr>\n",
       "    <tr>\n",
       "      <th>4</th>\n",
       "      <td>1</td>\n",
       "      <td>-2.043237</td>\n",
       "      <td>0.671255</td>\n",
       "    </tr>\n",
       "  </tbody>\n",
       "</table>\n",
       "</div>"
      ],
      "text/plain": [
       "   index      col1      col2\n",
       "0      5  0.453059 -1.116453\n",
       "1      3 -0.909591  1.406674\n",
       "2      4  1.748517 -0.043186\n",
       "3      2 -0.607481  1.263678\n",
       "4      1 -2.043237  0.671255"
      ]
     },
     "execution_count": 289,
     "metadata": {},
     "output_type": "execute_result"
    }
   ],
   "source": [
    "#16.\tApply sort to the first column and reset the index\n",
    "df=pd.DataFrame(np.random.randn(5,2),index=[5,3,4,2,1],columns=[\"col1\",\"col2\"])\n",
    "print(df)\n",
    "df1=df[\"col1\"].sort_index()\n",
    "print(df1)\n",
    "df.reset_index()"
   ]
  },
  {
   "cell_type": "code",
   "execution_count": 273,
   "metadata": {},
   "outputs": [
    {
     "name": "stdout",
     "output_type": "stream",
     "text": [
      "    Names  Ages  Favourite  Rating  Score\n",
      "1    Naru    45        Tea      11     10\n",
      "2     Div    56     coffee      12     20\n",
      "3   Muthu    67      choco      13     30\n",
      "4    vani    78      papad      14     40\n",
      "5   krish    89      pulav      15     50\n",
      "6    diva    12      Maagi      16     70\n",
      "7    Achu    23  ice-cream      17     70\n",
      "8    Ishu    34     baloon      18     80\n",
      "9     Uma    33    animals      19     90\n",
      "10   Babu    32      birds      20    100\n"
     ]
    },
    {
     "data": {
      "text/html": [
       "<div>\n",
       "<style scoped>\n",
       "    .dataframe tbody tr th:only-of-type {\n",
       "        vertical-align: middle;\n",
       "    }\n",
       "\n",
       "    .dataframe tbody tr th {\n",
       "        vertical-align: top;\n",
       "    }\n",
       "\n",
       "    .dataframe thead th {\n",
       "        text-align: right;\n",
       "    }\n",
       "</style>\n",
       "<table border=\"1\" class=\"dataframe\">\n",
       "  <thead>\n",
       "    <tr style=\"text-align: right;\">\n",
       "      <th></th>\n",
       "      <th>Rating</th>\n",
       "      <th>Score</th>\n",
       "    </tr>\n",
       "  </thead>\n",
       "  <tbody>\n",
       "    <tr>\n",
       "      <th>1</th>\n",
       "      <td>11</td>\n",
       "      <td>10</td>\n",
       "    </tr>\n",
       "    <tr>\n",
       "      <th>2</th>\n",
       "      <td>12</td>\n",
       "      <td>20</td>\n",
       "    </tr>\n",
       "    <tr>\n",
       "      <th>3</th>\n",
       "      <td>13</td>\n",
       "      <td>30</td>\n",
       "    </tr>\n",
       "    <tr>\n",
       "      <th>4</th>\n",
       "      <td>14</td>\n",
       "      <td>40</td>\n",
       "    </tr>\n",
       "  </tbody>\n",
       "</table>\n",
       "</div>"
      ],
      "text/plain": [
       "   Rating  Score\n",
       "1      11     10\n",
       "2      12     20\n",
       "3      13     30\n",
       "4      14     40"
      ]
     },
     "execution_count": 273,
     "metadata": {},
     "output_type": "execute_result"
    }
   ],
   "source": [
    "#17.\tUsing iloc, take the first 4 observations and last 2 columns\n",
    "print(df_x)\n",
    "df_x.iloc[:4,3:]"
   ]
  },
  {
   "cell_type": "code",
   "execution_count": 298,
   "metadata": {},
   "outputs": [
    {
     "name": "stdout",
     "output_type": "stream",
     "text": [
      "       col1      col2      col3\n",
      "1  0.624197  0.776967 -1.150544\n",
      "2  0.829840 -1.207608 -2.244954\n",
      "3 -1.065637 -0.246311  0.471583\n",
      "4  0.922679  0.826999 -1.218430\n",
      "5 -0.931238 -1.201135 -0.386472\n",
      "       col1      col2      col3\n",
      "3 -1.065637 -0.246311  0.471583\n",
      "4  0.922679  0.826999 -1.218430\n",
      "5 -0.931238 -1.201135 -0.386472\n",
      "6       NaN       NaN       NaN\n",
      "7       NaN       NaN       NaN\n"
     ]
    },
    {
     "data": {
      "text/html": [
       "<div>\n",
       "<style scoped>\n",
       "    .dataframe tbody tr th:only-of-type {\n",
       "        vertical-align: middle;\n",
       "    }\n",
       "\n",
       "    .dataframe tbody tr th {\n",
       "        vertical-align: top;\n",
       "    }\n",
       "\n",
       "    .dataframe thead th {\n",
       "        text-align: right;\n",
       "    }\n",
       "</style>\n",
       "<table border=\"1\" class=\"dataframe\">\n",
       "  <thead>\n",
       "    <tr style=\"text-align: right;\">\n",
       "      <th></th>\n",
       "      <th>col1</th>\n",
       "      <th>col2</th>\n",
       "      <th>col3</th>\n",
       "    </tr>\n",
       "  </thead>\n",
       "  <tbody>\n",
       "    <tr>\n",
       "      <th>3</th>\n",
       "      <td>-1.065637</td>\n",
       "      <td>-0.246311</td>\n",
       "      <td>0.471583</td>\n",
       "    </tr>\n",
       "    <tr>\n",
       "      <th>4</th>\n",
       "      <td>0.922679</td>\n",
       "      <td>0.826999</td>\n",
       "      <td>-1.218430</td>\n",
       "    </tr>\n",
       "    <tr>\n",
       "      <th>5</th>\n",
       "      <td>-0.931238</td>\n",
       "      <td>-1.201135</td>\n",
       "      <td>-0.386472</td>\n",
       "    </tr>\n",
       "    <tr>\n",
       "      <th>6</th>\n",
       "      <td>100.000000</td>\n",
       "      <td>100.000000</td>\n",
       "      <td>100.000000</td>\n",
       "    </tr>\n",
       "    <tr>\n",
       "      <th>7</th>\n",
       "      <td>100.000000</td>\n",
       "      <td>100.000000</td>\n",
       "      <td>100.000000</td>\n",
       "    </tr>\n",
       "  </tbody>\n",
       "</table>\n",
       "</div>"
      ],
      "text/plain": [
       "         col1        col2        col3\n",
       "3   -1.065637   -0.246311    0.471583\n",
       "4    0.922679    0.826999   -1.218430\n",
       "5   -0.931238   -1.201135   -0.386472\n",
       "6  100.000000  100.000000  100.000000\n",
       "7  100.000000  100.000000  100.000000"
      ]
     },
     "execution_count": 298,
     "metadata": {},
     "output_type": "execute_result"
    }
   ],
   "source": [
    "#18.\tCreate a data frame with multiple Nan records and fill them with a generic number\n",
    "df_x=pd.DataFrame(np.random.randn(5,3),index=[1,2,3,4,5],columns=[\"col1\",\"col2\",\"col3\"])\n",
    "print(df_x)\n",
    "df_modified=df_x.reindex([3,4,5,6,7])\n",
    "print(df_modified)\n",
    "df_filled=df_modified.fillna(100)\n",
    "df_filled\n",
    "\n"
   ]
  },
  {
   "cell_type": "code",
   "execution_count": 303,
   "metadata": {},
   "outputs": [
    {
     "name": "stdout",
     "output_type": "stream",
     "text": [
      "col1    2\n",
      "col2    2\n",
      "col3    2\n",
      "dtype: int64\n",
      "2\n"
     ]
    }
   ],
   "source": [
    "#19.\tCount the number of null records in a column\n",
    "print(df_modified.isna().sum())\n",
    "print(df_modified[\"col2\"].isnull().sum())"
   ]
  },
  {
   "cell_type": "code",
   "execution_count": 317,
   "metadata": {},
   "outputs": [
    {
     "name": "stdout",
     "output_type": "stream",
     "text": [
      "   id Names  Scores\n",
      "0  67  diva      77\n",
      "1  78   div      66\n",
      "2  89  vani      99\n",
      "   id  Names  Scores\n",
      "0  90  krish      77\n",
      "1  79    div     100\n",
      "2  89   vani      99\n"
     ]
    }
   ],
   "source": [
    "#20.\tPlease implement the group by and merge function with multiple conditions and get accustomed to it.\n",
    "df_x=pd.DataFrame({\"id\":[67,78,89],\"Names\":[\"diva\",\"div\",\"vani\"],\"Scores\":[77,66,99]})\n",
    "print(df_x)\n",
    "df_y=pd.DataFrame({\"id\":[90,79,89],\"Names\":[\"krish\",\"div\",\"vani\"],\"Scores\":[77,100,99]})\n",
    "print(df_y)\n",
    "\n"
   ]
  },
  {
   "cell_type": "code",
   "execution_count": 318,
   "metadata": {},
   "outputs": [
    {
     "name": "stdout",
     "output_type": "stream",
     "text": [
      "   id Names_x  Scores Names_y\n",
      "0  89    vani      99    vani\n",
      "   id Names_x  Scores Names_y\n",
      "0  89    vani      99    vani\n",
      "1  90     NaN      77   krish\n",
      "2  79     NaN     100     div\n",
      "   id Names_x  Scores Names_y\n",
      "0  67    diva      77     NaN\n",
      "1  78     div      66     NaN\n",
      "2  89    vani      99    vani\n"
     ]
    }
   ],
   "source": [
    "print(pd.merge(df_x,df_y,on=[\"id\",\"Scores\"]))\n",
    "\n"
   ]
  },
  {
   "cell_type": "code",
   "execution_count": 320,
   "metadata": {},
   "outputs": [
    {
     "name": "stdout",
     "output_type": "stream",
     "text": [
      "   id Names  Scores\n",
      "0  67  diva      77\n",
      "1  78   div      66\n",
      "2  89  vani      99\n",
      "   id  Names  Scores\n",
      "0  90  krish      77\n",
      "1  79    div     100\n",
      "2  89   vani      99\n",
      "   id Names_x  Scores Names_y\n",
      "0  89    vani      99    vani\n",
      "1  90     NaN      77   krish\n",
      "2  79     NaN     100     div\n",
      "   id Names_x  Scores Names_y\n",
      "0  67    diva      77     NaN\n",
      "1  78     div      66     NaN\n",
      "2  89    vani      99    vani\n"
     ]
    }
   ],
   "source": [
    "print(df_x)\n",
    "print(df_y)\n",
    "print(pd.merge(df_x,df_y,on=[\"id\",\"Scores\"],how=\"right\"))\n",
    "print(pd.merge(df_x,df_y,on=[\"id\",\"Scores\"],how=\"left\"))"
   ]
  },
  {
   "cell_type": "code",
   "execution_count": 322,
   "metadata": {},
   "outputs": [
    {
     "name": "stdout",
     "output_type": "stream",
     "text": [
      "    Names  Ages  Favourite  Rating  Score\n",
      "1    Naru    45        Tea      11     10\n",
      "2     Div    56     coffee      12     20\n",
      "3   Muthu    67      choco      13     30\n",
      "4    vani    78      papad      14     40\n",
      "5   krish    89      pulav      15     50\n",
      "6    diva    12      Maagi      16     70\n",
      "7    Achu    23  ice-cream      17     70\n",
      "8    Ishu    34     baloon      18     80\n",
      "9     Uma    33    animals      19     90\n",
      "10   Babu    32      birds      20    100\n"
     ]
    },
    {
     "data": {
      "text/plain": [
       "Score\n",
       "10     45\n",
       "20     56\n",
       "30     67\n",
       "40     78\n",
       "50     89\n",
       "70     35\n",
       "80     34\n",
       "90     33\n",
       "100    32\n",
       "Name: Ages, dtype: int64"
      ]
     },
     "execution_count": 322,
     "metadata": {},
     "output_type": "execute_result"
    }
   ],
   "source": [
    "sample={\"Names\":[\"Naru\",\"Div\",\"Muthu\",\"vani\",\"krish\",\"diva\",\"Achu\",\"Ishu\",\"Uma\",\"Babu\"],\"Ages\":[45,56,67,78,89,12,23,34,33,32],\n",
    "       \"Favourite\":[\"Tea\",\"coffee\",\"choco\",\"papad\",\"pulav\",\"Maagi\",\"ice-cream\",\"baloon\",\"animals\",\"birds\"],\n",
    "       \"Rating\":[11,12,13,14,15,16,17,18,19,20],\"Score\":[10,20,30,40,50,70,70,80,90,100]}\n",
    "df_x=pd.DataFrame(sample,index=[1,2,3,4,5,6,7,8,9,10])\n",
    "print(df_x)\n",
    "df_x.groupby([\"Score\"])[\"Ages\"].sum()"
   ]
  },
  {
   "cell_type": "code",
   "execution_count": 324,
   "metadata": {},
   "outputs": [
    {
     "data": {
      "text/html": [
       "<div>\n",
       "<style scoped>\n",
       "    .dataframe tbody tr th:only-of-type {\n",
       "        vertical-align: middle;\n",
       "    }\n",
       "\n",
       "    .dataframe tbody tr th {\n",
       "        vertical-align: top;\n",
       "    }\n",
       "\n",
       "    .dataframe thead th {\n",
       "        text-align: right;\n",
       "    }\n",
       "</style>\n",
       "<table border=\"1\" class=\"dataframe\">\n",
       "  <thead>\n",
       "    <tr style=\"text-align: right;\">\n",
       "      <th></th>\n",
       "      <th>Ages</th>\n",
       "    </tr>\n",
       "    <tr>\n",
       "      <th>Score</th>\n",
       "      <th></th>\n",
       "    </tr>\n",
       "  </thead>\n",
       "  <tbody>\n",
       "    <tr>\n",
       "      <th>10</th>\n",
       "      <td>45</td>\n",
       "    </tr>\n",
       "    <tr>\n",
       "      <th>20</th>\n",
       "      <td>56</td>\n",
       "    </tr>\n",
       "    <tr>\n",
       "      <th>30</th>\n",
       "      <td>67</td>\n",
       "    </tr>\n",
       "    <tr>\n",
       "      <th>40</th>\n",
       "      <td>78</td>\n",
       "    </tr>\n",
       "    <tr>\n",
       "      <th>50</th>\n",
       "      <td>89</td>\n",
       "    </tr>\n",
       "    <tr>\n",
       "      <th>70</th>\n",
       "      <td>35</td>\n",
       "    </tr>\n",
       "    <tr>\n",
       "      <th>80</th>\n",
       "      <td>34</td>\n",
       "    </tr>\n",
       "    <tr>\n",
       "      <th>90</th>\n",
       "      <td>33</td>\n",
       "    </tr>\n",
       "    <tr>\n",
       "      <th>100</th>\n",
       "      <td>32</td>\n",
       "    </tr>\n",
       "  </tbody>\n",
       "</table>\n",
       "</div>"
      ],
      "text/plain": [
       "       Ages\n",
       "Score      \n",
       "10       45\n",
       "20       56\n",
       "30       67\n",
       "40       78\n",
       "50       89\n",
       "70       35\n",
       "80       34\n",
       "90       33\n",
       "100      32"
      ]
     },
     "execution_count": 324,
     "metadata": {},
     "output_type": "execute_result"
    }
   ],
   "source": [
    "df_x.groupby([\"Score\"])[\"Ages\",\"Names\"].sum()"
   ]
  },
  {
   "cell_type": "code",
   "execution_count": 326,
   "metadata": {},
   "outputs": [
    {
     "data": {
      "text/html": [
       "<div>\n",
       "<style scoped>\n",
       "    .dataframe tbody tr th:only-of-type {\n",
       "        vertical-align: middle;\n",
       "    }\n",
       "\n",
       "    .dataframe tbody tr th {\n",
       "        vertical-align: top;\n",
       "    }\n",
       "\n",
       "    .dataframe thead tr th {\n",
       "        text-align: left;\n",
       "    }\n",
       "\n",
       "    .dataframe thead tr:last-of-type th {\n",
       "        text-align: right;\n",
       "    }\n",
       "</style>\n",
       "<table border=\"1\" class=\"dataframe\">\n",
       "  <thead>\n",
       "    <tr>\n",
       "      <th></th>\n",
       "      <th colspan=\"4\" halign=\"left\">Ages</th>\n",
       "      <th colspan=\"4\" halign=\"left\">Rating</th>\n",
       "    </tr>\n",
       "    <tr>\n",
       "      <th></th>\n",
       "      <th>mean</th>\n",
       "      <th>median</th>\n",
       "      <th>std</th>\n",
       "      <th>var</th>\n",
       "      <th>mean</th>\n",
       "      <th>median</th>\n",
       "      <th>std</th>\n",
       "      <th>var</th>\n",
       "    </tr>\n",
       "    <tr>\n",
       "      <th>Score</th>\n",
       "      <th></th>\n",
       "      <th></th>\n",
       "      <th></th>\n",
       "      <th></th>\n",
       "      <th></th>\n",
       "      <th></th>\n",
       "      <th></th>\n",
       "      <th></th>\n",
       "    </tr>\n",
       "  </thead>\n",
       "  <tbody>\n",
       "    <tr>\n",
       "      <th>10</th>\n",
       "      <td>45.0</td>\n",
       "      <td>45.0</td>\n",
       "      <td>NaN</td>\n",
       "      <td>NaN</td>\n",
       "      <td>11.0</td>\n",
       "      <td>11.0</td>\n",
       "      <td>NaN</td>\n",
       "      <td>NaN</td>\n",
       "    </tr>\n",
       "    <tr>\n",
       "      <th>20</th>\n",
       "      <td>56.0</td>\n",
       "      <td>56.0</td>\n",
       "      <td>NaN</td>\n",
       "      <td>NaN</td>\n",
       "      <td>12.0</td>\n",
       "      <td>12.0</td>\n",
       "      <td>NaN</td>\n",
       "      <td>NaN</td>\n",
       "    </tr>\n",
       "    <tr>\n",
       "      <th>30</th>\n",
       "      <td>67.0</td>\n",
       "      <td>67.0</td>\n",
       "      <td>NaN</td>\n",
       "      <td>NaN</td>\n",
       "      <td>13.0</td>\n",
       "      <td>13.0</td>\n",
       "      <td>NaN</td>\n",
       "      <td>NaN</td>\n",
       "    </tr>\n",
       "    <tr>\n",
       "      <th>40</th>\n",
       "      <td>78.0</td>\n",
       "      <td>78.0</td>\n",
       "      <td>NaN</td>\n",
       "      <td>NaN</td>\n",
       "      <td>14.0</td>\n",
       "      <td>14.0</td>\n",
       "      <td>NaN</td>\n",
       "      <td>NaN</td>\n",
       "    </tr>\n",
       "    <tr>\n",
       "      <th>50</th>\n",
       "      <td>89.0</td>\n",
       "      <td>89.0</td>\n",
       "      <td>NaN</td>\n",
       "      <td>NaN</td>\n",
       "      <td>15.0</td>\n",
       "      <td>15.0</td>\n",
       "      <td>NaN</td>\n",
       "      <td>NaN</td>\n",
       "    </tr>\n",
       "    <tr>\n",
       "      <th>70</th>\n",
       "      <td>17.5</td>\n",
       "      <td>17.5</td>\n",
       "      <td>7.778175</td>\n",
       "      <td>60.5</td>\n",
       "      <td>16.5</td>\n",
       "      <td>16.5</td>\n",
       "      <td>0.707107</td>\n",
       "      <td>0.5</td>\n",
       "    </tr>\n",
       "    <tr>\n",
       "      <th>80</th>\n",
       "      <td>34.0</td>\n",
       "      <td>34.0</td>\n",
       "      <td>NaN</td>\n",
       "      <td>NaN</td>\n",
       "      <td>18.0</td>\n",
       "      <td>18.0</td>\n",
       "      <td>NaN</td>\n",
       "      <td>NaN</td>\n",
       "    </tr>\n",
       "    <tr>\n",
       "      <th>90</th>\n",
       "      <td>33.0</td>\n",
       "      <td>33.0</td>\n",
       "      <td>NaN</td>\n",
       "      <td>NaN</td>\n",
       "      <td>19.0</td>\n",
       "      <td>19.0</td>\n",
       "      <td>NaN</td>\n",
       "      <td>NaN</td>\n",
       "    </tr>\n",
       "    <tr>\n",
       "      <th>100</th>\n",
       "      <td>32.0</td>\n",
       "      <td>32.0</td>\n",
       "      <td>NaN</td>\n",
       "      <td>NaN</td>\n",
       "      <td>20.0</td>\n",
       "      <td>20.0</td>\n",
       "      <td>NaN</td>\n",
       "      <td>NaN</td>\n",
       "    </tr>\n",
       "  </tbody>\n",
       "</table>\n",
       "</div>"
      ],
      "text/plain": [
       "       Ages                        Rating                      \n",
       "       mean median       std   var   mean median       std  var\n",
       "Score                                                          \n",
       "10     45.0   45.0       NaN   NaN   11.0   11.0       NaN  NaN\n",
       "20     56.0   56.0       NaN   NaN   12.0   12.0       NaN  NaN\n",
       "30     67.0   67.0       NaN   NaN   13.0   13.0       NaN  NaN\n",
       "40     78.0   78.0       NaN   NaN   14.0   14.0       NaN  NaN\n",
       "50     89.0   89.0       NaN   NaN   15.0   15.0       NaN  NaN\n",
       "70     17.5   17.5  7.778175  60.5   16.5   16.5  0.707107  0.5\n",
       "80     34.0   34.0       NaN   NaN   18.0   18.0       NaN  NaN\n",
       "90     33.0   33.0       NaN   NaN   19.0   19.0       NaN  NaN\n",
       "100    32.0   32.0       NaN   NaN   20.0   20.0       NaN  NaN"
      ]
     },
     "execution_count": 326,
     "metadata": {},
     "output_type": "execute_result"
    }
   ],
   "source": [
    "df_x.groupby([\"Score\"])[\"Ages\",\"Rating\"].agg([np.mean,np.median,np.std,np.var])"
   ]
  },
  {
   "cell_type": "code",
   "execution_count": null,
   "metadata": {},
   "outputs": [],
   "source": []
  }
 ],
 "metadata": {
  "kernelspec": {
   "display_name": "Python 3",
   "language": "python",
   "name": "python3"
  },
  "language_info": {
   "codemirror_mode": {
    "name": "ipython",
    "version": 3
   },
   "file_extension": ".py",
   "mimetype": "text/x-python",
   "name": "python",
   "nbconvert_exporter": "python",
   "pygments_lexer": "ipython3",
   "version": "3.7.1"
  }
 },
 "nbformat": 4,
 "nbformat_minor": 2
}
