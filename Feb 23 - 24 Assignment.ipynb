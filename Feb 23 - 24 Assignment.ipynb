{
 "cells": [
  {
   "cell_type": "code",
   "execution_count": 11,
   "metadata": {},
   "outputs": [
    {
     "name": "stdout",
     "output_type": "stream",
     "text": [
      "{100: 4, 11: 3, 1010: 10, 1001: 9}\n",
      "1010\n"
     ]
    }
   ],
   "source": [
    "givenlist=(100,11,1010,1001)\n",
    "declist={}\n",
    "for i in range(0,len(givenlist)):\n",
    "    ans=0\n",
    "    num=givenlist[i]\n",
    "    position=0\n",
    "    while num>0:\n",
    "        if num%10==1:\n",
    "            ans=ans+pow(2,position)\n",
    "        num=num//10   #num=int(num/10) \n",
    "        position+=1\n",
    "    declist[givenlist[i]] = ans\n",
    "print(declist)\n",
    "for key,value in declist.items():\n",
    "    if value%5==0:\n",
    "        print(key)\n"
   ]
  },
  {
   "cell_type": "code",
   "execution_count": 10,
   "metadata": {},
   "outputs": [
    {
     "data": {
      "text/plain": [
       "(4, 3, 10, 9)"
      ]
     },
     "execution_count": 10,
     "metadata": {},
     "output_type": "execute_result"
    }
   ],
   "source": [
    "0b0100,0b0011,0b1010,0b1001"
   ]
  },
  {
   "cell_type": "code",
   "execution_count": 12,
   "metadata": {},
   "outputs": [
    {
     "data": {
      "text/plain": [
       "'0b11001'"
      ]
     },
     "execution_count": 12,
     "metadata": {},
     "output_type": "execute_result"
    }
   ],
   "source": [
    "bin(25)"
   ]
  },
  {
   "cell_type": "code",
   "execution_count": 12,
   "metadata": {},
   "outputs": [
    {
     "data": {
      "text/plain": [
       "'0o31'"
      ]
     },
     "execution_count": 12,
     "metadata": {},
     "output_type": "execute_result"
    }
   ],
   "source": [
    "oct(25)\n"
   ]
  },
  {
   "cell_type": "code",
   "execution_count": 35,
   "metadata": {},
   "outputs": [
    {
     "name": "stdout",
     "output_type": "stream",
     "text": [
      "[2002, 2009, 2016, 2023, 2037, 2044, 2051, 2058, 2072, 2079, 2086, 2093, 2107, 2114, 2121, 2128, 2142, 2149, 2156, 2163, 2177, 2184, 2191, 2198, 2212, 2219, 2226, 2233, 2247, 2254, 2261, 2268, 2282, 2289, 2296, 2303, 2317, 2324, 2331, 2338, 2352, 2359, 2366, 2373, 2387, 2394, 2401, 2408, 2422, 2429, 2436, 2443, 2457, 2464, 2471, 2478, 2492, 2499, 2506, 2513, 2527, 2534, 2541, 2548, 2562, 2569, 2576, 2583, 2597, 2604, 2611, 2618, 2632, 2639, 2646, 2653, 2667, 2674, 2681, 2688, 2702, 2709, 2716, 2723, 2737, 2744, 2751, 2758, 2772, 2779, 2786, 2793, 2807, 2814, 2821, 2828, 2842, 2849, 2856, 2863, 2877, 2884, 2891, 2898, 2912, 2919, 2926, 2933, 2947, 2954, 2961, 2968, 2982, 2989, 2996, 3003, 3017, 3024, 3031, 3038, 3052, 3059, 3066, 3073, 3087, 3094, 3101, 3108, 3122, 3129, 3136, 3143, 3157, 3164, 3171, 3178, 3192, 3199]\n"
     ]
    }
   ],
   "source": [
    "#Divisible by 7 and not multiple of 5\n",
    "lst=[]\n",
    "for i in range(2000,3201):\n",
    "    if i%7==0 and i%5!=0:            \n",
    "            lst.append(i)           \n",
    "print(lst)\n",
    "\n",
    "            "
   ]
  },
  {
   "cell_type": "code",
   "execution_count": 4,
   "metadata": {},
   "outputs": [
    {
     "name": "stdout",
     "output_type": "stream",
     "text": [
      "Enter Values4,5,6,7,8\n",
      "['4', '5', '6', '7', '8']\n",
      "('4', '5', '6', '7', '8')\n"
     ]
    }
   ],
   "source": [
    "#Sequence of comma separated numbers as input and genearte list and a tuple \n",
    "\n",
    "n=input(\"Enter Values\")\n",
    "lst=n.split(',')\n",
    "tup=tuple(lst)\n",
    "\n",
    "print(lst)\n",
    "print(tup)"
   ]
  },
  {
   "cell_type": "code",
   "execution_count": 15,
   "metadata": {},
   "outputs": [
    {
     "name": "stdout",
     "output_type": "stream",
     "text": [
      "Enter the value: 9\n",
      "{1: 1, 2: 4, 3: 9, 4: 16, 5: 25, 6: 36, 7: 49, 8: 64, 9: 81}\n"
     ]
    }
   ],
   "source": [
    "\n",
    "#Dictionary output for given integral value (n) from 1 to n with format (i:i*i)\n",
    "n=int(input(\"Enter the value: \"))\n",
    "dict = {}\n",
    "for i in range(1,(n+1),1):\n",
    "    dict.update({i:(i*i)})\n",
    "print(dict)"
   ]
  },
  {
   "cell_type": "code",
   "execution_count": 18,
   "metadata": {},
   "outputs": [
    {
     "name": "stdout",
     "output_type": "stream",
     "text": [
      "Enter the value: 20\n",
      "[1, 4, 9, 16, 25, 36, 49, 64, 81, 100, 121, 144, 169, 196, 225, 256, 289, 324, 361, 400]\n"
     ]
    }
   ],
   "source": [
    "#List with square numbers from  1 to 20\n",
    "n=int(input(\"Enter the value: \"))\n",
    "lst = []\n",
    "for i in range(1,(n+1),1):\n",
    "    lst.append(i*i)\n",
    "print(lst)"
   ]
  },
  {
   "cell_type": "code",
   "execution_count": 1,
   "metadata": {},
   "outputs": [
    {
     "name": "stdout",
     "output_type": "stream",
     "text": [
      "(1, 2, 3, 4, 5)\n",
      "(6, 7, 8, 9, 10)\n"
     ]
    }
   ],
   "source": [
    "#First half values in one line and next half in one line\n",
    "tup=(1,2,3,4,5,6,7,8,9,10)\n",
    "count=int(len(tup)/2)\n",
    "print(tup[:count:])\n",
    "print(tup[count::])"
   ]
  },
  {
   "cell_type": "code",
   "execution_count": 36,
   "metadata": {},
   "outputs": [
    {
     "name": "stdout",
     "output_type": "stream",
     "text": [
      "Upper Case: 1\n",
      "Lower Case: 9\n"
     ]
    }
   ],
   "source": [
    "txt=\"Hello world!\"\n",
    "count=0\n",
    "temp=0\n",
    "for i in txt:\n",
    "\n",
    "    if i.isupper()==True:\n",
    "        #count+=count\n",
    "        count+=1\n",
    "    \n",
    "    elif i.islower()==True:\n",
    "        temp+=1\n",
    "        \n",
    "print(\"Upper Case:\",count)\n",
    "print(\"Lower Case:\",temp)"
   ]
  },
  {
   "cell_type": "code",
   "execution_count": 21,
   "metadata": {},
   "outputs": [
    {
     "name": "stdout",
     "output_type": "stream",
     "text": [
      "Upper Case: 1\n",
      "Lower Case: 9\n"
     ]
    }
   ],
   "source": [
    "txt=\"Hello world!\"\n",
    "count=0\n",
    "temp=0\n",
    "for i in txt:\n",
    "    asciiVal=ord(i) \n",
    "    if (asciiVal>=65) & (asciiVal<=90):        \n",
    "        count+=1\n",
    "    \n",
    "    elif (asciiVal>=97) & (asciiVal<=122):\n",
    "        temp+=1\n",
    "        \n",
    "print(\"Upper Case:\",count)\n",
    "print(\"Lower Case:\",temp)"
   ]
  },
  {
   "cell_type": "code",
   "execution_count": 6,
   "metadata": {},
   "outputs": [
    {
     "name": "stdout",
     "output_type": "stream",
     "text": [
      "[23, 2, 'welcome']\n"
     ]
    }
   ],
   "source": [
    "#Filter function in a list\n",
    "p=[23,2,0,'welcome','',{}]\n",
    "print(list(filter(bool,p)))"
   ]
  },
  {
   "cell_type": "code",
   "execution_count": 15,
   "metadata": {},
   "outputs": [
    {
     "name": "stdout",
     "output_type": "stream",
     "text": [
      "0x19\n"
     ]
    }
   ],
   "source": [
    "print(hex(25))"
   ]
  },
  {
   "cell_type": "code",
   "execution_count": null,
   "metadata": {},
   "outputs": [],
   "source": []
  }
 ],
 "metadata": {
  "kernelspec": {
   "display_name": "Python 3",
   "language": "python",
   "name": "python3"
  },
  "language_info": {
   "codemirror_mode": {
    "name": "ipython",
    "version": 3
   },
   "file_extension": ".py",
   "mimetype": "text/x-python",
   "name": "python",
   "nbconvert_exporter": "python",
   "pygments_lexer": "ipython3",
   "version": "3.7.1"
  }
 },
 "nbformat": 4,
 "nbformat_minor": 2
}
