{
 "cells": [
  {
   "cell_type": "code",
   "execution_count": 2,
   "metadata": {},
   "outputs": [
    {
     "name": "stdout",
     "output_type": "stream",
     "text": [
      "1 4 9 "
     ]
    }
   ],
   "source": [
    "#while loop\n",
    "i=1\n",
    "while i*i < 10:\n",
    "    print(i**2,end=\" \")\n",
    "    i+=1    "
   ]
  },
  {
   "cell_type": "code",
   "execution_count": 4,
   "metadata": {},
   "outputs": [
    {
     "name": "stdout",
     "output_type": "stream",
     "text": [
      "2 4 6 8 10 12 14 16 18 "
     ]
    }
   ],
   "source": [
    "#print even\n",
    "i=1\n",
    "while i<20:\n",
    "    if i%2==0:\n",
    "        print(i,end=\" \")\n",
    "    i+=1    "
   ]
  },
  {
   "cell_type": "code",
   "execution_count": 10,
   "metadata": {},
   "outputs": [
    {
     "name": "stdout",
     "output_type": "stream",
     "text": [
      "Divya\n",
      "Divya T.K.\n",
      "This is my first function\n"
     ]
    }
   ],
   "source": [
    "#Create basic class in python\n",
    "class learnClass:\n",
    "    variable=\"Divya\"   #States\n",
    "    def firstFunction(self):  #Methods, we can give anything instead of self which contains the object\n",
    "        print(\"This is my first function\")\n",
    "callClass=learnClass()\n",
    "callSameClass=learnClass()\n",
    "callClass.variable=\"Divya T.K.\"\n",
    "print(callSameClass.variable)\n",
    "print(callClass.variable)\n",
    "callClass.firstFunction()"
   ]
  },
  {
   "cell_type": "code",
   "execution_count": 18,
   "metadata": {},
   "outputs": [
    {
     "name": "stdout",
     "output_type": "stream",
     "text": [
      "BMW Blue 14000000\n",
      "JAGUAR Red 11100000\n",
      "Blue 14000000 BMW\n",
      "Red 11100000 JAGUAR\n"
     ]
    }
   ],
   "source": [
    "#Define class for vehicles.\n",
    "#1.create 2 new vehicles called car1 and car2\n",
    "#2.set car1 to be a blue conertible worth 14000000 with a name of BMW\n",
    "#3.set car2 to be a red van named JAGUAR worth 11100000\n",
    "class vehicles:\n",
    "    colour=\"\"\n",
    "    price=0\n",
    "    brandname=\"\"\n",
    "    def CalVehicle(self):\n",
    "        print(self.colour,self.price,self.brandname)\n",
    "        \n",
    "    \n",
    "callCar1=vehicles()\n",
    "callCar1.colour=\"Blue\"\n",
    "callCar1.price=14000000\n",
    "callCar1.brandname=\"BMW\"\n",
    "callCar2=vehicles()\n",
    "callCar2.colour=\"Red\"\n",
    "callCar2.price=11100000\n",
    "callCar2.brandname=\"JAGUAR\"\n",
    "print(callCar1.brandname,callCar1.colour,callCar1.price)\n",
    "print(callCar2.brandname,callCar2.colour,callCar2.price)\n",
    "callCar1.CalVehicle()\n",
    "callCar2.CalVehicle()"
   ]
  },
  {
   "cell_type": "code",
   "execution_count": 42,
   "metadata": {},
   "outputs": [
    {
     "name": "stdout",
     "output_type": "stream",
     "text": [
      "7200\n",
      "8900\n"
     ]
    }
   ],
   "source": [
    "#Write a code for convert currency from other country to india\n",
    "#Default country is U.S. example\n",
    "class currency:\n",
    "    country=\"\"\n",
    "    moneyValFor=0\n",
    "    def moneyConv(self):\n",
    "        if self.country==\"US\":\n",
    "            print(self.moneyValFor*72)\n",
    "        elif self.country==\"Europe\":\n",
    "            print(self.moneyValFor*89)\n",
    "      \n",
    "con1=currency()\n",
    "con1.country=\"US\"\n",
    "con1.moneyValFor=100\n",
    "con1.moneyConv()\n",
    "\n",
    "con2=currency()\n",
    "con2.country=\"Europe\"\n",
    "con2.moneyValFor=100\n",
    "con2.moneyConv()\n",
    "\n",
    "\n"
   ]
  },
  {
   "cell_type": "code",
   "execution_count": 35,
   "metadata": {},
   "outputs": [
    {
     "name": "stdout",
     "output_type": "stream",
     "text": [
      "71 dollar USA\n"
     ]
    }
   ],
   "source": [
    "\n",
    "class currencies():\n",
    "    money=1\n",
    "    country=\"\"\n",
    "    def assignValues(self):\n",
    "        print(self.money,end='')\n",
    "        print(self.country)\n",
    "def calCurrencies():\n",
    "    x=currencies()\n",
    "    x.country=\" USA\"\n",
    "    x.money=str(x.money + 70)+\" dollar\"\n",
    "    currencies.assignValues(x)\n",
    "    \n",
    "calCurrencies()    "
   ]
  },
  {
   "cell_type": "code",
   "execution_count": 45,
   "metadata": {},
   "outputs": [
    {
     "name": "stdout",
     "output_type": "stream",
     "text": [
      "Enter operator:8 / 7\n",
      "1\n"
     ]
    }
   ],
   "source": [
    "# Calculator (Add,Sub,Multiply,Divide)\n",
    "a,op,b=input(\"Enter operator:\").split()\n",
    "a=int(a)\n",
    "b=int(b)\n",
    "if op==\"+\":  # we can use like if op==1 and use choice as input as choice=int(input(\"Enter choice:\"))\n",
    "    print(f\"{a+b}\")\n",
    "elif op==\"-\":\n",
    "    print(f\"{a-b}\")\n",
    "elif op==\"*\":\n",
    "    print(f\"{a*b}\")  \n",
    "elif op==\"/\":\n",
    "    print(f\"{a//b}\") \n",
    "else:\n",
    "    print(\"Invalid\")\n",
    "\n",
    "          "
   ]
  },
  {
   "cell_type": "code",
   "execution_count": 46,
   "metadata": {},
   "outputs": [
    {
     "name": "stdout",
     "output_type": "stream",
     "text": [
      "1\n",
      "2\n",
      "3\n",
      "4\n",
      "5\n",
      "6\n",
      "7\n",
      "8\n",
      "9\n",
      "10\n",
      "\n",
      "\n",
      "n\n",
      "a\n",
      "r\n",
      "e\n",
      "s\n",
      "h\n",
      "\n",
      "\n",
      "Divya\n",
      "Thiruvenkada\n",
      "Krishnan\n",
      "\n",
      "\n",
      "a\n",
      "i\n",
      "e\n",
      "u\n",
      "o\n",
      "\n",
      "\n"
     ]
    }
   ],
   "source": [
    "# for loop\n",
    "for i in range(1,11):   #for numbers\n",
    "    print(i)\n",
    "print(\"\\n\")\n",
    "\n",
    "for ch in 'naresh':  #for character\n",
    "    print(ch)\n",
    "print(\"\\n\")    \n",
    "\n",
    "for word in 'Divya Thiruvenkada Krishnan'.split():\n",
    "    print(word)\n",
    "print(\"\\n\")    \n",
    "  \n",
    "for item in {'a','e','i','o','u','o','u'}:\n",
    "    print(item)\n",
    "print(\"\\n\")    \n"
   ]
  },
  {
   "cell_type": "code",
   "execution_count": 47,
   "metadata": {},
   "outputs": [
    {
     "name": "stdout",
     "output_type": "stream",
     "text": [
      "2\n",
      "3\n",
      "5\n",
      "7\n",
      "11\n",
      "13\n",
      "17\n",
      "19\n"
     ]
    }
   ],
   "source": [
    "#Prime b/w 1 and 20\n",
    "for num in range(20):\n",
    "    if num>1:\n",
    "        for i in range(2,num):\n",
    "            if num%i==0:\n",
    "                break\n",
    "        else:\n",
    "            print(num)"
   ]
  },
  {
   "cell_type": "code",
   "execution_count": 48,
   "metadata": {},
   "outputs": [
    {
     "name": "stdout",
     "output_type": "stream",
     "text": [
      "Enter number: 5\n",
      "15\n"
     ]
    }
   ],
   "source": [
    "#Find sum upto given number\n",
    "num=int(input(\"Enter number: \"))\n",
    "add=0        \n",
    "for i in range(1,num+1):\n",
    "        add+=i\n",
    "print(add)        \n",
    "      "
   ]
  },
  {
   "cell_type": "code",
   "execution_count": 49,
   "metadata": {},
   "outputs": [
    {
     "name": "stdout",
     "output_type": "stream",
     "text": [
      "*\n",
      "* *\n",
      "* * *\n",
      "* * * *\n",
      "* * * * *\n"
     ]
    }
   ],
   "source": [
    "#print triangle till 5\n",
    "x='*'\n",
    "for i in range(1,6):\n",
    "    print(x)\n",
    "    x+=' *'"
   ]
  },
  {
   "cell_type": "code",
   "execution_count": 50,
   "metadata": {},
   "outputs": [
    {
     "name": "stdout",
     "output_type": "stream",
     "text": [
      "1 \n",
      "1 2 \n",
      "1 2 3 \n",
      "1 2 3 4 \n",
      "1 2 3 4 5 \n",
      "1 2 3 4 5 6 \n",
      "1 2 3 4 5 6 7 \n",
      "1 2 3 4 5 6 7 8 \n",
      "1 2 3 4 5 6 7 8 9 \n",
      "1 2 3 4 5 6 7 8 9 10 \n"
     ]
    }
   ],
   "source": [
    "for i in range(1,11):\n",
    "    for j in range(1,i+1):\n",
    "        print(j,end=\" \")\n",
    "    print()  "
   ]
  },
  {
   "cell_type": "code",
   "execution_count": 3,
   "metadata": {},
   "outputs": [
    {
     "name": "stdout",
     "output_type": "stream",
     "text": [
      "Enter number:5 7 1 1\n",
      "7 is greater\n"
     ]
    }
   ],
   "source": [
    "#Greater number in the given 4 numbers :\n",
    "a,b,c,d=input(\"Enter number:\").split()\n",
    "#if int(a)>int(b) & int(a)>int(c) & int(a)>int(d):\n",
    "    #print(f\"{a} is greater\")\n",
    "#elif int(b)>int(c) & int(b)>int(d):\n",
    "    #print(f\"{b} is greater\")\n",
    "if int(a)+int(b)>int(c)+int(d):\n",
    "    if int(a)>int(b):\n",
    "        print(f\"{a} is greater\")\n",
    "    else:\n",
    "        print(f\"{b} is greater\")   \n",
    "elif int(c)>int(d):\n",
    "    print(f\"{c} is greater\")\n",
    "else:\n",
    "    print(f\"{d} is greater\")"
   ]
  },
  {
   "cell_type": "code",
   "execution_count": 52,
   "metadata": {},
   "outputs": [
    {
     "name": "stdout",
     "output_type": "stream",
     "text": [
      "Enter number:1 2 3\n",
      "3 is greater\n"
     ]
    }
   ],
   "source": [
    "#Greater number in the given 3 numbers :\n",
    "x,y,z=input(\"Enter number:\").split()\n",
    "if int(x)>int(y) & int(x)>int(z):\n",
    "    print(f\"{x} is greater\")\n",
    "elif int(y>z):\n",
    "    print(f\"{y} is greater\")\n",
    "else:\n",
    "    print(f\"{z} is greater\")"
   ]
  },
  {
   "cell_type": "code",
   "execution_count": 53,
   "metadata": {},
   "outputs": [
    {
     "name": "stdout",
     "output_type": "stream",
     "text": [
      "Enter number:1 5\n",
      "1 is lesser\n"
     ]
    }
   ],
   "source": [
    "#Greater number in the given 2 numbers :\n",
    "num,num1=input(\"Enter number:\").split()\n",
    "num=int(num)\n",
    "num1=int(num1)\n",
    "if num>num1:\n",
    "    print(f\"{num} is greater\")\n",
    "else:\n",
    "    print(f\"{num} is lesser\")\n",
    "    "
   ]
  },
  {
   "cell_type": "code",
   "execution_count": 54,
   "metadata": {},
   "outputs": [
    {
     "name": "stdout",
     "output_type": "stream",
     "text": [
      "Enter number:5 7\n",
      "Both are odd\n"
     ]
    }
   ],
   "source": [
    "#Given 2 number odd or even\n",
    "num,num1=input(\"Enter number:\").split()\n",
    "num=int(num)\n",
    "num1=int(num1)\n",
    "if num%2==0 and num1%2==0:\n",
    "    print(f\"Both numbers {num} and {num1} are even\")\n",
    "elif num%2==0 or num1%2==0:   \n",
    "    print(f\"atleast one of {num} and {num1} are even\")  \n",
    "else:\n",
    "    print(f\"Both are odd\")"
   ]
  },
  {
   "cell_type": "code",
   "execution_count": 62,
   "metadata": {},
   "outputs": [
    {
     "name": "stdout",
     "output_type": "stream",
     "text": [
      "Enter operator:5 * 8\n"
     ]
    },
    {
     "ename": "ValueError",
     "evalue": "too many values to unpack (expected 2)",
     "output_type": "error",
     "traceback": [
      "\u001b[1;31m---------------------------------------------------------------------------\u001b[0m",
      "\u001b[1;31mValueError\u001b[0m                                Traceback (most recent call last)",
      "\u001b[1;32m<ipython-input-62-f191eaa4fcd7>\u001b[0m in \u001b[0;36m<module>\u001b[1;34m\u001b[0m\n\u001b[0;32m      1\u001b[0m \u001b[1;31m# Calculator (Add,Sub,Multiply,Divide)\u001b[0m\u001b[1;33m\u001b[0m\u001b[1;33m\u001b[0m\u001b[1;33m\u001b[0m\u001b[0m\n\u001b[1;32m----> 2\u001b[1;33m \u001b[0ma\u001b[0m\u001b[1;33m,\u001b[0m\u001b[0mb\u001b[0m\u001b[1;33m=\u001b[0m\u001b[0minput\u001b[0m\u001b[1;33m(\u001b[0m\u001b[1;34m\"Enter operator:\"\u001b[0m\u001b[1;33m)\u001b[0m\u001b[1;33m.\u001b[0m\u001b[0msplit\u001b[0m\u001b[1;33m(\u001b[0m\u001b[1;33m)\u001b[0m\u001b[1;33m\u001b[0m\u001b[1;33m\u001b[0m\u001b[0m\n\u001b[0m\u001b[0;32m      3\u001b[0m \u001b[0ma\u001b[0m\u001b[1;33m=\u001b[0m\u001b[0mint\u001b[0m\u001b[1;33m(\u001b[0m\u001b[0ma\u001b[0m\u001b[1;33m)\u001b[0m\u001b[1;33m\u001b[0m\u001b[1;33m\u001b[0m\u001b[0m\n\u001b[0;32m      4\u001b[0m \u001b[0mb\u001b[0m\u001b[1;33m=\u001b[0m\u001b[0mint\u001b[0m\u001b[1;33m(\u001b[0m\u001b[0mb\u001b[0m\u001b[1;33m)\u001b[0m\u001b[1;33m\u001b[0m\u001b[1;33m\u001b[0m\u001b[0m\n\u001b[0;32m      5\u001b[0m \u001b[0mop\u001b[0m\u001b[1;33m=\u001b[0m\u001b[0moperator\u001b[0m\u001b[1;33m\u001b[0m\u001b[1;33m\u001b[0m\u001b[0m\n",
      "\u001b[1;31mValueError\u001b[0m: too many values to unpack (expected 2)"
     ]
    }
   ],
   "source": [
    "# Calculator (Add,Sub,Multiply,Divide)\n",
    "a,b=input(\"Enter operator:\").split()\n",
    "a=int(a)\n",
    "b=int(b)\n",
    "op=operator\n",
    "if op==\"+\":\n",
    "    print(f\"{a+b}\")\n",
    "elif op==\"-\":\n",
    "    print(f\"{a-b}\")\n",
    "elif op==\"*\":\n",
    "    print(f\"{a*b}\")  \n",
    "else:\n",
    "    print(f\"{a//b}\") "
   ]
  },
  {
   "cell_type": "code",
   "execution_count": null,
   "metadata": {},
   "outputs": [],
   "source": []
  }
 ],
 "metadata": {
  "kernelspec": {
   "display_name": "Python 3",
   "language": "python",
   "name": "python3"
  },
  "language_info": {
   "codemirror_mode": {
    "name": "ipython",
    "version": 3
   },
   "file_extension": ".py",
   "mimetype": "text/x-python",
   "name": "python",
   "nbconvert_exporter": "python",
   "pygments_lexer": "ipython3",
   "version": "3.7.1"
  }
 },
 "nbformat": 4,
 "nbformat_minor": 2
}
