{
 "cells": [
  {
   "cell_type": "code",
   "execution_count": 5,
   "metadata": {},
   "outputs": [
    {
     "name": "stdout",
     "output_type": "stream",
     "text": [
      "{'m': 2, 'a': 3, 'l': 2, 'y': 1}\n",
      "m ----> 2\n"
     ]
    }
   ],
   "source": [
    "# Write a code for the given character in the given string\n",
    "str1 = \"malaylam\"\n",
    "\n",
    "letterCount = {}\n",
    "for i in str1:\n",
    "    count = 0\n",
    "    for j in str1:\n",
    "        if i == j:\n",
    "            count += 1\n",
    "    letterCount.update({i:count})\n",
    "print (letterCount)    \n",
    "\n",
    "str2 = 'm'\n",
    "for key,value in letterCount.items():\n",
    "    if key == str2:\n",
    "        print (f\"{key} ----> {value}\")"
   ]
  },
  {
   "cell_type": "code",
   "execution_count": 35,
   "metadata": {},
   "outputs": [
    {
     "name": "stdout",
     "output_type": "stream",
     "text": [
      "Enter the text:bhanu\n",
      "{'m': 0}\n"
     ]
    }
   ],
   "source": [
    "# Write a code for the given character in the given string\n",
    "str1 = input (\"Enter the text:\")\n",
    "str2 = 'm'\n",
    "dictstr = {}\n",
    "count = 0\n",
    "for i in str1:\n",
    "    if i == str2:\n",
    "        count += 1\n",
    "dictstr.update({str2: count})\n",
    "print (dictstr)"
   ]
  },
  {
   "cell_type": "code",
   "execution_count": 10,
   "metadata": {},
   "outputs": [
    {
     "name": "stdout",
     "output_type": "stream",
     "text": [
      "{'Pie': 9.0, 'Oreo': 8.0, 'Naugat': 7.0, 'kitkat': 5.0}\n",
      "9.0\n",
      "9.0\n",
      "None\n",
      "9.0\n",
      "100\n",
      "dict_keys(['Pie', 'Oreo', 'Naugat', 'kitkat'])\n",
      "dict_values([9.0, 8.0, 7.0, 5.0])\n",
      "\n",
      "Pie ----> 9.0\n",
      "Oreo ----> 8.0\n",
      "Naugat ----> 7.0\n",
      "kitkat ----> 5.0\n",
      "\n",
      "Pie ----> 9.0\n",
      "Oreo ----> 8.0\n",
      "Naugat ----> 7.0\n",
      "kitkat ----> 5.0\n",
      "Jelly ----> 4.0\n",
      "\n",
      "Pie ----> 9.0\n",
      "Naugat ----> 7.0\n",
      "kitkat ----> 5.0\n",
      "Jelly ----> 4.0\n",
      "dict_items([('Pie', 9.0), ('Naugat', 7.0), ('kitkat', 5.0), ('Jelly', 4.0)])\n"
     ]
    }
   ],
   "source": [
    "ver = {'Pie' : 9.0 , 'Oreo' : 8.0, 'Naugat' : 7.0}\n",
    "ver['kitkat'] = 5.0\n",
    "print (ver)\n",
    "print (ver['Pie'])\n",
    "print (ver.get('Pie'))\n",
    "print (ver.get('Pie1'))\n",
    "print (ver.get('Pie', 100))\n",
    "print (ver.get('Pie1', 100))\n",
    "print (ver.keys())\n",
    "print (ver.values())\n",
    "print ()\n",
    "for key,value in ver.items():\n",
    "    print (f\"{key} ----> {value}\")\n",
    "ver.update ({'Jelly': 4.0})\n",
    "print ()\n",
    "for key,value in ver.items():\n",
    "    print (f\"{key} ----> {value}\")\n",
    "del ver[\"Oreo\"]\n",
    "print ()\n",
    "for key,value in ver.items():\n",
    "    print (f\"{key} ----> {value}\")\n",
    "print (ver.items())"
   ]
  },
  {
   "cell_type": "code",
   "execution_count": 8,
   "metadata": {},
   "outputs": [
    {
     "name": "stdout",
     "output_type": "stream",
     "text": [
      "{'p': 3, 'o': 1, 'u': 1}\n"
     ]
    }
   ],
   "source": [
    "# Write a code to print each character in the given string\n",
    "str1 = 'popup'\n",
    "dictstr = {}\n",
    "for eachstr in str1:\n",
    "    dictstr[eachstr] = dictstr.get(eachstr,0) + 1\n",
    "print (dictstr)\n"
   ]
  },
  {
   "cell_type": "code",
   "execution_count": 2,
   "metadata": {},
   "outputs": [
    {
     "name": "stdout",
     "output_type": "stream",
     "text": [
      "{1: 1, 2: 4, 3: 9, 4: 16, 5: 25, 6: 36, 7: 49, 8: 64}\n"
     ]
    }
   ],
   "source": [
    "# Write a program to generate a dictionary (i, i*i)\n",
    "\n",
    "inputvalue = 8\n",
    "outputdict = {}\n",
    "for i in range(1, inputvalue + 1):\n",
    "    outputdict[i] = i * i\n",
    "print (outputdict)"
   ]
  },
  {
   "cell_type": "code",
   "execution_count": null,
   "metadata": {},
   "outputs": [],
   "source": []
  }
 ],
 "metadata": {
  "kernelspec": {
   "display_name": "Python 3",
   "language": "python",
   "name": "python3"
  },
  "language_info": {
   "codemirror_mode": {
    "name": "ipython",
    "version": 3
   },
   "file_extension": ".py",
   "mimetype": "text/x-python",
   "name": "python",
   "nbconvert_exporter": "python",
   "pygments_lexer": "ipython3",
   "version": "3.7.1"
  }
 },
 "nbformat": 4,
 "nbformat_minor": 2
}
