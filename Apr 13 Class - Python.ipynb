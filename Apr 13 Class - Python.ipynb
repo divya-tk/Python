{
 "cells": [
  {
   "cell_type": "code",
   "execution_count": 11,
   "metadata": {},
   "outputs": [
    {
     "name": "stdout",
     "output_type": "stream",
     "text": [
      "1\n",
      "2\n",
      "3\n",
      "4\n"
     ]
    },
    {
     "ename": "StopIteration",
     "evalue": "",
     "output_type": "error",
     "traceback": [
      "\u001b[1;31m---------------------------------------------------------------------------\u001b[0m",
      "\u001b[1;31mStopIteration\u001b[0m                             Traceback (most recent call last)",
      "\u001b[1;32m<ipython-input-11-151cbfe16550>\u001b[0m in \u001b[0;36m<module>\u001b[1;34m\u001b[0m\n\u001b[0;32m     10\u001b[0m \u001b[1;31m#print(next(my_iter.__next__()))\u001b[0m\u001b[1;33m\u001b[0m\u001b[1;33m\u001b[0m\u001b[1;33m\u001b[0m\u001b[0m\n\u001b[0;32m     11\u001b[0m \u001b[0mprint\u001b[0m\u001b[1;33m(\u001b[0m\u001b[0mnext\u001b[0m\u001b[1;33m(\u001b[0m\u001b[0mmy_iter\u001b[0m\u001b[1;33m)\u001b[0m\u001b[1;33m)\u001b[0m\u001b[1;33m\u001b[0m\u001b[1;33m\u001b[0m\u001b[0m\n\u001b[1;32m---> 12\u001b[1;33m \u001b[0mprint\u001b[0m\u001b[1;33m(\u001b[0m\u001b[0mnext\u001b[0m\u001b[1;33m(\u001b[0m\u001b[0mmy_iter\u001b[0m\u001b[1;33m)\u001b[0m\u001b[1;33m)\u001b[0m  \u001b[1;31m#doesn't have any value to show\u001b[0m\u001b[1;33m\u001b[0m\u001b[1;33m\u001b[0m\u001b[0m\n\u001b[0m",
      "\u001b[1;31mStopIteration\u001b[0m: "
     ]
    }
   ],
   "source": [
    "#Iterators --> go again n again -->to use next function first need iter function (memory saving) which needs a obj here my_iter.\n",
    "#only when i use an obj for it and use next function iter function will give output\n",
    "\n",
    "\n",
    "lst=[1,2,3,4]\n",
    "my_iter=iter(lst)\n",
    "print(next(my_iter))\n",
    "print(next(my_iter))\n",
    "print(next(my_iter))\n",
    "#print(next(my_iter.__next__()))\n",
    "print(next(my_iter))\n",
    "print(next(my_iter))  #doesn't have any value to show"
   ]
  },
  {
   "cell_type": "code",
   "execution_count": 21,
   "metadata": {},
   "outputs": [
    {
     "name": "stdout",
     "output_type": "stream",
     "text": [
      "First\n"
     ]
    },
    {
     "data": {
      "text/plain": [
       "1"
      ]
     },
     "execution_count": 21,
     "metadata": {},
     "output_type": "execute_result"
    }
   ],
   "source": [
    "#generator -->implementaion functionality of function-->it yields and remember the current state\n",
    "#Yield statement  -->Return exits the loop but Yield statement will hold(paused) giving the result of particular iteration\n",
    "\n",
    "def gen():\n",
    "    n=1\n",
    "    print(\"First\")\n",
    "    yield n\n",
    "    n+=1\n",
    "    print(\"second\")\n",
    "    yield n\n",
    "    \n",
    "a=gen()\n",
    "next(a)\n",
    "# next(a) ==>o/P --> First second 2 no 1 ==>Reitearte to get 1 as well like b=gen() and next(b)\n"
   ]
  },
  {
   "cell_type": "code",
   "execution_count": 18,
   "metadata": {},
   "outputs": [
    {
     "name": "stdout",
     "output_type": "stream",
     "text": [
      "second\n"
     ]
    },
    {
     "data": {
      "text/plain": [
       "2"
      ]
     },
     "execution_count": 18,
     "metadata": {},
     "output_type": "execute_result"
    }
   ],
   "source": [
    "next(a)"
   ]
  },
  {
   "cell_type": "code",
   "execution_count": 19,
   "metadata": {},
   "outputs": [
    {
     "ename": "StopIteration",
     "evalue": "",
     "output_type": "error",
     "traceback": [
      "\u001b[1;31m---------------------------------------------------------------------------\u001b[0m",
      "\u001b[1;31mStopIteration\u001b[0m                             Traceback (most recent call last)",
      "\u001b[1;32m<ipython-input-19-15841f3f11d4>\u001b[0m in \u001b[0;36m<module>\u001b[1;34m\u001b[0m\n\u001b[1;32m----> 1\u001b[1;33m \u001b[0mnext\u001b[0m\u001b[1;33m(\u001b[0m\u001b[0ma\u001b[0m\u001b[1;33m)\u001b[0m\u001b[1;33m\u001b[0m\u001b[1;33m\u001b[0m\u001b[0m\n\u001b[0m",
      "\u001b[1;31mStopIteration\u001b[0m: "
     ]
    }
   ],
   "source": [
    "next(a)"
   ]
  },
  {
   "cell_type": "code",
   "execution_count": 24,
   "metadata": {},
   "outputs": [
    {
     "name": "stdout",
     "output_type": "stream",
     "text": [
      "0 iteration\n",
      "0\n",
      "1 iteration\n",
      "1\n",
      "2 iteration\n",
      "2\n",
      "3 iteration\n",
      "3\n",
      "4 iteration\n",
      "4\n"
     ]
    }
   ],
   "source": [
    "def my_gen():\n",
    "    for i in range(5):\n",
    "        print(i,\"iteration\")\n",
    "        yield i\n",
    "\n",
    "a=my_gen()        \n",
    "print(next(a))   \n",
    "print(next(a))   \n",
    "print(next(a))   \n",
    "print(next(a))   \n",
    "print(next(a))   \n",
    "        "
   ]
  },
  {
   "cell_type": "code",
   "execution_count": 28,
   "metadata": {},
   "outputs": [
    {
     "name": "stdout",
     "output_type": "stream",
     "text": [
      "a\n",
      "t\n",
      "a\n",
      "d\n"
     ]
    }
   ],
   "source": [
    "def rev(txt):\n",
    "    str_len=len(txt)\n",
    "    for i in range(str_len-1,-1,-1):\n",
    "        yield txt[i]\n",
    "        \n",
    "a=rev(\"data\")\n",
    "print(next(a))   \n",
    "print(next(a))   \n",
    "print(next(a))   \n",
    "print(next(a))   \n",
    " "
   ]
  },
  {
   "cell_type": "code",
   "execution_count": 29,
   "metadata": {},
   "outputs": [
    {
     "data": {
      "text/plain": [
       "[9, 16, 25, 36, 49]"
      ]
     },
     "execution_count": 29,
     "metadata": {},
     "output_type": "execute_result"
    }
   ],
   "source": [
    " #list  (comprehension has operation and statement)\n",
    "lst=[3,4,5,6,7]\n",
    "[x **2 for x in lst]"
   ]
  },
  {
   "cell_type": "code",
   "execution_count": 30,
   "metadata": {},
   "outputs": [
    {
     "name": "stdout",
     "output_type": "stream",
     "text": [
      "5\n",
      "6\n",
      "7\n",
      "8\n"
     ]
    }
   ],
   "source": [
    "#Generator expression  == > needs a obj to call with next function so that we can get the o/p  as until what we need\n",
    "\n",
    "gen = (x+2 for x in lst)  #generator obj\n",
    "print(next (gen))\n",
    "print(next (gen))\n",
    "print(next (gen))\n",
    "print(next (gen))\n",
    "\n"
   ]
  },
  {
   "cell_type": "code",
   "execution_count": 35,
   "metadata": {},
   "outputs": [
    {
     "data": {
      "text/plain": [
       "225"
      ]
     },
     "execution_count": 35,
     "metadata": {},
     "output_type": "execute_result"
    }
   ],
   "source": [
    "gen=[1 ,2, 3 ,4,5]\n",
    "\n",
    "sum(x **3 for x in gen)"
   ]
  },
  {
   "cell_type": "code",
   "execution_count": 36,
   "metadata": {},
   "outputs": [
    {
     "name": "stdout",
     "output_type": "stream",
     "text": [
      "10\n"
     ]
    }
   ],
   "source": [
    "# Closure\n",
    "\n",
    "def outer (a) :   #enclosing function\n",
    "    def inner():  #nested function\n",
    "        b=a*2\n",
    "        print(b)\n",
    "    inner()\n",
    "    \n",
    "    \n",
    "    \n",
    "outer(5)   "
   ]
  },
  {
   "cell_type": "code",
   "execution_count": 38,
   "metadata": {},
   "outputs": [
    {
     "data": {
      "text/plain": [
       "<function __main__.outer.<locals>.inner()>"
      ]
     },
     "execution_count": 38,
     "metadata": {},
     "output_type": "execute_result"
    }
   ],
   "source": [
    "def outer (a) :\n",
    "    def inner():\n",
    "        b=a*2\n",
    "        print(b)\n",
    "    return inner\n",
    "\n",
    "outer(5)             "
   ]
  },
  {
   "cell_type": "code",
   "execution_count": 61,
   "metadata": {},
   "outputs": [
    {
     "name": "stdout",
     "output_type": "stream",
     "text": [
      "10\n"
     ]
    }
   ],
   "source": [
    "# to get o/p var is needed to hold the return value of inner function and then that var will act as function \n",
    "\n",
    "\n",
    "def outer (a) :\n",
    "    def inner():\n",
    "        b=a*2\n",
    "        print(b)\n",
    "    return inner\n",
    "\n",
    "ret=outer(5)\n",
    "ret()"
   ]
  },
  {
   "cell_type": "code",
   "execution_count": 43,
   "metadata": {},
   "outputs": [
    {
     "ename": "NameError",
     "evalue": "name 'outer' is not defined",
     "output_type": "error",
     "traceback": [
      "\u001b[1;31m---------------------------------------------------------------------------\u001b[0m",
      "\u001b[1;31mNameError\u001b[0m                                 Traceback (most recent call last)",
      "\u001b[1;32m<ipython-input-43-66310c04e399>\u001b[0m in \u001b[0;36m<module>\u001b[1;34m\u001b[0m\n\u001b[1;32m----> 1\u001b[1;33m \u001b[1;32mdel\u001b[0m \u001b[0mouter\u001b[0m\u001b[1;33m\u001b[0m\u001b[1;33m\u001b[0m\u001b[0m\n\u001b[0m\u001b[0;32m      2\u001b[0m \u001b[0mret\u001b[0m\u001b[1;33m(\u001b[0m\u001b[1;33m)\u001b[0m\u001b[1;33m\u001b[0m\u001b[1;33m\u001b[0m\u001b[0m\n",
      "\u001b[1;31mNameError\u001b[0m: name 'outer' is not defined"
     ]
    }
   ],
   "source": [
    "del outer #even enclosing function is deleted value will be there in return function\n"
   ]
  },
  {
   "cell_type": "code",
   "execution_count": 44,
   "metadata": {},
   "outputs": [
    {
     "name": "stdout",
     "output_type": "stream",
     "text": [
      "10\n"
     ]
    }
   ],
   "source": [
    "ret()"
   ]
  },
  {
   "cell_type": "code",
   "execution_count": 42,
   "metadata": {},
   "outputs": [
    {
     "ename": "NameError",
     "evalue": "name 'outer' is not defined",
     "output_type": "error",
     "traceback": [
      "\u001b[1;31m---------------------------------------------------------------------------\u001b[0m",
      "\u001b[1;31mNameError\u001b[0m                                 Traceback (most recent call last)",
      "\u001b[1;32m<ipython-input-42-2acefaafa333>\u001b[0m in \u001b[0;36m<module>\u001b[1;34m\u001b[0m\n\u001b[1;32m----> 1\u001b[1;33m \u001b[0mouter\u001b[0m\u001b[1;33m(\u001b[0m\u001b[1;36m5\u001b[0m\u001b[1;33m)\u001b[0m\u001b[1;33m\u001b[0m\u001b[1;33m\u001b[0m\u001b[0m\n\u001b[0m",
      "\u001b[1;31mNameError\u001b[0m: name 'outer' is not defined"
     ]
    }
   ],
   "source": [
    "outer(5)"
   ]
  },
  {
   "cell_type": "code",
   "execution_count": 52,
   "metadata": {},
   "outputs": [
    {
     "data": {
      "text/plain": [
       "216"
      ]
     },
     "execution_count": 52,
     "metadata": {},
     "output_type": "execute_result"
    }
   ],
   "source": [
    "#decorator --> adding functionality to existing code-->Meta programming  ==>taking function as arg to another function\n",
    "\n",
    "def sqr(x):\n",
    "    return x*x\n",
    "def cube(x):\n",
    "    return pow(x,3)\n",
    "\n",
    "def cal(fn,val):\n",
    "    result=fn(val)\n",
    "    return result\n",
    "\n",
    "\n",
    "cal(cube,6)\n"
   ]
  },
  {
   "cell_type": "code",
   "execution_count": 53,
   "metadata": {},
   "outputs": [
    {
     "data": {
      "text/plain": [
       "49"
      ]
     },
     "execution_count": 53,
     "metadata": {},
     "output_type": "execute_result"
    }
   ],
   "source": [
    "cal(sqr,7)"
   ]
  },
  {
   "cell_type": "code",
   "execution_count": 80,
   "metadata": {},
   "outputs": [
    {
     "name": "stdout",
     "output_type": "stream",
     "text": [
      "&&&&&\n",
      "Ordinary\n",
      "Decorated\n",
      "&&&&\n",
      "&&&&&\n",
      "Ordinary\n",
      "Decorated\n",
      "&&&&\n"
     ]
    }
   ],
   "source": [
    "#function that calls the normal function to decorate is called decorating function\n",
    "#one way:\n",
    "def dec_fun(f):\n",
    "    def nested_fun():\n",
    "        print(\"&&&&&\")\n",
    "        f()              \n",
    "        print(\"Decorated\")\n",
    "        print(\"&&&&\")\n",
    "    return nested_fun\n",
    "\n",
    "\n",
    "@dec_fun    \n",
    "def normal_fun():\n",
    "    print(\"Ordinary\")\n",
    "normal_fun()    \n",
    "# dec=dec_fun(normal_fun)  \n",
    "# dec()\n",
    "\n",
    "#second way:\n",
    "def dec_fun(f):\n",
    "    def nested_fun():\n",
    "        print(\"&&&&&\")\n",
    "        f()              \n",
    "        print(\"Decorated\")\n",
    "        print(\"&&&&\")\n",
    "    return nested_fun\n",
    "\n",
    "   \n",
    "def normal_fun():\n",
    "    print(\"Ordinary\")\n",
    "  \n",
    "\n",
    "\n",
    "dec=dec_fun(normal_fun)  \n",
    "dec()\n",
    "\n"
   ]
  },
  {
   "cell_type": "code",
   "execution_count": 68,
   "metadata": {},
   "outputs": [],
   "source": [
    "def deco_fn(val):\n",
    "    def nested_fn(a,b):\n",
    "        print(\"Dividing\", a , 'and' , b)\n",
    "        if b==0:\n",
    "            print(\"can't divide\")\n",
    "            return\n",
    "        return val(a,b) \n",
    "    return nested_fn\n",
    "\n",
    "@deco_fn\n",
    "def ordinary_fn(a,b):\n",
    "    return a//b\n"
   ]
  },
  {
   "cell_type": "code",
   "execution_count": 69,
   "metadata": {},
   "outputs": [
    {
     "name": "stdout",
     "output_type": "stream",
     "text": [
      "Dividing 49 and 7\n"
     ]
    },
    {
     "data": {
      "text/plain": [
       "7"
      ]
     },
     "execution_count": 69,
     "metadata": {},
     "output_type": "execute_result"
    }
   ],
   "source": [
    "ordinary_fn(49,7)"
   ]
  },
  {
   "cell_type": "code",
   "execution_count": null,
   "metadata": {},
   "outputs": [],
   "source": []
  }
 ],
 "metadata": {
  "kernelspec": {
   "display_name": "Python 3",
   "language": "python",
   "name": "python3"
  },
  "language_info": {
   "codemirror_mode": {
    "name": "ipython",
    "version": 3
   },
   "file_extension": ".py",
   "mimetype": "text/x-python",
   "name": "python",
   "nbconvert_exporter": "python",
   "pygments_lexer": "ipython3",
   "version": "3.7.1"
  }
 },
 "nbformat": 4,
 "nbformat_minor": 2
}
