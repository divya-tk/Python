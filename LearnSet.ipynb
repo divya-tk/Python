{
 "cells": [
  {
   "cell_type": "code",
   "execution_count": 1,
   "metadata": {},
   "outputs": [],
   "source": [
    "# LearnSet \n",
    "\n",
    "    # A Set is unordered collection of Elements or Items\n",
    "    # Its doesn't allows the duplicate values which means it allows only unique values.\n",
    "    \n",
    "    # A set is created by placing all the items (elements) inside curly braces {}. \n",
    "    # We cannot access or change an element of set using indexing or slicing.(because of unorder)\n",
    "    \n",
    "    # Set -> \n",
    "        \n",
    "         # add      :    its add values in existing set(one element)\n",
    "         # update   :    its add multiple values like list with set.\n",
    "        \n",
    "         # remove   :    its remove the value bases on given value. remove is not work based on indexing(because of unorder) \n",
    "         # clear    :    its clear entire set.\n",
    "            \n",
    "        # len       :    its return count of item\n",
    "        # sum       :    sum the each item in the set(only for integer)\n",
    "        # min       :    its print minimum value in the given list\n",
    "        # max       :    its return maximum value in the given list\n",
    "        \n",
    "        # |         :    union of two or more Set \n",
    "        # &         :    intersection of two or more Set {its display values available in both set}\n",
    "        # -         :    Difference  of Set {its display values available in first set}\n",
    "        # ^         :    \n",
    "        \n",
    "        \n",
    "            \n",
    "     "
   ]
  },
  {
   "cell_type": "code",
   "execution_count": 1,
   "metadata": {},
   "outputs": [
    {
     "name": "stdout",
     "output_type": "stream",
     "text": [
      "{'Marshmallow', 'Nougat', 'Oreo', 'Pie'}\n",
      "<class 'set'>\n",
      "{}\n",
      "<class 'dict'>\n"
     ]
    }
   ],
   "source": [
    "# initialize Set\n",
    "a_version = {\"Pie\", \"Oreo\", \"Nougat\", \"Marshmallow\"}\n",
    "print(a_version)\n",
    "print(type(a_version))\n",
    "\n",
    "\n",
    "a_version = {}\n",
    "print(a_version)\n",
    "print(type(a_version))\n",
    "\n",
    "a_version = {\"Jelly Bean\"}\n"
   ]
  },
  {
   "cell_type": "code",
   "execution_count": 2,
   "metadata": {
    "scrolled": true
   },
   "outputs": [
    {
     "name": "stdout",
     "output_type": "stream",
     "text": [
      "{'Nougat', 'Marshmallow', 'Oreo', 'Jelly Bean', 'Pie'}\n"
     ]
    }
   ],
   "source": [
    "a_version.add(\"Pie\")\n",
    "a_version.add(\"Oreo\")\n",
    "a_version.add(\"Nougat\")\n",
    "a_version.add(\"Marshmallow\")\n",
    "print(a_version)\n"
   ]
  },
  {
   "cell_type": "code",
   "execution_count": 3,
   "metadata": {},
   "outputs": [
    {
     "ename": "TypeError",
     "evalue": "'set' object does not support indexing",
     "output_type": "error",
     "traceback": [
      "\u001b[1;31m---------------------------------------------------------------------------\u001b[0m",
      "\u001b[1;31mTypeError\u001b[0m                                 Traceback (most recent call last)",
      "\u001b[1;32m<ipython-input-3-2aaed0f52f84>\u001b[0m in \u001b[0;36m<module>\u001b[1;34m()\u001b[0m\n\u001b[0;32m      1\u001b[0m \u001b[1;31m# Set -> not support indexing\u001b[0m\u001b[1;33m\u001b[0m\u001b[1;33m\u001b[0m\u001b[0m\n\u001b[1;32m----> 2\u001b[1;33m \u001b[0ma_version\u001b[0m\u001b[1;33m[\u001b[0m\u001b[1;36m2\u001b[0m\u001b[1;33m]\u001b[0m\u001b[1;33m\u001b[0m\u001b[0m\n\u001b[0m",
      "\u001b[1;31mTypeError\u001b[0m: 'set' object does not support indexing"
     ]
    }
   ],
   "source": [
    "# Set -> not support indexing\n",
    "a_version[2]"
   ]
  },
  {
   "cell_type": "code",
   "execution_count": 17,
   "metadata": {},
   "outputs": [
    {
     "name": "stdout",
     "output_type": "stream",
     "text": [
      "{'Marshmallow', 'Nougat', 'Pie'}\n"
     ]
    }
   ],
   "source": [
    "# remove item based on value - not an index\n",
    "a_version = {\"Pie\", \"Oreo\", \"Nougat\", \"Marshmallow\"}\n",
    "a_version.remove(\"Oreo\")\n",
    "print(a_version)"
   ]
  },
  {
   "cell_type": "code",
   "execution_count": 18,
   "metadata": {},
   "outputs": [
    {
     "name": "stdout",
     "output_type": "stream",
     "text": [
      "{'Nougat', 'Marshmallow', 'Lollipop', 'Pie'}\n"
     ]
    }
   ],
   "source": [
    "# add new item in the Set\n",
    "a_version.add(\"Lollipop\")\n",
    "print(a_version)"
   ]
  },
  {
   "cell_type": "code",
   "execution_count": 6,
   "metadata": {},
   "outputs": [
    {
     "name": "stdout",
     "output_type": "stream",
     "text": [
      "6\n"
     ]
    }
   ],
   "source": [
    "# for Count of Set\n",
    "print(len(a_version))"
   ]
  },
  {
   "cell_type": "code",
   "execution_count": 7,
   "metadata": {},
   "outputs": [
    {
     "name": "stdout",
     "output_type": "stream",
     "text": [
      "Pie\n"
     ]
    }
   ],
   "source": [
    "#fetch maximum value in Set\n",
    "print(max(a_version))"
   ]
  },
  {
   "cell_type": "code",
   "execution_count": 19,
   "metadata": {},
   "outputs": [
    {
     "name": "stdout",
     "output_type": "stream",
     "text": [
      "Lollipop\n"
     ]
    }
   ],
   "source": [
    "#fetch minimum value in Set\n",
    "print(min(a_version))"
   ]
  },
  {
   "cell_type": "code",
   "execution_count": 20,
   "metadata": {},
   "outputs": [
    {
     "name": "stdout",
     "output_type": "stream",
     "text": [
      "6\n",
      "None\n"
     ]
    }
   ],
   "source": [
    "# sum of each item(integer)\n",
    "tec = {1,2,3}\n",
    "print(sum(tec))\n",
    "print(tec.clear())"
   ]
  },
  {
   "cell_type": "code",
   "execution_count": 10,
   "metadata": {},
   "outputs": [],
   "source": [
    "# Create new two set collection\n",
    "andriodNewVerions = {\"Pie\", \"Oreo\", \"Nougat\", \"Marshmallow\", \"Lollipop\"}\n",
    "andriodOlderVersions = {\"Lollipop\", \"KitKat\", \"Jelly Bean\", \"Lollipop\"}"
   ]
  },
  {
   "cell_type": "code",
   "execution_count": 23,
   "metadata": {},
   "outputs": [
    {
     "ename": "TypeError",
     "evalue": "unsupported operand type(s) for +: 'set' and 'set'",
     "output_type": "error",
     "traceback": [
      "\u001b[1;31m---------------------------------------------------------------------------\u001b[0m",
      "\u001b[1;31mTypeError\u001b[0m                                 Traceback (most recent call last)",
      "\u001b[1;32m<ipython-input-23-5e882fad865b>\u001b[0m in \u001b[0;36m<module>\u001b[1;34m()\u001b[0m\n\u001b[0;32m      1\u001b[0m \u001b[1;31m# adding two Sets\u001b[0m\u001b[1;33m\u001b[0m\u001b[1;33m\u001b[0m\u001b[0m\n\u001b[1;32m----> 2\u001b[1;33m \u001b[0mandriodNewVerions\u001b[0m \u001b[1;33m+\u001b[0m \u001b[0mandriodOlderVersions\u001b[0m\u001b[1;33m\u001b[0m\u001b[0m\n\u001b[0m",
      "\u001b[1;31mTypeError\u001b[0m: unsupported operand type(s) for +: 'set' and 'set'"
     ]
    }
   ],
   "source": [
    "# adding two Sets\n",
    "andriodNewVerions + andriodOlderVersions"
   ]
  },
  {
   "cell_type": "code",
   "execution_count": 12,
   "metadata": {},
   "outputs": [
    {
     "data": {
      "text/plain": [
       "{'Jelly Bean', 'KitKat', 'Lollipop', 'Marshmallow', 'Nougat', 'Oreo', 'Pie'}"
      ]
     },
     "execution_count": 12,
     "metadata": {},
     "output_type": "execute_result"
    }
   ],
   "source": [
    "# Union of Two Sets\n",
    "andriodNewVerions | andriodOlderVersions"
   ]
  },
  {
   "cell_type": "code",
   "execution_count": 13,
   "metadata": {},
   "outputs": [
    {
     "data": {
      "text/plain": [
       "{'Lollipop'}"
      ]
     },
     "execution_count": 13,
     "metadata": {},
     "output_type": "execute_result"
    }
   ],
   "source": [
    "# intersection  of Two Sets\n",
    "andriodNewVerions & andriodOlderVersions"
   ]
  },
  {
   "cell_type": "code",
   "execution_count": 14,
   "metadata": {},
   "outputs": [
    {
     "data": {
      "text/plain": [
       "{'Marshmallow', 'Nougat', 'Oreo', 'Pie'}"
      ]
     },
     "execution_count": 14,
     "metadata": {},
     "output_type": "execute_result"
    }
   ],
   "source": [
    "# Difference  of Two Sets\n",
    "andriodNewVerions - andriodOlderVersions"
   ]
  },
  {
   "cell_type": "code",
   "execution_count": 15,
   "metadata": {},
   "outputs": [
    {
     "data": {
      "text/plain": [
       "{'Jelly Bean', 'KitKat', 'Marshmallow', 'Nougat', 'Oreo', 'Pie'}"
      ]
     },
     "execution_count": 15,
     "metadata": {},
     "output_type": "execute_result"
    }
   ],
   "source": [
    "# Difference  of Two Sets\n",
    "andriodNewVerions ^ andriodOlderVersions"
   ]
  },
  {
   "cell_type": "code",
   "execution_count": null,
   "metadata": {},
   "outputs": [],
   "source": []
  },
  {
   "cell_type": "code",
   "execution_count": null,
   "metadata": {},
   "outputs": [],
   "source": []
  },
  {
   "cell_type": "code",
   "execution_count": null,
   "metadata": {},
   "outputs": [],
   "source": []
  }
 ],
 "metadata": {
  "kernelspec": {
   "display_name": "Python 3",
   "language": "python",
   "name": "python3"
  },
  "language_info": {
   "codemirror_mode": {
    "name": "ipython",
    "version": 3
   },
   "file_extension": ".py",
   "mimetype": "text/x-python",
   "name": "python",
   "nbconvert_exporter": "python",
   "pygments_lexer": "ipython3",
   "version": "3.6.5"
  }
 },
 "nbformat": 4,
 "nbformat_minor": 2
}
