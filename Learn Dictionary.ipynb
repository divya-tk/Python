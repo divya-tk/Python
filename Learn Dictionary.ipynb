{
 "cells": [
  {
   "cell_type": "code",
   "execution_count": null,
   "metadata": {},
   "outputs": [],
   "source": [
    "#Learn Dictionary\n",
    "\n",
    "    # Dictionary is unordered collection of Pairs. -> Keys with values\n",
    "    # Key must be a unique and value allows dups\n",
    "    # If you assign a value to a key then later in the same dictionary have the \n",
    "        #same key assigned to a new value, the previous value will be overwritten.\n",
    "    # collection of items accessed by a specific key rather than by index. \n",
    "    "
   ]
  },
  {
   "cell_type": "code",
   "execution_count": 16,
   "metadata": {},
   "outputs": [
    {
     "name": "stdout",
     "output_type": "stream",
     "text": [
      "<class 'dict'>\n"
     ]
    }
   ],
   "source": [
    "# initialize Dict\n",
    "a_version = {'Pie' : 9.0, \n",
    "             'Oreo' : 8.0, \n",
    "             'Nougat' : 7.0,\n",
    "             'Marshmallow' : 6.0}\n",
    "print(type(a_version))"
   ]
  },
  {
   "cell_type": "code",
   "execution_count": 18,
   "metadata": {},
   "outputs": [
    {
     "name": "stdout",
     "output_type": "stream",
     "text": [
      "8.0\n"
     ]
    }
   ],
   "source": [
    "# get value the value \n",
    "print(a_version['Oreo'])"
   ]
  },
  {
   "cell_type": "code",
   "execution_count": 21,
   "metadata": {},
   "outputs": [
    {
     "name": "stdout",
     "output_type": "stream",
     "text": [
      "8.1\n"
     ]
    }
   ],
   "source": [
    "# update the value\n",
    "a_version['Oreo'] = 8.1\n",
    "print(a_version['Oreo'])"
   ]
  },
  {
   "cell_type": "code",
   "execution_count": 2,
   "metadata": {},
   "outputs": [
    {
     "ename": "KeyError",
     "evalue": "'Oreo1'",
     "output_type": "error",
     "traceback": [
      "\u001b[1;31m---------------------------------------------------------------------------\u001b[0m",
      "\u001b[1;31mKeyError\u001b[0m                                  Traceback (most recent call last)",
      "\u001b[1;32m<ipython-input-2-0e47db244948>\u001b[0m in \u001b[0;36m<module>\u001b[1;34m()\u001b[0m\n\u001b[0;32m      4\u001b[0m              \u001b[1;34m'Nougat'\u001b[0m \u001b[1;33m:\u001b[0m \u001b[1;36m7.0\u001b[0m\u001b[1;33m,\u001b[0m\u001b[1;33m\u001b[0m\u001b[0m\n\u001b[0;32m      5\u001b[0m              'Marshmallow' : 6.0}\n\u001b[1;32m----> 6\u001b[1;33m \u001b[0mprint\u001b[0m\u001b[1;33m(\u001b[0m\u001b[0ma_version\u001b[0m\u001b[1;33m[\u001b[0m\u001b[1;34m'Oreo1'\u001b[0m\u001b[1;33m]\u001b[0m\u001b[1;33m)\u001b[0m\u001b[1;33m\u001b[0m\u001b[0m\n\u001b[0m",
      "\u001b[1;31mKeyError\u001b[0m: 'Oreo1'"
     ]
    }
   ],
   "source": [
    "# try to get value which is not present in the Dict\n",
    "\n",
    "print(a_version['Oreo1'])"
   ]
  },
  {
   "cell_type": "code",
   "execution_count": 23,
   "metadata": {},
   "outputs": [
    {
     "name": "stdout",
     "output_type": "stream",
     "text": [
      "8.1\n"
     ]
    }
   ],
   "source": [
    "# another way to get the value\n",
    "print(a_version.get('Oreo'))"
   ]
  },
  {
   "cell_type": "code",
   "execution_count": 24,
   "metadata": {},
   "outputs": [
    {
     "name": "stdout",
     "output_type": "stream",
     "text": [
      "None\n"
     ]
    }
   ],
   "source": [
    "# try to get value using get func which is not present in the Dict\n",
    "print(a_version.get('Oreo1'))"
   ]
  },
  {
   "cell_type": "code",
   "execution_count": 6,
   "metadata": {},
   "outputs": [
    {
     "name": "stdout",
     "output_type": "stream",
     "text": [
      "10.0\n"
     ]
    }
   ],
   "source": [
    "# try to get value using get func which is not present in the Dict, then we set default value\n",
    "a_version = {'Pie' : 9.0, \n",
    "             'Oreo' : 8.0, \n",
    "             'Nougat' : 7.0,\n",
    "             'Marshmallow' : 6.0,\n",
    "              'Nougat' : 10.0,}\n",
    "\n",
    "print(a_version.get('Nougat', 100))\n"
   ]
  },
  {
   "cell_type": "code",
   "execution_count": 7,
   "metadata": {},
   "outputs": [
    {
     "name": "stdout",
     "output_type": "stream",
     "text": [
      "dict_keys(['Pie', 'Oreo', 'Nougat', 'Marshmallow'])\n"
     ]
    }
   ],
   "source": [
    "# get only keys in the Dict\n",
    "print(a_version.keys())"
   ]
  },
  {
   "cell_type": "code",
   "execution_count": 8,
   "metadata": {},
   "outputs": [
    {
     "name": "stdout",
     "output_type": "stream",
     "text": [
      "dict_values([9.0, 8.0, 10.0, 6.0])\n"
     ]
    }
   ],
   "source": [
    "# get only values in the Dict\n",
    "print(a_version.values())"
   ]
  },
  {
   "cell_type": "code",
   "execution_count": 28,
   "metadata": {},
   "outputs": [
    {
     "name": "stdout",
     "output_type": "stream",
     "text": [
      "dict_items([('Pie', 9.0), ('Oreo', 8.1), ('Nougat', 7.0), ('Marshmallow', 6.0)])\n"
     ]
    }
   ],
   "source": [
    "# get key with value pair\n",
    "print(a_version.items())"
   ]
  },
  {
   "cell_type": "code",
   "execution_count": 9,
   "metadata": {},
   "outputs": [
    {
     "name": "stdout",
     "output_type": "stream",
     "text": [
      "Pie ----------> 9.0\n",
      "Oreo ----------> 8.0\n",
      "Nougat ----------> 10.0\n",
      "Marshmallow ----------> 6.0\n"
     ]
    }
   ],
   "source": [
    "# for each Key with value\n",
    "for (key,value) in a_version.items():\n",
    "    print(f\"{key} ----------> {value}\")"
   ]
  },
  {
   "cell_type": "code",
   "execution_count": 10,
   "metadata": {},
   "outputs": [
    {
     "name": "stdout",
     "output_type": "stream",
     "text": [
      "{'Pie': 9.0, 'Nougat': 7.0, 'Marshmallow': 6.0}\n"
     ]
    }
   ],
   "source": [
    "# delete the entry\n",
    "a_version = {'Pie' : 9.0, 'Oreo' : 8.0, 'Nougat' : 7.0, 'Marshmallow' : 6.0}\n",
    "del a_version['Oreo']\n",
    "print(a_version)"
   ]
  },
  {
   "cell_type": "code",
   "execution_count": 1,
   "metadata": {},
   "outputs": [
    {
     "name": "stdout",
     "output_type": "stream",
     "text": [
      "Enter the text:gopi oio daoiiodf\n",
      "{'o': 5}\n"
     ]
    }
   ],
   "source": [
    "# write a code for get given character count for given String\n",
    "str = input(\"Enter the text:\" )\n",
    "\n",
    "count = 0\n",
    "char_Count = {} #[]\n",
    "\n",
    "for eachChar in str:\n",
    "    if(eachChar == 'o'):\n",
    "        count +=1  # count = count+1\n",
    "        char_Count[eachChar] = count\n",
    "\n",
    "print(char_Count)\n"
   ]
  },
  {
   "cell_type": "code",
   "execution_count": 2,
   "metadata": {},
   "outputs": [
    {
     "name": "stdout",
     "output_type": "stream",
     "text": [
      "{'D': 1, 'a': 2, 't': 1}\n"
     ]
    }
   ],
   "source": [
    "# write a code for print each character count for given String\n",
    "str = \"Data\"\n",
    "\n",
    "char_Count = {} #[]\n",
    "\n",
    "for eachChar in str:\n",
    "    char_Count[eachChar] = char_Count.get(eachChar, 0)+1\n",
    "\n",
    "print(char_Count)\n"
   ]
  },
  {
   "cell_type": "code",
   "execution_count": 62,
   "metadata": {},
   "outputs": [
    {
     "name": "stdout",
     "output_type": "stream",
     "text": [
      "{'Data': 1}\n"
     ]
    }
   ],
   "source": [
    "# write a code for print each word count for given String\n",
    "str = \"Data\"\n",
    "\n",
    "word_Count = {} #[]\n",
    "\n",
    "for eachword in str.split():\n",
    "    word_Count[eachword] = word_Count.get(eachword, 0)+1\n",
    "\n",
    "print(word_Count)"
   ]
  },
  {
   "cell_type": "code",
   "execution_count": null,
   "metadata": {},
   "outputs": [],
   "source": []
  }
 ],
 "metadata": {
  "kernelspec": {
   "display_name": "Python 3",
   "language": "python",
   "name": "python3"
  },
  "language_info": {
   "codemirror_mode": {
    "name": "ipython",
    "version": 3
   },
   "file_extension": ".py",
   "mimetype": "text/x-python",
   "name": "python",
   "nbconvert_exporter": "python",
   "pygments_lexer": "ipython3",
   "version": "3.6.5"
  }
 },
 "nbformat": 4,
 "nbformat_minor": 2
}
