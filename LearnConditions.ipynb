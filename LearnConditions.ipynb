{
 "cells": [
  {
   "cell_type": "code",
   "execution_count": 3,
   "metadata": {},
   "outputs": [
    {
     "ename": "IndentationError",
     "evalue": "unexpected indent (<ipython-input-3-d7fe77cc07e3>, line 15)",
     "output_type": "error",
     "traceback": [
      "\u001b[1;36m  File \u001b[1;32m\"<ipython-input-3-d7fe77cc07e3>\"\u001b[1;36m, line \u001b[1;32m15\u001b[0m\n\u001b[1;33m    0  0  =  0\u001b[0m\n\u001b[1;37m    ^\u001b[0m\n\u001b[1;31mIndentationError\u001b[0m\u001b[1;31m:\u001b[0m unexpected indent\n"
     ]
    }
   ],
   "source": [
    "# Conditions, Logical Operators and Looping\n",
    "\n",
    "       # Conditions:\n",
    "           \n",
    "        # Decision making is required when we want to execute a code only if a certain condition is satisfied.\n",
    "           #The if…elif…else statement is used in Python for decision making.\n",
    " \n",
    "\n",
    "\n",
    "       # Logical Operators:  and or not ^\n",
    "        \n",
    "            # for And Operator:     when both operands are true then only \n",
    "                                    #it returns \"TRUE\"\n",
    "            \n",
    "                                        0  0  =  0\n",
    "                                        0  1  =  0\n",
    "                                        1  0  =  0\n",
    "                                        1  1  =  1\n",
    "                            \n",
    "                            \n",
    "            # for Or Operator :     When atleast one of the operands are true \n",
    "                                    #then it returns \"TRUE\"\n",
    "            \n",
    "                                        0  0  =  0\n",
    "                                        0  1  =  1\n",
    "                                        1  0  =  1\n",
    "                                        1  1  =  1\n",
    "                            \n",
    "                            \n",
    "            # for Not Operator :    Used to reverse the logical state of its\n",
    "                                    #operand.(simple says its reverse the value) \n",
    "            \n",
    "                                        0  1\n",
    "                                        1  0\n",
    "                    \n",
    "                    \n",
    "            # for ^ Operator :      When both operands are diffenct value \n",
    "                                    #then it returns \"True\"\n",
    "            \n",
    "                                        0  0  =  0\n",
    "                                        0  1  =  1\n",
    "                                        1  0  =  1\n",
    "                                        1  1  =  0\n",
    "                            \n",
    "       # Loops: for nd while loop\n",
    "    \n",
    "            # for_loop : its helps us to run same code multiple time repeatedly.\n",
    "            \n",
    "            \n",
    "            \n",
    "    "
   ]
  },
  {
   "cell_type": "code",
   "execution_count": 2,
   "metadata": {},
   "outputs": [
    {
     "name": "stdout",
     "output_type": "stream",
     "text": [
      "Enter the value:16 10\n",
      "16  is greater than given number\n"
     ]
    }
   ],
   "source": [
    "# Find the biggest number in given two number.\n",
    "\n",
    "num, num1 = input(\"Enter the value:\" ).split()\n",
    "\n",
    "num = int(num)\n",
    "num1 = int(num1)\n",
    "\n",
    "if num > num1:\n",
    "    print(f\"{num}  is greater than given number\")\n",
    "else:\n",
    "    print(f\"{num} is less than given number\")"
   ]
  },
  {
   "cell_type": "code",
   "execution_count": 16,
   "metadata": {},
   "outputs": [
    {
     "name": "stdout",
     "output_type": "stream",
     "text": [
      "Enter the number:45 78 65\n",
      "78 is biggest number in given numbers\n"
     ]
    }
   ],
   "source": [
    "#Find the biggest number in given three number.\n",
    "\n",
    "a, b, c  = input(\"Enter the number:\").split()\n",
    "\n",
    "if int(a) > int(b) & int(a) > int(c):\n",
    "    print(f\"{a} is biggest number in given numbers\")\n",
    "    \n",
    "elif int(b) > int(c):\n",
    "    print(f\"{b} is biggest number in given numbers\")\n",
    "    \n",
    "else:\n",
    "    print(f\"{c} is biggest number in given numbers\")"
   ]
  },
  {
   "cell_type": "code",
   "execution_count": 21,
   "metadata": {},
   "outputs": [
    {
     "name": "stdout",
     "output_type": "stream",
     "text": [
      "Enter the value's: 111 222 333 444\n",
      "444 is greater value in given four values\n"
     ]
    }
   ],
   "source": [
    "#Find the biggest number in given four number.\n",
    "\n",
    "a, b, c, d = input(\"Enter the value's: \" ).split()\n",
    "\n",
    "if int(a)+int(b) > int(c)+int(d):\n",
    "    \n",
    "    if int(a) > int(b):\n",
    "        print(f\"{a} is greater value in given four values\")\n",
    "    else:\n",
    "        print(f\"{b} is greater value in given four values\")\n",
    "        \n",
    "elif int(c) > int(d):\n",
    "    print(f\"{c} is greater value in given four values\")\n",
    "    \n",
    "else:\n",
    "    print(f\"{d} is greater value in given four values\")"
   ]
  },
  {
   "cell_type": "code",
   "execution_count": 32,
   "metadata": {},
   "outputs": [
    {
     "name": "stdout",
     "output_type": "stream",
     "text": [
      "Enter the max number:5\n",
      "5 is Odd number\n"
     ]
    }
   ],
   "source": [
    "# Find given number is Odd or Even.\n",
    "\n",
    "n = int(input(\"Enter the numbers:\" ))\n",
    "\n",
    "if n%2==0:\n",
    "    print (f\"{n} is even number\")\n",
    "else:\n",
    "    print (f\"{n} is Odd number\")"
   ]
  },
  {
   "cell_type": "code",
   "execution_count": 14,
   "metadata": {},
   "outputs": [
    {
     "name": "stdout",
     "output_type": "stream",
     "text": [
      "Enter two number: 20 69\n",
      "atleast one of 20 and 69 are even)\n"
     ]
    }
   ],
   "source": [
    "# Find out given two number is Odd or Even.\n",
    "\n",
    "num1, num2 = input(\"Enter two number: \").split()\n",
    "\n",
    "num1 = int(num1)\n",
    "num2 = int(num2)\n",
    "\n",
    "if num1%2 == 0 and num2%2 == 0:\n",
    "    print(f\"Both number's {num1} and {num2} are even)\")\n",
    "elif num1%2 == 0 or num2%2 == 0:\n",
    "    print(f\"atleast one of {num1} and {num2} are even)\")\n"
   ]
  },
  {
   "cell_type": "code",
   "execution_count": 24,
   "metadata": {},
   "outputs": [
    {
     "name": "stdout",
     "output_type": "stream",
     "text": [
      "Enter two number's: 20 30\n",
      "Choice pls: 3\n",
      "600\n"
     ]
    }
   ],
   "source": [
    "# Build basic Mathematical Calculation for two number's like addition, \n",
    "    #subtraction, multiplication, division\n",
    "\n",
    "num1, num2 = input(\"Enter two number's: \").split()\n",
    "num1 =int(num1)\n",
    "num2 =int(num2)\n",
    "\n",
    "choice = int(input(\"Choice pls: \"))\n",
    "\n",
    "if choice == 1:\n",
    "    result = num1+num2\n",
    "elif choice == 2:\n",
    "    result = num1-num2\n",
    "elif choice == 3:\n",
    "    result = num1*num2\n",
    "elif choice == 4:\n",
    "    result =num1 / num2\n",
    "else:\n",
    "   result = \"Invalid Choice\"\n",
    "\n",
    "print(result)"
   ]
  },
  {
   "cell_type": "code",
   "execution_count": 42,
   "metadata": {},
   "outputs": [
    {
     "name": "stdout",
     "output_type": "stream",
     "text": [
      "1\n",
      "2\n",
      "3\n",
      "4\n",
      "5\n",
      "6\n",
      "7\n",
      "8\n",
      "9\n",
      "10\n",
      "\n",
      "\n",
      "g\n",
      "o\n",
      "p\n",
      "i\n",
      "n\n",
      "a\n",
      "t\n",
      "h\n",
      "\n",
      "\n",
      "Gopinath\n",
      "Jayakumar\n",
      "\n",
      "\n",
      "a\n",
      "b\n",
      "c\n",
      "d\n",
      "\n",
      "\n",
      "2\n",
      "4\n",
      "6\n",
      "8\n",
      "\n",
      "\n",
      "i\n",
      "o\n",
      "a\n",
      "u\n",
      "e\n",
      "\n",
      "\n",
      "('a', 1)\n",
      "('b', 2)\n",
      "('c', 3)\n",
      "('d', 4)\n"
     ]
    }
   ],
   "source": [
    "# for loop\n",
    "\n",
    "for i in range(1,11): # for numbers\n",
    "    print(i)\n",
    "print(\"\\n\")\n",
    "    \n",
    "for ch in 'gopinath': # for character\n",
    "    print(ch)\n",
    "print(\"\\n\")\n",
    "    \n",
    "for word in 'Gopinath Jayakumar'.split(): # for words\n",
    "    print(word)\n",
    "print(\"\\n\")\n",
    "    \n",
    "for item in ['a', 'b', 'c', 'd']: # for list\n",
    "    print(item)\n",
    "print(\"\\n\")\n",
    "    \n",
    "for item in ('2', '4', '6', '8'): # for tuple\n",
    "    print(item)\n",
    "print(\"\\n\")\n",
    "    \n",
    "for item in {'a', 'e', 'i', 'o', 'u', 'a', 'e', 'i', 'o', 'u'}: # for tuple\n",
    "    print(item)\n",
    "print(\"\\n\")\n",
    "    \n",
    "for item in {\"a\" : 1, \"b\" : 2, \"c\" : 3, \"d\" : 4}.items():\n",
    "    print(item)"
   ]
  },
  {
   "cell_type": "code",
   "execution_count": 8,
   "metadata": {},
   "outputs": [
    {
     "name": "stdout",
     "output_type": "stream",
     "text": [
      "2\n",
      "3\n",
      "5\n",
      "7\n",
      "11\n",
      "13\n",
      "17\n",
      "19\n"
     ]
    }
   ],
   "source": [
    "# Find the prime number between 1 to 10\n",
    "\n",
    "for num in range(20): \n",
    "    if num > 1: \n",
    "        for i in range(2, num): \n",
    "            if num%i == 0: \n",
    "                break \n",
    "        else: print (num)"
   ]
  },
  {
   "cell_type": "code",
   "execution_count": 3,
   "metadata": {},
   "outputs": [
    {
     "name": "stdout",
     "output_type": "stream",
     "text": [
      "Enter the number: 5\n",
      "15\n"
     ]
    }
   ],
   "source": [
    "# Find the sum upto given number\n",
    "\n",
    "num = int(input(\"Enter the number: \"))\n",
    "sum = 0\n",
    "for i in range(1,num+1):\n",
    "    sum +=i\n",
    "print(sum)"
   ]
  },
  {
   "cell_type": "code",
   "execution_count": 10,
   "metadata": {},
   "outputs": [
    {
     "name": "stdout",
     "output_type": "stream",
     "text": [
      " \n",
      " 1 \n",
      " 1 2 \n",
      " 1 2 3 \n",
      " 1 2 3 4 \n"
     ]
    }
   ],
   "source": [
    "# Print triangle of 1 2 3 4 5 \n",
    "\n",
    "x = \"\"\n",
    "for i in range(1, 6):\n",
    "    print(x, end =\" \")\n",
    "    print()\n",
    "    x += \" \"+str(i)\n",
    "   \n",
    "\n"
   ]
  },
  {
   "cell_type": "code",
   "execution_count": 27,
   "metadata": {},
   "outputs": [],
   "source": [
    "# Print triangle of another way"
   ]
  },
  {
   "cell_type": "code",
   "execution_count": 29,
   "metadata": {},
   "outputs": [
    {
     "name": "stdout",
     "output_type": "stream",
     "text": [
      "1 \n",
      "1 2 \n",
      "1 2 3 \n",
      "1 2 3 4 \n",
      "1 2 3 4 5 \n",
      "1 2 3 4 5 6 \n",
      "1 2 3 4 5 6 7 \n",
      "1 2 3 4 5 6 7 8 \n",
      "1 2 3 4 5 6 7 8 9 \n",
      "1 2 3 4 5 6 7 8 9 10 \n"
     ]
    }
   ],
   "source": [
    "for j in range(1, 11):\n",
    "    for i in range(1, j+1):\n",
    "        print(i, end = \" \")\n",
    "    print()"
   ]
  },
  {
   "cell_type": "code",
   "execution_count": 1,
   "metadata": {},
   "outputs": [
    {
     "name": "stdout",
     "output_type": "stream",
     "text": [
      "0 0\n",
      "0 1\n",
      "0 2\n",
      "\n",
      "1 0\n",
      "1 1\n",
      "1 2\n",
      "\n"
     ]
    }
   ],
   "source": [
    "for i in range(0, 2):\n",
    "    for j in range(0, 3):\n",
    "        print (i,j )\n",
    "    print()"
   ]
  },
  {
   "cell_type": "code",
   "execution_count": 2,
   "metadata": {},
   "outputs": [
    {
     "name": "stdout",
     "output_type": "stream",
     "text": [
      "(1, 2)\n",
      "(2, 3)\n",
      "(3, 4)\n",
      "(4, 5)\n"
     ]
    }
   ],
   "source": [
    "x = [1, 2, 3, 4]\n",
    "y = [2, 3, 4, 5]\n",
    "\n",
    "zipped = zip(x, y)\n",
    "for i in zipped:\n",
    "    print(i)"
   ]
  },
  {
   "cell_type": "code",
   "execution_count": 66,
   "metadata": {},
   "outputs": [
    {
     "name": "stdout",
     "output_type": "stream",
     "text": [
      "       0\n",
      "      000\n",
      "     00000\n",
      "    0000000\n",
      "   000000000\n",
      "  00000000000\n",
      " 0000000000000\n"
     ]
    }
   ],
   "source": [
    "for i in range(0, 7):\n",
    "    for j in range(0, 7 - i):\n",
    "        print(\" \", end = \"\")\n",
    "    for k in range(0, 2*i+1):\n",
    "        print(\"0\", end=\"\")\n",
    "    print(\"\")\n",
    "    \n",
    "    for i in range(10):\n",
    "        for j in range (10):\n",
    "            \n",
    "    for i, j in range(10), range(16):\n",
    "        "
   ]
  },
  {
   "cell_type": "code",
   "execution_count": 1,
   "metadata": {},
   "outputs": [
    {
     "name": "stdout",
     "output_type": "stream",
     "text": [
      "1 4 9 "
     ]
    }
   ],
   "source": [
    "# for While Loop\n",
    "\n",
    "i = 1\n",
    "while i*i < 10:\n",
    "    print(i**2, end =\" \")\n",
    "    i +=1"
   ]
  },
  {
   "cell_type": "code",
   "execution_count": 13,
   "metadata": {},
   "outputs": [
    {
     "name": "stdout",
     "output_type": "stream",
     "text": [
      "2 4 6 8 10 12 14 16 18 "
     ]
    }
   ],
   "source": [
    "# Print event number using while loop\n",
    "i =1\n",
    "while i < 20:\n",
    "    if i%2==0:\n",
    "        print (i, end=\" \")\n",
    "    i = i+1   "
   ]
  }
 ],
 "metadata": {
  "kernelspec": {
   "display_name": "Python 3",
   "language": "python",
   "name": "python3"
  },
  "language_info": {
   "codemirror_mode": {
    "name": "ipython",
    "version": 3
   },
   "file_extension": ".py",
   "mimetype": "text/x-python",
   "name": "python",
   "nbconvert_exporter": "python",
   "pygments_lexer": "ipython3",
   "version": "3.6.5"
  }
 },
 "nbformat": 4,
 "nbformat_minor": 2
}
