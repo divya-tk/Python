{
 "cells": [
  {
   "cell_type": "code",
   "execution_count": 12,
   "metadata": {},
   "outputs": [
    {
     "data": {
      "text/plain": [
       "{'English', 'Japanese', 'Malayalam', 'Spanish', 'Tamil', 'Telugu'}"
      ]
     },
     "execution_count": 12,
     "metadata": {},
     "output_type": "execute_result"
    }
   ],
   "source": [
    "LanguagesTaken={\"English\",\"Tamil\",\"Telugu\",\"Malayalam\",\"Spanish\",\"Tamil\"} \n",
    "LanguagesKnown={\"English\",\"Tamil\",\"Japanese\"}\n",
    "#LanguagesTaken|LanguagesKnown\n",
    "LanguagesTaken.union(LanguagesKnown)"
   ]
  },
  {
   "cell_type": "code",
   "execution_count": 10,
   "metadata": {},
   "outputs": [
    {
     "data": {
      "text/plain": [
       "{'English', 'Tamil'}"
      ]
     },
     "execution_count": 10,
     "metadata": {},
     "output_type": "execute_result"
    }
   ],
   "source": [
    "LanguagesTaken={\"English\",\"Tamil\",\"Telugu\",\"Malayalam\",\"Spanish\",\"Tamil\"} \n",
    "LanguagesKnown={\"English\",\"Tamil\",\"Japanese\"}\n",
    "#LanguagesTaken&LanguagesKnown\n",
    "LanguagesTaken.intersection(LanguagesKnown)"
   ]
  },
  {
   "cell_type": "code",
   "execution_count": 13,
   "metadata": {},
   "outputs": [
    {
     "data": {
      "text/plain": [
       "{'Malayalam', 'Spanish', 'Telugu'}"
      ]
     },
     "execution_count": 13,
     "metadata": {},
     "output_type": "execute_result"
    }
   ],
   "source": [
    "LanguagesTaken={\"English\",\"Tamil\",\"Telugu\",\"Malayalam\",\"Spanish\",\"Tamil\"} \n",
    "LanguagesKnown={\"English\",\"Tamil\",\"Japanese\"}\n",
    "#LanguagesTaken-LanguagesKnown\n",
    "LanguagesTaken.difference(LanguagesKnown)"
   ]
  },
  {
   "cell_type": "code",
   "execution_count": 8,
   "metadata": {},
   "outputs": [
    {
     "data": {
      "text/plain": [
       "{'Japanese', 'Malayalam', 'Spanish', 'Telugu'}"
      ]
     },
     "execution_count": 8,
     "metadata": {},
     "output_type": "execute_result"
    }
   ],
   "source": [
    "LanguagesTaken={\"English\",\"Tamil\",\"Telugu\",\"Malayalam\",\"Spanish\",\"Tamil\"} \n",
    "LanguagesKnown={\"English\",\"Tamil\",\"Japanese\"}\n",
    "LanguagesTaken^LanguagesKnown\n",
    "#LanguagesTaken.symmetric_difference(LanguagesKnown)"
   ]
  },
  {
   "cell_type": "code",
   "execution_count": 29,
   "metadata": {},
   "outputs": [
    {
     "name": "stdout",
     "output_type": "stream",
     "text": [
      "['hello', 'friends', 'and', 'practice', 'makes', 'perfect', 'and', 'hello', 'friends', 'again']\n",
      "{'perfect', 'again', 'practice', 'and', 'makes', 'friends', 'hello'}\n",
      "again and friends hello makes perfect practice\n"
     ]
    }
   ],
   "source": [
    "#Accepts sequence of whitespace separated words  as input  and  prints words after removing all  duplicates\n",
    "data=\"hello friends and practice makes perfect and hello friends again\"\n",
    "s=set({})   #Type cast as set else it will be dictionary\n",
    "output=data.split()\n",
    "print(output)\n",
    "for i in range(0,len(output)):\n",
    "    s.add(output[i])\n",
    "print(s)\n",
    "output=list(s)   #Change as list\n",
    "output.sort()\n",
    "print(\" \".join(output))\n",
    "    \n",
    "\n",
    "    "
   ]
  },
  {
   "cell_type": "code",
   "execution_count": 20,
   "metadata": {},
   "outputs": [
    {
     "data": {
      "text/plain": [
       "True"
      ]
     },
     "execution_count": 20,
     "metadata": {},
     "output_type": "execute_result"
    }
   ],
   "source": [
    "LanguagesTaken={\"English\",\"Tamil\",\"Telugu\",\"Malayalam\",\"Spanish\",\"Tamil\",\"Japanese\"} \n",
    "LanguagesKnown={\"English\",\"Tamil\",\"Japanese\"}\n",
    "#LanguagesTaken>=LanguagesKnown\n",
    "LanguagesTaken.issuperset(LanguagesKnown)"
   ]
  },
  {
   "cell_type": "code",
   "execution_count": 5,
   "metadata": {},
   "outputs": [
    {
     "name": "stdout",
     "output_type": "stream",
     "text": [
      "[23, 2, '0', 'welcome']\n"
     ]
    }
   ],
   "source": []
  },
  {
   "cell_type": "code",
   "execution_count": null,
   "metadata": {},
   "outputs": [],
   "source": []
  }
 ],
 "metadata": {
  "kernelspec": {
   "display_name": "Python 3",
   "language": "python",
   "name": "python3"
  },
  "language_info": {
   "codemirror_mode": {
    "name": "ipython",
    "version": 3
   },
   "file_extension": ".py",
   "mimetype": "text/x-python",
   "name": "python",
   "nbconvert_exporter": "python",
   "pygments_lexer": "ipython3",
   "version": "3.7.1"
  }
 },
 "nbformat": 4,
 "nbformat_minor": 2
}
