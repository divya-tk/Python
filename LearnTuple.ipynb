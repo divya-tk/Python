{
 "cells": [
  {
   "cell_type": "code",
   "execution_count": null,
   "metadata": {},
   "outputs": [],
   "source": [
    "# Learn Tuple\n",
    "\n",
    "    # A tuple is a sequence of values much like a list. \n",
    "    # The values stored in a tuple can be any type, and they are indexed by integers.\n",
    "    # The important difference is that tuples are immutable.\n",
    "    # A tuple is created by placing all the items (elements) inside by parenthesis().\n",
    "    \n",
    "        # Create Tuple\n",
    "        # Update Tuple\n",
    "        # Delete Tuple \n",
    "        # slicing Tuple    \n",
    "    \n",
    "    "
   ]
  },
  {
   "cell_type": "code",
   "execution_count": 44,
   "metadata": {},
   "outputs": [
    {
     "name": "stdout",
     "output_type": "stream",
     "text": [
      "<class 'tuple'>\n"
     ]
    }
   ],
   "source": [
    "#Create Tuple - \n",
    "mobiles = ('sumsung', 'LG', 'OnePlus', 'Apple')\n",
    "print(type(mobiles))"
   ]
  },
  {
   "cell_type": "code",
   "execution_count": 5,
   "metadata": {},
   "outputs": [
    {
     "name": "stdout",
     "output_type": "stream",
     "text": [
      "<class 'tuple'>\n"
     ]
    }
   ],
   "source": [
    "# Create empty Tuple\n",
    "mobiles = ()\n",
    "print(type(mobiles))"
   ]
  },
  {
   "cell_type": "code",
   "execution_count": 6,
   "metadata": {},
   "outputs": [
    {
     "name": "stdout",
     "output_type": "stream",
     "text": [
      "<class 'str'>\n"
     ]
    }
   ],
   "source": [
    "# Create single value Tuple - note possible in this way\n",
    "mobiles = ('sumsung')\n",
    "print(type(mobiles))"
   ]
  },
  {
   "cell_type": "code",
   "execution_count": 7,
   "metadata": {},
   "outputs": [
    {
     "name": "stdout",
     "output_type": "stream",
     "text": [
      "<class 'tuple'>\n"
     ]
    }
   ],
   "source": [
    "# Create single value Tuple\n",
    "mobiles = ('sumsung', )\n",
    "print(type(mobiles))"
   ]
  },
  {
   "cell_type": "code",
   "execution_count": 9,
   "metadata": {},
   "outputs": [
    {
     "name": "stdout",
     "output_type": "stream",
     "text": [
      "<class 'tuple'>\n"
     ]
    }
   ],
   "source": [
    "# Create tuple with collection of values\n",
    "mobiles = 'sumsung', 'LG', 'OnePlus'\n",
    "print(type(mobiles))"
   ]
  },
  {
   "cell_type": "code",
   "execution_count": 1,
   "metadata": {},
   "outputs": [
    {
     "ename": "TypeError",
     "evalue": "'tuple' object does not support item assignment",
     "output_type": "error",
     "traceback": [
      "\u001b[1;31m---------------------------------------------------------------------------\u001b[0m",
      "\u001b[1;31mTypeError\u001b[0m                                 Traceback (most recent call last)",
      "\u001b[1;32m<ipython-input-1-ed5ffa4ddf64>\u001b[0m in \u001b[0;36m<module>\u001b[1;34m()\u001b[0m\n\u001b[0;32m      1\u001b[0m \u001b[0mmobiles\u001b[0m \u001b[1;33m=\u001b[0m \u001b[1;33m(\u001b[0m\u001b[1;34m'sumsung'\u001b[0m\u001b[1;33m,\u001b[0m \u001b[1;34m'LG'\u001b[0m\u001b[1;33m,\u001b[0m \u001b[1;34m'OnePlus'\u001b[0m\u001b[1;33m,\u001b[0m \u001b[1;34m'Apple'\u001b[0m\u001b[1;33m)\u001b[0m\u001b[1;33m\u001b[0m\u001b[0m\n\u001b[0;32m      2\u001b[0m \u001b[0mnumber\u001b[0m \u001b[1;33m=\u001b[0m \u001b[1;33m(\u001b[0m\u001b[1;36m1\u001b[0m\u001b[1;33m,\u001b[0m\u001b[1;36m2\u001b[0m\u001b[1;33m,\u001b[0m\u001b[1;36m3\u001b[0m\u001b[1;33m,\u001b[0m\u001b[1;36m4\u001b[0m\u001b[1;33m)\u001b[0m\u001b[1;33m\u001b[0m\u001b[0m\n\u001b[1;32m----> 3\u001b[1;33m \u001b[0mnumber\u001b[0m\u001b[1;33m[\u001b[0m\u001b[1;36m1\u001b[0m\u001b[1;33m]\u001b[0m \u001b[1;33m=\u001b[0m \u001b[1;36m5\u001b[0m\u001b[1;33m\u001b[0m\u001b[0m\n\u001b[0m",
      "\u001b[1;31mTypeError\u001b[0m: 'tuple' object does not support item assignment"
     ]
    }
   ],
   "source": [
    "mobiles = ('sumsung', 'LG', 'OnePlus', 'Apple')\n",
    "number = (1,2,3,4)\n",
    "number[1] = 5"
   ]
  },
  {
   "cell_type": "code",
   "execution_count": 24,
   "metadata": {},
   "outputs": [
    {
     "name": "stdout",
     "output_type": "stream",
     "text": [
      "('sumsung', 'LG', 'OnePlus', 'Apple', 1, 2, 3, 4)\n"
     ]
    }
   ],
   "source": [
    "Order = mobiles+number\n",
    "print(Order)"
   ]
  },
  {
   "cell_type": "code",
   "execution_count": 26,
   "metadata": {},
   "outputs": [
    {
     "ename": "NameError",
     "evalue": "name 'Order' is not defined",
     "output_type": "error",
     "traceback": [
      "\u001b[1;31m---------------------------------------------------------------------------\u001b[0m",
      "\u001b[1;31mNameError\u001b[0m                                 Traceback (most recent call last)",
      "\u001b[1;32m<ipython-input-26-f8de9c254f72>\u001b[0m in \u001b[0;36m<module>\u001b[1;34m()\u001b[0m\n\u001b[0;32m      2\u001b[0m \u001b[1;31m# can Delete entire Tuple only\u001b[0m\u001b[1;33m\u001b[0m\u001b[1;33m\u001b[0m\u001b[0m\n\u001b[0;32m      3\u001b[0m \u001b[1;32mdel\u001b[0m \u001b[0mOrder\u001b[0m\u001b[1;33m\u001b[0m\u001b[0m\n\u001b[1;32m----> 4\u001b[1;33m \u001b[0mprint\u001b[0m\u001b[1;33m(\u001b[0m\u001b[0mOrder\u001b[0m\u001b[1;33m)\u001b[0m\u001b[1;33m\u001b[0m\u001b[0m\n\u001b[0m",
      "\u001b[1;31mNameError\u001b[0m: name 'Order' is not defined"
     ]
    }
   ],
   "source": [
    "# for Del - Note:: We cann't delete individual value in item\n",
    "# can Delete entire Tuple only\n",
    "del Order\n",
    "print(Order)"
   ]
  },
  {
   "cell_type": "code",
   "execution_count": 3,
   "metadata": {},
   "outputs": [
    {
     "name": "stdout",
     "output_type": "stream",
     "text": [
      "2\n",
      "('sumsung', 'LG', 'OnePlus', 'Apple', 'OnePlus')\n",
      "('OnePlus', 'Apple', 'OnePlus', 'LG', 'sumsung')\n",
      "('sumsung', 'LG', 'OnePlus')\n",
      "('sumsung', 'OnePlus', 'OnePlus')\n",
      "('OnePlus', 'OnePlus', 'sumsung')\n"
     ]
    }
   ],
   "source": [
    "mobiles = ('sumsung', 'LG', 'OnePlus', 'Apple', 'OnePlus')\n",
    "print(mobiles.count('OnePlus'))\n",
    "print(mobiles[0::])\n",
    "print(mobiles[::-1])\n",
    "print(mobiles[0:-2:])\n",
    "print(mobiles[0::2])\n",
    "print(mobiles[::-2])"
   ]
  },
  {
   "cell_type": "code",
   "execution_count": 47,
   "metadata": {},
   "outputs": [
    {
     "name": "stdout",
     "output_type": "stream",
     "text": [
      "True\n",
      "True\n"
     ]
    }
   ],
   "source": [
    "# for verification\n",
    "mobiles = ('sumsung', 'LG', 'OnePlus', 'Apple')\n",
    "\n",
    "print('LG' in mobiles)\n",
    "print('LG1' not in mobiles)"
   ]
  },
  {
   "cell_type": "code",
   "execution_count": null,
   "metadata": {},
   "outputs": [],
   "source": []
  }
 ],
 "metadata": {
  "kernelspec": {
   "display_name": "Python 3",
   "language": "python",
   "name": "python3"
  },
  "language_info": {
   "codemirror_mode": {
    "name": "ipython",
    "version": 3
   },
   "file_extension": ".py",
   "mimetype": "text/x-python",
   "name": "python",
   "nbconvert_exporter": "python",
   "pygments_lexer": "ipython3",
   "version": "3.6.5"
  }
 },
 "nbformat": 4,
 "nbformat_minor": 2
}
