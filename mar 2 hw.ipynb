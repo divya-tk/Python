{
 "cells": [
  {
   "cell_type": "code",
   "execution_count": 1,
   "metadata": {},
   "outputs": [
    {
     "name": "stdout",
     "output_type": "stream",
     "text": [
      "Enter a text: \"hello world!123\n",
      "Validated that \"hello world!123 is converted to upper case\n",
      "\"HELLO WORLD!123\n"
     ]
    }
   ],
   "source": [
    "'''\n",
    "Define a class which has at least two methods: g\n",
    "\tgetString: to get a string from console input\n",
    "\tprintString: to print the string in upper case.\n",
    "\tAlso please include simple test function to test the class methods.\n",
    "\n",
    "\tHints:\n",
    "\t\tUse _init_ method to construct some parameters\n",
    "****************************************\n",
    "'''\n",
    "\n",
    "class Mar2_HW_0:\n",
    "    input_user=''\n",
    "    upper_cased_input=''\n",
    "    def get_string_from_user(self):\n",
    "        self.input_user=input('Enter a text: ')\n",
    "\n",
    "    def print_string(self):\n",
    "        self.upper_cased_input = self.input_user.upper()\n",
    "        if(self.validate_printed_string(self.upper_cased_input)):\n",
    "            print(self.upper_cased_input)\n",
    "        else:\n",
    "            print('Failed..')\n",
    "\n",
    "    def validate_printed_string(self,upper_cased_input):\n",
    "        if(self.upper_cased_input.isupper() == True):\n",
    "            print(f\"Validated that {self.input_user} is converted to upper case\")\n",
    "            return  True\n",
    "        else:\n",
    "            print(f'Failed to convert {self.input_user} to upper case')\n",
    "            return False\n",
    "\n",
    "obj = Mar2_HW_0()\n",
    "obj.get_string_from_user()\n",
    "obj.print_string()\n"
   ]
  },
  {
   "cell_type": "code",
   "execution_count": 2,
   "metadata": {},
   "outputs": [
    {
     "name": "stdout",
     "output_type": "stream",
     "text": [
      "Enter an alphanumeric sentence to calculate number of letters and digits: hello world!123\n",
      "Numeric count is 3, Alphabet count is 10 and Special character count is 2\n",
      "Enter an alphanumeric sentence to calculate number of letters and digits: hello23\n",
      "Numeric count is 2, Alphabet count is 5 and Special character count is 0\n"
     ]
    }
   ],
   "source": [
    "'''\n",
    "4) Write a program that accepts a sentence and calculate the number of letters and digits.\n",
    "\n",
    "\tInputs --> hello world! 123\n",
    "\n",
    "\tOutput --> LETTERS 10\n",
    "\t\t   DIGITS 3\n",
    "\n",
    "Hints:\n",
    "In case of input data being supplied to the question, it should be assumed to be a console input.\n",
    "'''\n",
    "\n",
    "class Mar2_HW_1:\n",
    "    def get_input_from_user(self):\n",
    "        return input('Enter an alphanumeric sentence to calculate number of letters and digits: ')\n",
    "\n",
    "    def calculate_letters_digits_inbuilt_functions(self):\n",
    "        sequence_input = self.get_input_from_user()\n",
    "        numeric_count = 0\n",
    "        alphabet_count = 0\n",
    "        special_char_count = 0\n",
    "        for character in sequence_input:\n",
    "            if(character.isdecimal()):\n",
    "                numeric_count+=1\n",
    "            elif(character.isalpha()):\n",
    "                alphabet_count+=1\n",
    "            else:\n",
    "                special_char_count+=1\n",
    "        print(f'Numeric count is {numeric_count}, Alphabet count is {alphabet_count} and Special character count is {special_char_count}')\n",
    "\n",
    "    def calculate_letters_digits_logic(self):\n",
    "        sequence_input = self.get_input_from_user()\n",
    "        numeric_count = 0\n",
    "        alphabet_count = 0\n",
    "        special_char_count = 0\n",
    "        for character in sequence_input:\n",
    "            if ((ord(character)>=48)and (ord(character)<=57)):\n",
    "                numeric_count += 1\n",
    "            elif (((ord(character)>=65) and (ord(character)<=90)) or ((ord(character)>=97)and (ord(character)<=122))):\n",
    "                alphabet_count += 1\n",
    "            elif(ord(character)>=33):\n",
    "                special_char_count += 1\n",
    "        print(\n",
    "            f'Numeric count is {numeric_count}, Alphabet count is {alphabet_count} and Special character count is {special_char_count}')\n",
    "\n",
    "program_inbuilt_functions = Mar2_HW_1().calculate_letters_digits_inbuilt_functions()\n",
    "program_logic = Mar2_HW_1().calculate_letters_digits_logic()"
   ]
  },
  {
   "cell_type": "code",
   "execution_count": 1,
   "metadata": {},
   "outputs": [
    {
     "name": "stdout",
     "output_type": "stream",
     "text": [
      "Enter numbers whose square root is to be found in comma separated (e.g. 100, 200, 211): 100,150,180\n",
      "['100', '150', '180']\n",
      "18\n",
      "22\n",
      "24\n"
     ]
    }
   ],
   "source": [
    "'''\n",
    "Write a program that calculates and prints the value according to the given following formula:\n",
    "\n",
    "\tQ = Square root of [(2 * C * D)/H]\n",
    "\n",
    "   input -> C and H: C is 50. H is 30.\n",
    "\t    D is the variable whose values should be input to your program in a comma-separated sequence.\n",
    "\n",
    "\tExample\n",
    "\tLet us assume the following comma separated input sequence is given to the program:\n",
    "\t100,150,180\n",
    "\n",
    "\tThe output of the program should be:\n",
    "\t18,22,24\n",
    "\n",
    "Hints:\n",
    "If the output received is in decimal form, it should be rounded off to its nearest value (for example, if the output received is 26.0, it should be printed as 26)\n",
    "In case of input data being supplied to the question, it should be assumed to be a console input.\n",
    "***************************************\n",
    "\n",
    "'''\n",
    "import math\n",
    "class Mar2_HW_2:\n",
    "    def get_input_from_user(self):\n",
    "        return (input('Enter numbers whose square root is to be found in comma separated (e.g. 100, 200, 211): '))\n",
    "\n",
    "    def calculate_square_root(self):\n",
    "        d_inputs = self.get_input_from_user()\n",
    "        if(d_inputs.__contains__(',')):\n",
    "            d_input=d_inputs.split(',')\n",
    "            print(d_input)\n",
    "        for input in d_input:\n",
    "            print(round(math.sqrt((2*50*int(input))/30)))\n",
    "\n",
    "Mar2_HW_2().calculate_square_root()"
   ]
  },
  {
   "cell_type": "code",
   "execution_count": null,
   "metadata": {},
   "outputs": [],
   "source": []
  }
 ],
 "metadata": {
  "kernelspec": {
   "display_name": "Python 3",
   "language": "python",
   "name": "python3"
  },
  "language_info": {
   "codemirror_mode": {
    "name": "ipython",
    "version": 3
   },
   "file_extension": ".py",
   "mimetype": "text/x-python",
   "name": "python",
   "nbconvert_exporter": "python",
   "pygments_lexer": "ipython3",
   "version": "3.7.1"
  }
 },
 "nbformat": 4,
 "nbformat_minor": 2
}
