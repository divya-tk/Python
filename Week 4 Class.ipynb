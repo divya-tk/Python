{
 "cells": [
  {
   "cell_type": "code",
   "execution_count": 5,
   "metadata": {},
   "outputs": [
    {
     "name": "stdout",
     "output_type": "stream",
     "text": [
      "Details of India's Jungle: Vandalur zoo\n",
      "\n",
      "Details of Hindustan's Jungle: Thor zoo\n",
      "\n",
      "Details of Hindustan's Jungle: Vandalur zoo\n",
      "\n"
     ]
    }
   ],
   "source": [
    "#static / Global / Class variable and instance variable\n",
    "\n",
    "class Jungle:\n",
    "    country=\"India\"  #static\n",
    "    def __init__(self,name=\"unknown\",details=\"Unknown\"):\n",
    "        self.nameOfJungle=name\n",
    "        self.desc=details\n",
    "a=Jungle()         #Instance varaible\n",
    "a.name='Vandalur zoo'\n",
    "a.details='Vandalur'\n",
    "print(\"Details of \"+a.country+\"\\'s Jungle: \" +a.name)\n",
    "print()\n",
    "\n",
    "Jungle.country=\"Hindustan\"\n",
    "b=Jungle()        #Instance varaible\n",
    "b.name='Thor zoo'\n",
    "b.details='UK'\n",
    "print(\"Details of \"+b.country+\"\\'s Jungle: \" +b.name)\n",
    "print()\n",
    "\n",
    "a.details='Vandalur'\n",
    "print(\"Details of \"+a.country+\"\\'s Jungle: \" +a.name)\n",
    "print()"
   ]
  },
  {
   "cell_type": "code",
   "execution_count": 8,
   "metadata": {},
   "outputs": [
    {
     "name": "stdout",
     "output_type": "stream",
     "text": [
      "2019-06-01\n",
      "2019-06-01\n",
      "08:45:00\n"
     ]
    }
   ],
   "source": [
    "#Single Level inheritance\n",
    "\n",
    "class Date:\n",
    "    def get_date(self):\n",
    "        print(\"2019-06-01\")    #To print current date and time use Os\n",
    "        \n",
    "class Time(Date):\n",
    "    def get_time(self):\n",
    "        print(\"08:45:00\")\n",
    "        \n",
    "dt=Date() \n",
    "dt.get_date()\n",
    "tm=Time()\n",
    "tm.get_date()\n",
    "tm.get_time()"
   ]
  },
  {
   "cell_type": "code",
   "execution_count": 22,
   "metadata": {},
   "outputs": [
    {
     "name": "stdout",
     "output_type": "stream",
     "text": [
      "5\n",
      "Hello Naresh, Welcome!\n",
      "Thanks Naresh , for rating 5\n",
      "['Macau', 'Peacock'] \n",
      " Chimp\n"
     ]
    }
   ],
   "source": [
    "#Multi level inheritance\n",
    "class Jungle:\n",
    "    def __init__(self,name):\n",
    "        self.name=name\n",
    "        print(\"Beginning\")\n",
    "        \n",
    "    def welcomeMsg(self):\n",
    "        print(\"Hello %s, Welcome!\" %self.name)\n",
    "        \n",
    "class RateJungle(Jungle):\n",
    "    def __init__(self,name,rating):\n",
    "        self.rating=rating\n",
    "        print(rating)\n",
    "        #super().__init__(name)\n",
    "        \n",
    "    def printRating(self):\n",
    "        print(\"Thanks %s , for rating %d\" %(self.name,self.rating))\n",
    "        \n",
    "class listOfAnimals(RateJungle):\n",
    "    def __init__(self,monkeys,name,rating):\n",
    "        self.birds=[]\n",
    "        self.monkeys=monkeys\n",
    "        RateJungle.name=name\n",
    "        RateJungle.rating=rating\n",
    "        super().__init__(name,rating)\n",
    "        \n",
    "    def allAnimalsList(self):\n",
    "        print(self.birds , '\\n' , self.monkeys)\n",
    "\n",
    "        \n",
    "l=listOfAnimals('Chimp','Naresh',5)\n",
    "l.birds=[\"Macau\",\"Peacock\"]\n",
    "l.welcomeMsg()\n",
    "l.printRating()\n",
    "l.allAnimalsList()\n",
    "       "
   ]
  },
  {
   "cell_type": "code",
   "execution_count": 37,
   "metadata": {},
   "outputs": [
    {
     "name": "stdout",
     "output_type": "stream",
     "text": [
      "Hello Class C\n",
      "Hello Class B\n",
      "Class A\n",
      "Class B\n",
      "Class C\n"
     ]
    }
   ],
   "source": [
    "#Muliple Inheritance\n",
    "class A:\n",
    "    def __init__(self):\n",
    "        print(\"Hello Class A\")\n",
    "    def a(self):\n",
    "        print(\"Class A\")\n",
    "\n",
    "class B:\n",
    "    def __init__(self):\n",
    "        print(\"Hello Class B\")\n",
    "    def b(self):\n",
    "        print(\"Class B\")\n",
    "        \n",
    "class C(B,A):    #if class(A,B)  Hello Class A instead of Hello Class B will get printed\n",
    "    def __init__(self):\n",
    "        print(\"Hello Class C\")\n",
    "        super().__init__() #invoke the init method of parent class (Left to right precedence) \n",
    "    \n",
    "    def c(self):\n",
    "        print(\"Class C\")\n",
    "     \n",
    "        \n",
    "x=C()\n",
    "x.a()\n",
    "x.b()\n",
    "x.c()"
   ]
  },
  {
   "cell_type": "code",
   "execution_count": 2,
   "metadata": {},
   "outputs": [
    {
     "ename": "SyntaxError",
     "evalue": "can't assign to literal (<ipython-input-2-abd83942d165>, line 8)",
     "output_type": "error",
     "traceback": [
      "\u001b[1;36m  File \u001b[1;32m\"<ipython-input-2-abd83942d165>\"\u001b[1;36m, line \u001b[1;32m8\u001b[0m\n\u001b[1;33m    \"Sound Horn\"=\"True\"\u001b[0m\n\u001b[1;37m    ^\u001b[0m\n\u001b[1;31mSyntaxError\u001b[0m\u001b[1;31m:\u001b[0m can't assign to literal\n"
     ]
    }
   ],
   "source": [
    "class Vehicle:\n",
    "    def __init__(self):\n",
    "        self.wheels=0\n",
    "        self.horn=' '\n",
    "        self.brake=' '\n",
    "        \n",
    "    def soundHorn(self):\n",
    "            \"Sound Horn\"=\"True\"\n",
    "    def applyBrake(self):\n",
    "            \"Brake\"=\"True\"\n",
    "        \n",
    "class Car(Vehicle):\n",
    "    \n",
    "    def wheelDetails(self):\n",
    "        print(\"4 wheels\")\n",
    "        \n",
    "class BMW(Car):\n",
    "    pass\n",
    "\n",
    "b=BMW()\n",
    "b.soundHorn()\n",
    "    \n",
    "class Audi(car):\n",
    "    pass\n",
    "\n",
    "class Auto(Vehicle):\n",
    "    def wheelDetails(self):\n",
    "        print(\"3 wheels\")\n",
    "        \n",
    "class Bajaj(Auto):\n",
    "    pass\n",
    "    \n",
    "        "
   ]
  },
  {
   "cell_type": "code",
   "execution_count": null,
   "metadata": {},
   "outputs": [],
   "source": []
  }
 ],
 "metadata": {
  "kernelspec": {
   "display_name": "Python 3",
   "language": "python",
   "name": "python3"
  },
  "language_info": {
   "codemirror_mode": {
    "name": "ipython",
    "version": 3
   },
   "file_extension": ".py",
   "mimetype": "text/x-python",
   "name": "python",
   "nbconvert_exporter": "python",
   "pygments_lexer": "ipython3",
   "version": "3.7.1"
  }
 },
 "nbformat": 4,
 "nbformat_minor": 2
}
