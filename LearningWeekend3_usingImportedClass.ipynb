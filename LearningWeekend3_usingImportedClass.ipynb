{
 "cells": [
  {
   "cell_type": "code",
   "execution_count": 2,
   "metadata": {},
   "outputs": [
    {
     "name": "stdout",
     "output_type": "stream",
     "text": [
      "<bound method bookdetails.__repr__ of (80, 'Java Programming', 'Ken', [(80, 'good book', 5), (80, 'very good', 4), (80, 'awesome', 5)])>\n"
     ]
    }
   ],
   "source": [
    "from LearningWeekend3_ImportClass import bookdetails, reviewdetails\n",
    "\n",
    "book1 = bookdetails(80, 'Java Programming', 'Ken')\n",
    "book1.addReviewOfBook(reviewdetails(80, 'good book' , 5))\n",
    "book1.addReviewOfBook(reviewdetails(80, 'very good' , 4))\n",
    "book1.addReviewOfBook(reviewdetails(80, 'awesome' , 5))\n",
    "print (book1.__repr__)"
   ]
  },
  {
   "cell_type": "code",
   "execution_count": 9,
   "metadata": {},
   "outputs": [
    {
     "name": "stdout",
     "output_type": "stream",
     "text": [
      "<bound method bookdetails.__repr__ of (80, 'Java Programming', 'Ken', [(80, 'good book', 5), (80, 'very good', 4), (80, 'awesome', 5)])>\n"
     ]
    }
   ],
   "source": [
    "import LearningWeekend3_ImportClass \n",
    "\n",
    "book1 = bookdetails(80, 'Java Programming', 'Ken')\n",
    "book1.addReviewOfBook(reviewdetails(80, 'good book' , 5))\n",
    "book1.addReviewOfBook(reviewdetails(80, 'very good' , 4))\n",
    "book1.addReviewOfBook(reviewdetails(80, 'awesome' , 5))\n",
    "print (book1.__repr__)"
   ]
  },
  {
   "cell_type": "code",
   "execution_count": 31,
   "metadata": {},
   "outputs": [
    {
     "name": "stdout",
     "output_type": "stream",
     "text": [
      "100\n",
      "100\n",
      "5\n",
      "493\n",
      "98.6\n"
     ]
    }
   ],
   "source": [
    "import ss\n",
    "\n",
    "stu1 = ss.student(33, 'Bhanu')\n",
    "stu1.addMarks(99)\n",
    "stu1.addMarks(98)\n",
    "stu1.addMarks(97)\n",
    "stu1.addMarks(100)\n",
    "stu1.addMarks(99)\n",
    "print(stu1.maximiumMarks())\n",
    "print(stu1.maximiumMarks())\n",
    "print(stu1.numberOfMarks())\n",
    "print(stu1.sumOfMarks())\n",
    "print(stu1.averageOfMarks())"
   ]
  },
  {
   "cell_type": "code",
   "execution_count": 34,
   "metadata": {},
   "outputs": [
    {
     "name": "stdout",
     "output_type": "stream",
     "text": [
      "Bhanu 10 5\n",
      "None\n",
      "289\n"
     ]
    }
   ],
   "source": [
    "\n"
   ]
  },
  {
   "cell_type": "code",
   "execution_count": null,
   "metadata": {},
   "outputs": [],
   "source": []
  }
 ],
 "metadata": {
  "kernelspec": {
   "display_name": "Python 3",
   "language": "python",
   "name": "python3"
  },
  "language_info": {
   "codemirror_mode": {
    "name": "ipython",
    "version": 3
   },
   "file_extension": ".py",
   "mimetype": "text/x-python",
   "name": "python",
   "nbconvert_exporter": "python",
   "pygments_lexer": "ipython3",
   "version": "3.7.1"
  }
 },
 "nbformat": 4,
 "nbformat_minor": 2
}
