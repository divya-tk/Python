{
 "cells": [
  {
   "cell_type": "code",
   "execution_count": 5,
   "metadata": {},
   "outputs": [
    {
     "name": "stdout",
     "output_type": "stream",
     "text": [
      "Muthu Bhanu\n",
      "          Haripriyaa\n"
     ]
    }
   ],
   "source": [
    "# To retain the exact formatting use triple quotes\n",
    "\n",
    "print (\"\"\"Muthu Bhanu\n",
    "          Haripriyaa\"\"\")"
   ]
  },
  {
   "cell_type": "code",
   "execution_count": 6,
   "metadata": {},
   "outputs": [
    {
     "name": "stdout",
     "output_type": "stream",
     "text": [
      "python \"v3\"\n",
      "pycharm \"Editor\"\n",
      "python \\n\n"
     ]
    }
   ],
   "source": [
    "# To print the escape character as such\n",
    "\n",
    "print (\"python \\\"v3\\\"\")\n",
    "print(\"pycharm \\\"Editor\\\"\")\n",
    "print (\"python \\\\n\")"
   ]
  },
  {
   "cell_type": "code",
   "execution_count": 4,
   "metadata": {},
   "outputs": [
    {
     "name": "stdout",
     "output_type": "stream",
     "text": [
      "python \\n\n"
     ]
    }
   ],
   "source": []
  },
  {
   "cell_type": "code",
   "execution_count": 11,
   "metadata": {},
   "outputs": [
    {
     "name": "stdout",
     "output_type": "stream",
     "text": [
      "BHAnu txt.upper() BHANU\n",
      "BHAnu txt.lower() bhanu\n",
      "bhanu txt1.isupper() False\n",
      "bhanu txt1.islower() True\n",
      "123 num.isnumeric() True\n",
      "BHAnu txt.startswith('b') False\n",
      "BHAnu txt.endswith('nu') True\n"
     ]
    }
   ],
   "source": [
    "# String functions\n",
    "\n",
    "txt = \"BHAnu\"\n",
    "print (txt, \"txt.upper()\", txt.upper())\n",
    "print (txt, \"txt.lower()\", txt.lower())\n",
    "\n",
    "num = \"123\"\n",
    "txt1 = \"bhanu\"\n",
    "print (txt1, \"txt1.isupper()\", txt1.isupper())\n",
    "print (txt1, \"txt1.islower()\", txt1.islower())\n",
    "print (num, \"num.isnumeric()\",num.isnumeric())\n",
    "print (txt, \"txt.startswith('b')\", txt.startswith(\"b\"))\n",
    "print (txt, \"txt.endswith('nu')\",txt.endswith('nu'))"
   ]
  },
  {
   "cell_type": "code",
   "execution_count": 25,
   "metadata": {},
   "outputs": [
    {
     "name": "stdout",
     "output_type": "stream",
     "text": [
      "Bhanu\n",
      "Bhanu        \n",
      "             Bhanu\n"
     ]
    }
   ],
   "source": [
    "# Trimming the string\n",
    "\n",
    "txt = \"             Bhanu        \"\n",
    "print (txt.strip())\n",
    "print (txt.lstrip())\n",
    "print (txt.rstrip())"
   ]
  },
  {
   "cell_type": "code",
   "execution_count": 12,
   "metadata": {},
   "outputs": [
    {
     "name": "stdout",
     "output_type": "stream",
     "text": [
      "['Python', 'for', 'Data', 'Science']\n",
      "for\n"
     ]
    }
   ],
   "source": [
    "# Splitting the String into list of Strings using delimiter.\n",
    "\n",
    "stat = \"Python for Data Science\"\n",
    "words = stat.split(' ')\n",
    "print(words)\n",
    "print (words[1])"
   ]
  },
  {
   "cell_type": "code",
   "execution_count": 15,
   "metadata": {},
   "outputs": [
    {
     "name": "stdout",
     "output_type": "stream",
     "text": [
      "Python for Data Science\n",
      "1 2 3 4 5\n"
     ]
    }
   ],
   "source": [
    "# Joining the string\n",
    "\n",
    "lt = ['Python', 'for', 'Data', 'Science']\n",
    "print (\" \".join(lt))\n",
    "numbers=[\"1\",\"2\",\"3\",\"4\",\"5\"]\n",
    "print(\" \".join(numbers))"
   ]
  },
  {
   "cell_type": "code",
   "execution_count": 39,
   "metadata": {},
   "outputs": [
    {
     "name": "stdout",
     "output_type": "stream",
     "text": [
      "True\n",
      "False\n"
     ]
    }
   ],
   "source": [
    "# Operator \"in\" \"not in\"\n",
    "\n",
    "print (\"x\" in \"x ray\")\n",
    "print (\"x\" not in \"x ray\")"
   ]
  },
  {
   "cell_type": "code",
   "execution_count": 16,
   "metadata": {},
   "outputs": [
    {
     "name": "stdout",
     "output_type": "stream",
     "text": [
      "%s %d\n",
      "\t Muthu \\Bhanu\n",
      "Lohitraaj\n",
      " Haripriyaa\n",
      "\t Divya \\Muthu \n",
      " Naresh\n"
     ]
    }
   ],
   "source": [
    "# Printing the escape characters\n",
    "\n",
    "print (r\"%s %d\")\n",
    "print (\"\\t Muthu \\\\Bhanu\\nLohitraaj\\n Haripriyaa\")\n",
    "print(\"\\t Divya \\\\Muthu \\n Naresh\")"
   ]
  },
  {
   "cell_type": "code",
   "execution_count": 59,
   "metadata": {},
   "outputs": [
    {
     "name": "stdout",
     "output_type": "stream",
     "text": [
      "True\n"
     ]
    }
   ],
   "source": [
    "# isdecimal says whether the given string is decimal number\n",
    "\n",
    "txt = '3'\n",
    "print (txt.isdecimal())"
   ]
  },
  {
   "cell_type": "code",
   "execution_count": 67,
   "metadata": {},
   "outputs": [
    {
     "name": "stdout",
     "output_type": "stream",
     "text": [
      "Babu Babu Babu \n",
      "Babu Bhanu\n"
     ]
    }
   ],
   "source": [
    "# \"*\" and \"+\" in string\n",
    "str1 = \"Babu \"\n",
    "str2 = \"Bhanu\"\n",
    "print (str1 * 3)\n",
    "print (str1 + str2)\n"
   ]
  },
  {
   "cell_type": "code",
   "execution_count": 79,
   "metadata": {},
   "outputs": [
    {
     "name": "stdout",
     "output_type": "stream",
     "text": [
      "B\n"
     ]
    }
   ],
   "source": [
    "# indexing\n",
    "# B  H  A  N  U\n",
    "# 0  1  2  3  4\n",
    "#-5 -4 -3 -2 -1\n",
    "\n",
    "txt = \"BHANU\"\n",
    "print (txt [-5])"
   ]
  },
  {
   "cell_type": "code",
   "execution_count": 87,
   "metadata": {},
   "outputs": [
    {
     "name": "stdout",
     "output_type": "stream",
     "text": [
      "lcome\n",
      "co\n",
      "wel\n",
      "lco\n",
      "wloe\n",
      "eolw\n"
     ]
    }
   ],
   "source": [
    "# Slicing\n",
    "txt = \"welcome\"\n",
    "print (txt[2:])\n",
    "print (txt[3:5])\n",
    "print (txt[:3])\n",
    "print (txt[2:-2])\n",
    "print (txt[::2])  # [ : : step] step is skipping\n",
    "print (txt[::-2]) # if step is negative, reverse will be printed"
   ]
  },
  {
   "cell_type": "code",
   "execution_count": 106,
   "metadata": {},
   "outputs": [
    {
     "name": "stdout",
     "output_type": "stream",
     "text": [
      "1991 in released first and Rossum Van Guido by created        \n",
      " language programming general-purpose high-level, interpreted, an is Python\n"
     ]
    }
   ],
   "source": [
    "str1 = \"\"\"Python is an interpreted, high-level, general-purpose programming language \n",
    "        created by Guido Van Rossum and first released in 1991\"\"\"\n",
    "words = str1.split(\" \")\n",
    "reverseWords = words[::-1]\n",
    "str2 = \" \".join(reverseWords)\n",
    "print (str2)"
   ]
  },
  {
   "cell_type": "code",
   "execution_count": 110,
   "metadata": {},
   "outputs": [
    {
     "name": "stdout",
     "output_type": "stream",
     "text": [
      "1991 ni desaeler tsrif dna mussoR naV odiuG yb detaerc        \n",
      " egaugnal gnimmargorp esoprup-lareneg ,level-hgih ,deterpretni na si nohtyP\n"
     ]
    }
   ],
   "source": [
    "str1 = \"\"\"Python is an interpreted, high-level, general-purpose programming language \n",
    "        created by Guido Van Rossum and first released in 1991\"\"\"\n",
    "\n",
    "letters = str1[::-1]\n",
    "print (letters)\n"
   ]
  },
  {
   "cell_type": "code",
   "execution_count": 35,
   "metadata": {},
   "outputs": [
    {
     "name": "stdout",
     "output_type": "stream",
     "text": [
      "['Python', 'is', 'an', 'interpreted,', 'high-level,', 'general-purpose', 'programming', 'language', '\\n', '', '', '', '', '', '', '', 'created', 'by', 'Guido', 'Van', 'Rossum', 'and', 'first', 'released', 'in', '1991']\n",
      "1991  in  released  first  and  Rossum  Van  Guido  by  created                \n",
      "  language  programming  general-purpose  high-level,  interpreted,  an  is  Python  \n",
      "\n",
      "['Python', 'is', 'an', 'interpreted,', 'high-level,', 'general-purpose', 'programming', 'language', 'created', 'by', 'Guido', 'Van', 'Rossum', 'and', 'first', 'released', 'in', '1991']\n",
      "1991 in released first and Rossum Van Guido by created language programming general-purpose high-level, interpreted, an is Python "
     ]
    }
   ],
   "source": [
    "str1 = \"\"\"Python is an interpreted, high-level, general-purpose programming language \n",
    "        created by Guido Van Rossum and first released in 1991\"\"\"\n",
    "words = str1.split(\" \")\n",
    "print(words)\n",
    "for i in range(0,len(words)):\n",
    "    print (words[len(words) - 1 - i ], \" \", end = '')\n",
    "    \n",
    "txt = \"\"\"Python is an interpreted, high-level, general-purpose programming language \n",
    "        created by Guido Van Rossum and first released in 1991\"\"\" \n",
    "\n",
    "message=txt.split()\n",
    "print(\"\\n\")\n",
    "print(message)\n",
    "for i in range(0,len(message)):\n",
    "    print(message[len(message)-1-i],end=\" \")"
   ]
  },
  {
   "cell_type": "code",
   "execution_count": null,
   "metadata": {},
   "outputs": [],
   "source": [
    "num = 221\n",
    "while num != 0:\n",
    "    \n",
    "    print (num % 10,end='')\n",
    "    num = int(num / 10)"
   ]
  },
  {
   "cell_type": "code",
   "execution_count": 132,
   "metadata": {},
   "outputs": [
    {
     "name": "stdout",
     "output_type": "stream",
     "text": [
      "opening\n",
      "Orange\n"
     ]
    }
   ],
   "source": []
  },
  {
   "cell_type": "code",
   "execution_count": 142,
   "metadata": {},
   "outputs": [
    {
     "name": "stdout",
     "output_type": "stream",
     "text": [
      "5\n",
      "Orange\n",
      "opening\n",
      "['opening', 'Orange', 'egg', 'milk', 'home', 'mobile']\n",
      "['opening', 'Orange', 'egg', 'milk', 'home', 'mobile', 'hello', 'bhanu']\n"
     ]
    }
   ],
   "source": []
  },
  {
   "cell_type": "code",
   "execution_count": 146,
   "metadata": {},
   "outputs": [
    {
     "name": "stdout",
     "output_type": "stream",
     "text": [
      "['opening', 'Orange', 'egg', 'milk', 'home', 'lion', 'tiger', 'fox']\n"
     ]
    }
   ],
   "source": []
  },
  {
   "cell_type": "code",
   "execution_count": 7,
   "metadata": {},
   "outputs": [
    {
     "name": "stdout",
     "output_type": "stream",
     "text": [
      "Upper Case: 3\n",
      "Lower Case: 13\n"
     ]
    }
   ],
   "source": [
    "# Write a program to count the number of upper cases and lower cases\n",
    "str1 = \"----Muthu Bhanu Baskar----\"\n",
    "upperCaseCount = 0\n",
    "lowerCaseCount = 0\n",
    "for s in str1:\n",
    "    if s.isupper():\n",
    "        upperCaseCount += 1\n",
    "    elif s.islower():\n",
    "        lowerCaseCount += 1\n",
    "print (\"Upper Case:\", upperCaseCount)\n",
    "print (\"Lower Case:\", lowerCaseCount)"
   ]
  },
  {
   "cell_type": "code",
   "execution_count": null,
   "metadata": {},
   "outputs": [],
   "source": []
  }
 ],
 "metadata": {
  "kernelspec": {
   "display_name": "Python 3",
   "language": "python",
   "name": "python3"
  },
  "language_info": {
   "codemirror_mode": {
    "name": "ipython",
    "version": 3
   },
   "file_extension": ".py",
   "mimetype": "text/x-python",
   "name": "python",
   "nbconvert_exporter": "python",
   "pygments_lexer": "ipython3",
   "version": "3.7.1"
  }
 },
 "nbformat": 4,
 "nbformat_minor": 2
}
