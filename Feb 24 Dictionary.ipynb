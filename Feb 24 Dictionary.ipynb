{
 "cells": [
  {
   "cell_type": "code",
   "execution_count": 1,
   "metadata": {},
   "outputs": [
    {
     "name": "stdout",
     "output_type": "stream",
     "text": [
      "<class 'dict'>\n",
      "30\n",
      "None\n",
      "100\n",
      "dict_values([31, 30, 3, 55, 60])\n",
      "dict_keys(['Muthu', 'Divya', 'Naresh', 'Vani', 'Krish'])\n",
      "dict_items([('Muthu', 31), ('Divya', 30), ('Naresh', 3), ('Vani', 55), ('Krish', 60)])\n",
      "Muthu--->31\n",
      "Divya--->30\n",
      "Naresh--->3\n",
      "Vani--->55\n"
     ]
    }
   ],
   "source": [
    "person_age={'Muthu':31,'Divya':30,'Naresh':3,'Vani':55,'Krish':60}\n",
    "print(type(person_age))\n",
    "#print(person_age['Muthu'])\n",
    "#print(person_age['Rajesh'])\n",
    "print(person_age.get('Divya'))\n",
    "print(person_age.get('Rajesh'))\n",
    "print(person_age.get('Sundari',100))\n",
    "print(person_age.values())\n",
    "print(person_age.keys())\n",
    "print(person_age.items())\n",
    "\n",
    "del person_age['Krish']    \n",
    "for (key,value) in person_age.items():\n",
    "    print(f\"{key}--->{value}\")\n",
    "          "
   ]
  },
  {
   "cell_type": "code",
   "execution_count": null,
   "metadata": {},
   "outputs": [],
   "source": [
    "#Character count in a string\n",
    "\n",
    "str=input(\"Enter name:\")\n",
    "count=0\n",
    "dic={}  #for list[]\n",
    "for i in str:        \n",
    "    if(i=='b'):\n",
    "        count+=1\n",
    "        dic[i]=count\n",
    "print(dic)     "
   ]
  },
  {
   "cell_type": "code",
   "execution_count": null,
   "metadata": {},
   "outputs": [],
   "source": [
    "#Each Character count in a string\n",
    "\n",
    "str=input(\"Enter name:\")\n",
    "count=0\n",
    "dic={}  #for list[]\n",
    "for i in str:\n",
    "    dic[i]=dic.get(i,0)+1\n",
    "    \n",
    "print(dic) "
   ]
  },
  {
   "cell_type": "code",
   "execution_count": null,
   "metadata": {},
   "outputs": [],
   "source": [
    "#Character count in a string (Dynamic way)\n",
    "str=input(\"Enter name:\")\n",
    "str1=input(\"Enter Char:\")\n",
    "count=0\n",
    "dic={}  #for list[]\n",
    "for i in str:        \n",
    "    if(i==str1):\n",
    "        count+=1\n",
    "        dic[i]=count\n",
    "print(dic)    "
   ]
  },
  {
   "cell_type": "code",
   "execution_count": 5,
   "metadata": {},
   "outputs": [
    {
     "name": "stdout",
     "output_type": "stream",
     "text": [
      "Enter the value: 9\n",
      "{1: 1, 2: 4, 3: 9, 4: 16, 5: 25, 6: 36, 7: 49, 8: 64, 9: 81}\n"
     ]
    }
   ],
   "source": []
  },
  {
   "cell_type": "code",
   "execution_count": 4,
   "metadata": {},
   "outputs": [
    {
     "ename": "NameError",
     "evalue": "name 'Ob0100' is not defined",
     "output_type": "error",
     "traceback": [
      "\u001b[1;31m---------------------------------------------------------------------------\u001b[0m",
      "\u001b[1;31mNameError\u001b[0m                                 Traceback (most recent call last)",
      "\u001b[1;32m<ipython-input-4-44dfed4bb22d>\u001b[0m in \u001b[0;36m<module>\u001b[1;34m\u001b[0m\n\u001b[0;32m      1\u001b[0m \u001b[1;31m#binary input and the output should be the ones divisible by 5 alone\u001b[0m\u001b[1;33m\u001b[0m\u001b[1;33m\u001b[0m\u001b[1;33m\u001b[0m\u001b[0m\n\u001b[0;32m      2\u001b[0m \u001b[1;31m#Val=[(0100,0011,1010,1001),0b]\u001b[0m\u001b[1;33m\u001b[0m\u001b[1;33m\u001b[0m\u001b[1;33m\u001b[0m\u001b[0m\n\u001b[1;32m----> 3\u001b[1;33m \u001b[0mprint\u001b[0m\u001b[1;33m(\u001b[0m\u001b[0mOb0100\u001b[0m\u001b[1;33m)\u001b[0m\u001b[1;33m\u001b[0m\u001b[1;33m\u001b[0m\u001b[0m\n\u001b[0m\u001b[0;32m      4\u001b[0m \u001b[1;33m\u001b[0m\u001b[0m\n",
      "\u001b[1;31mNameError\u001b[0m: name 'Ob0100' is not defined"
     ]
    }
   ],
   "source": []
  },
  {
   "cell_type": "code",
   "execution_count": null,
   "metadata": {},
   "outputs": [],
   "source": []
  }
 ],
 "metadata": {
  "kernelspec": {
   "display_name": "Python 3",
   "language": "python",
   "name": "python3"
  },
  "language_info": {
   "codemirror_mode": {
    "name": "ipython",
    "version": 3
   },
   "file_extension": ".py",
   "mimetype": "text/x-python",
   "name": "python",
   "nbconvert_exporter": "python",
   "pygments_lexer": "ipython3",
   "version": "3.7.1"
  }
 },
 "nbformat": 4,
 "nbformat_minor": 2
}
