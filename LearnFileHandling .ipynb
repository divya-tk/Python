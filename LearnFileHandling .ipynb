{
 "cells": [
  {
   "cell_type": "code",
   "execution_count": 2,
   "metadata": {},
   "outputs": [],
   "source": [
    "f = open(\"D:\\\\03 Python\\workspace\\Python_Feb_Batch\\Week3Day2myfirstfile.txt\",mode='w', encoding=\"utf-8\")\n",
    "f.write(\"HI THIS IS MY FIRST FILE. Lots of ideas to write but need time to do so \\n\")\n",
    "f.write(\"HI THIS IS MY FIRST FILE. Lots of ideas to write but need time to do so \\n\")\n",
    "f.write(\"HI THIS IS MY FIRST FILE. Lots of ideas to write but need time to do so \\n\")\n",
    "f.close()"
   ]
  },
  {
   "cell_type": "code",
   "execution_count": 6,
   "metadata": {},
   "outputs": [],
   "source": [
    "f = open(\"D:\\\\03 Python\\workspace\\Python_Feb_Batch\\Week3Day2myfirstfile.txt\",mode='a', encoding='utf-8')\n",
    "f.write(\"HI THIS IS MY FIRST FILE. Lots of ideas to append but need time to do so \\n\")\n",
    "f.write(\"HI THIS IS MY FIRST FILE. Lots of ideas to append but need time to do so \\n\")\n",
    "f.write(\"HI THIS IS MY FIRST FILE. Lots of ideas to append but need time to do so \\n\")\n",
    "f.close()"
   ]
  },
  {
   "cell_type": "code",
   "execution_count": 9,
   "metadata": {},
   "outputs": [
    {
     "name": "stdout",
     "output_type": "stream",
     "text": [
      "HI THIS IS MY FIRST FILE. Lots of ideas to write but need time to do so \n",
      "\n",
      "HI THIS IS MY FIRST FILE. Lots of ideas to write but need time to do so \n",
      "\n",
      "HI THIS IS MY FIRST FILE. Lots of ideas to write but need time to do so \n",
      "\n",
      "HI THIS IS MY FIRST FILE. Lots of ideas to append but need time to do so \n",
      "\n",
      "HI THIS IS MY FIRST FILE. Lots of ideas to append but need time to do so \n",
      "\n",
      "HI THIS IS MY FIRST FILE. Lots of ideas to append but need time to do so \n",
      "\n"
     ]
    }
   ],
   "source": [
    "f = open(\"D:\\\\03 Python\\workspace\\Python_Feb_Batch\\Week3Day2\\myfirstfile.txt\",mode='r')\n",
    "for i in f:\n",
    "    print(i)\n",
    "f.close()"
   ]
  },
  {
   "cell_type": "code",
   "execution_count": 13,
   "metadata": {},
   "outputs": [
    {
     "name": "stdout",
     "output_type": "stream",
     "text": [
      "File created manually \n",
      "\n",
      "\n",
      "\n",
      "This file should be the first file created by us for working with files.TestLeaf is a poineer in Automation testing and started penetrating the in to the world of Data science and python.\n",
      "\n"
     ]
    }
   ],
   "source": [
    "with open(\"D:\\\\testleaf.txt\",mode='r', encoding=\"utf-8\") as file:\n",
    "    for i in file:\n",
    "        print(i)"
   ]
  },
  {
   "cell_type": "code",
   "execution_count": 17,
   "metadata": {},
   "outputs": [
    {
     "name": "stdout",
     "output_type": "stream",
     "text": [
      "File created :  new_test_file_mar.txt\n",
      "Removed the file :  new_test_file_mar.txt\n",
      "The file does not exist : random_file_test.txt\n"
     ]
    }
   ],
   "source": [
    "import os\n",
    "\n",
    "def createTestFile(fileName):\n",
    "    f = open(fileName,'w')\n",
    "    f.write(\"Sample file\")\n",
    "    print(\"File created : \", fileName)\n",
    "\n",
    "    \n",
    "def removeFile(file_name):\n",
    "    if os.path.exists(file_name):\n",
    "        os.remove(file_name)\n",
    "        print(\"Removed the file : \", file_name)\n",
    "    else:\n",
    "        print(\"The file does not exist :\", file_name)\n",
    "        \n",
    "file_name = \"new_test_file_mar.txt\"\n",
    "createTestFile(file_name)\n",
    "removeFile(file_name)\n",
    "removeFile(\"random_file_test.txt\")"
   ]
  }
 ],
 "metadata": {
  "kernelspec": {
   "display_name": "Python 3",
   "language": "python",
   "name": "python3"
  },
  "language_info": {
   "codemirror_mode": {
    "name": "ipython",
    "version": 3
   },
   "file_extension": ".py",
   "mimetype": "text/x-python",
   "name": "python",
   "nbconvert_exporter": "python",
   "pygments_lexer": "ipython3",
   "version": "3.6.5"
  }
 },
 "nbformat": 4,
 "nbformat_minor": 2
}
