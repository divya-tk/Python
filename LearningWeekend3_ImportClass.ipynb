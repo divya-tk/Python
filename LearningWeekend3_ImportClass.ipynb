{
 "cells": [
  {
   "cell_type": "code",
   "execution_count": 36,
   "metadata": {},
   "outputs": [
    {
     "name": "stdout",
     "output_type": "stream",
     "text": [
      "<bound method book.__repr__ of (323, 'Python language', 'John', [(323, 'Good', 5), (323, 'awesome', 5)])>\n"
     ]
    }
   ],
   "source": [
    "class book(object):\n",
    "    \n",
    "    def __init__(self, id1, name, author):\n",
    "        self.id1 = id1\n",
    "        self.name = name\n",
    "        self.author = author\n",
    "        self.review = []\n",
    "        \n",
    "    def __repr__(self):\n",
    "        return repr((self.id1, self.name, self.author, self.review))\n",
    "    \n",
    "    def addreview(self,  review):\n",
    "        self.review.append(review)\n",
    "               \n",
    "class review:\n",
    "    \n",
    "    def __init__(self,id1, reviewDetails, rating):\n",
    "        self.id1 = id1\n",
    "        self.reviewDetails = reviewDetails\n",
    "        self.rating = rating\n",
    "        \n",
    "    def __repr__(self):\n",
    "        return repr((self.id1,self.reviewDetails,self.rating))\n",
    "        \n",
    "b1 = book(323, \"Python language\" , 'John')    \n",
    "b1.addreview(review(323 , \"Good\" , 5))\n",
    "b1.addreview(review(323, \"awesome\", 5))\n",
    "print (b1.__repr__)\n",
    "\n",
    "        "
   ]
  },
  {
   "cell_type": "code",
   "execution_count": 46,
   "metadata": {},
   "outputs": [
    {
     "name": "stdout",
     "output_type": "stream",
     "text": [
      "<bound method bookdetails.__repr__ of (80, 'Java Programming', 'Ken', [(80, 'good book', 5), (80, 'very good', 4), (80, 'awesome', 5)])>\n"
     ]
    }
   ],
   "source": [
    "class bookdetails(object):\n",
    "    \n",
    "    def __init__(self, id1, bookname, author):\n",
    "        self.id1 = id1\n",
    "        self.bookname = bookname\n",
    "        self.author = author\n",
    "        self.reviewdetails = []\n",
    "        \n",
    "    def __repr__(self):\n",
    "        return repr((self.id1, self.bookname, self.author, self.reviewdetails))\n",
    "    \n",
    "    def addReviewOfBook(self, reviewdetails):\n",
    "        self.reviewdetails.append(reviewdetails)\n",
    "        \n",
    "class reviewdetails:\n",
    "    \n",
    "    def __init__(self, id1, reviewdesc, rating):\n",
    "        self.id1 = id1\n",
    "        self.reviewdesc = reviewdesc\n",
    "        self.rating = rating\n",
    "        \n",
    "    def __repr__(self):\n",
    "        return repr((self.id1, self.reviewdesc, self.rating))\n",
    "\n",
    "\n",
    "        "
   ]
  },
  {
   "cell_type": "code",
   "execution_count": 53,
   "metadata": {},
   "outputs": [],
   "source": [
    "class student:\n",
    "    \n",
    "    def __init__(self, rollno, name):\n",
    "        self.rollno = rollno\n",
    "        self.name = name\n",
    "        self.marks = []\n",
    "    \n",
    "    def addMarks(self, mark):\n",
    "        self.marks.append(mark)\n",
    "        \n",
    "    def numberOfMarks(self):\n",
    "        return len(self.marks)\n",
    "    \n",
    "    def minimumMarks(self):\n",
    "        return min(self.marks)\n",
    "    \n",
    "    def maximiumMarks(self):\n",
    "        return max(self.marks)\n",
    "    \n",
    "    def sumOfMarks(self):\n",
    "        return sum(self.marks)\n",
    "    \n",
    "    def averageOfMarks(self):\n",
    "        return sum(self.marks) / len(self.marks)"
   ]
  },
  {
   "cell_type": "code",
   "execution_count": 54,
   "metadata": {},
   "outputs": [
    {
     "name": "stdout",
     "output_type": "stream",
     "text": [
      "Bhanu 10 5\n",
      "None\n",
      "289\n"
     ]
    }
   ],
   "source": [
    "# composition\n",
    "\n",
    "class studentPersonalDetails:\n",
    "    \n",
    "    def __init__(self, name, age, std):\n",
    "        self.name = name\n",
    "        self.age = age\n",
    "        self.std = std\n",
    "        \n",
    "    def infoStudent(self):\n",
    "        print(self.name, self.age, self.std)\n",
    "\n",
    "class markDetails:\n",
    "    \n",
    "    def __init__(self, marks):\n",
    "        self.marks = marks\n",
    "        self.details = studentPersonalDetails('Bhanu', 10, 5)\n",
    "        \n",
    "    def sumOfMarks(self):\n",
    "        return sum(self.marks)\n",
    "    \n",
    "x = markDetails([90, 99, 100])\n",
    "print(x.details.infoStudent())\n",
    "print(x.sumOfMarks())"
   ]
  },
  {
   "cell_type": "code",
   "execution_count": 55,
   "metadata": {},
   "outputs": [
    {
     "name": "stdout",
     "output_type": "stream",
     "text": [
      "['C:\\\\Users\\\\bhanu\\\\py_class', 'C:\\\\Users\\\\bhanu\\\\Anaconda3\\\\python37.zip', 'C:\\\\Users\\\\bhanu\\\\Anaconda3\\\\DLLs', 'C:\\\\Users\\\\bhanu\\\\Anaconda3\\\\lib', 'C:\\\\Users\\\\bhanu\\\\Anaconda3', '', 'C:\\\\Users\\\\bhanu\\\\Anaconda3\\\\lib\\\\site-packages', 'C:\\\\Users\\\\bhanu\\\\Anaconda3\\\\lib\\\\site-packages\\\\win32', 'C:\\\\Users\\\\bhanu\\\\Anaconda3\\\\lib\\\\site-packages\\\\win32\\\\lib', 'C:\\\\Users\\\\bhanu\\\\Anaconda3\\\\lib\\\\site-packages\\\\Pythonwin', 'C:\\\\Users\\\\bhanu\\\\Anaconda3\\\\lib\\\\site-packages\\\\IPython\\\\extensions', 'C:\\\\Users\\\\bhanu\\\\.ipython']\n"
     ]
    }
   ],
   "source": [
    "# to get the environment system path\n",
    "\n",
    "import sys\n",
    "print (sys.path)"
   ]
  },
  {
   "cell_type": "code",
   "execution_count": 56,
   "metadata": {},
   "outputs": [
    {
     "name": "stdout",
     "output_type": "stream",
     "text": [
      "48.96394126182491\n"
     ]
    }
   ],
   "source": [
    "# to get random number\n",
    "\n",
    "import random\n",
    "print (random.random() * 100)"
   ]
  },
  {
   "cell_type": "code",
   "execution_count": 60,
   "metadata": {},
   "outputs": [
    {
     "name": "stdout",
     "output_type": "stream",
     "text": [
      "['In', 'Out', '_', '_52', '__', '___', '__builtin__', '__builtins__', '__doc__', '__loader__', '__name__', '__package__', '__spec__', '_dh', '_i', '_i1', '_i10', '_i11', '_i12', '_i13', '_i14', '_i15', '_i16', '_i17', '_i18', '_i19', '_i2', '_i20', '_i21', '_i22', '_i23', '_i24', '_i25', '_i26', '_i27', '_i28', '_i29', '_i3', '_i30', '_i31', '_i32', '_i33', '_i34', '_i35', '_i36', '_i37', '_i38', '_i39', '_i4', '_i40', '_i41', '_i42', '_i43', '_i44', '_i45', '_i46', '_i47', '_i48', '_i49', '_i5', '_i50', '_i51', '_i52', '_i53', '_i54', '_i55', '_i56', '_i57', '_i58', '_i59', '_i6', '_i60', '_i7', '_i8', '_i9', '_ih', '_ii', '_iii', '_oh', 'b1', 'book', 'book1', 'bookdetails', 'exit', 'get_ipython', 'markDetails', 'math', 'quit', 'random', 'review', 'reviewdetails', 'student', 'studentPersonalDetails', 'sys', 'x']\n",
      "3.0\n"
     ]
    }
   ],
   "source": [
    "# to get mathematical function\n",
    "\n",
    "import math\n",
    "print (math.sqrt(9))"
   ]
  },
  {
   "cell_type": "code",
   "execution_count": 75,
   "metadata": {},
   "outputs": [],
   "source": [
    "# to create a new file and write the contents\n",
    "\n",
    "f = open(\"C:\\\\Users\\\\bhanu\\\\py_class\\\\progNew.txt\", \"w\", encoding = 'utf-8')\n",
    "f.write(\"First line\")\n",
    "f.write(\"\\n\")\n",
    "f.write(\"Second line\")\n",
    "f.write(\"\\n\")\n",
    "f.close()"
   ]
  },
  {
   "cell_type": "code",
   "execution_count": 78,
   "metadata": {},
   "outputs": [
    {
     "name": "stdout",
     "output_type": "stream",
     "text": [
      "First line\n",
      "\n",
      "Second line\n",
      "\n",
      "First line\n",
      "\n",
      "Second line\n",
      "\n"
     ]
    }
   ],
   "source": [
    "# to read the file\n",
    "f = open(\"C:\\\\Users\\\\bhanu\\\\py_class\\\\progNew.txt\", \"r\", encoding = 'utf-8')\n",
    "for i in f:\n",
    "    print (i)\n",
    "f.close()"
   ]
  },
  {
   "cell_type": "code",
   "execution_count": 77,
   "metadata": {},
   "outputs": [],
   "source": [
    "# to append the file\n",
    "\n",
    "f = open(\"C:\\\\Users\\\\bhanu\\\\py_class\\\\progNew.txt\", \"a\", encoding = 'utf-8')\n",
    "f.write(\"First line\")\n",
    "f.write(\"\\n\")\n",
    "f.write(\"Second line\")\n",
    "f.write(\"\\n\")\n",
    "f.close()"
   ]
  },
  {
   "cell_type": "code",
   "execution_count": 96,
   "metadata": {},
   "outputs": [],
   "source": [
    "# to write manually created file\n",
    "with open(\"C:\\\\Users\\\\bhanu\\\\py_class\\\\manual.txt\",\"w\") as f:\n",
    "    f.write(\"bhanu\")\n",
    "    f.close()\n",
    "\n"
   ]
  },
  {
   "cell_type": "code",
   "execution_count": 98,
   "metadata": {},
   "outputs": [],
   "source": [
    "# to read manually created file\n",
    "with open(\"C:\\\\Users\\\\bhanu\\\\py_class\\\\manual.txt\",\"r\") as f:\n",
    "    for l in f:\n",
    "        print(l)\n",
    "    f.close()"
   ]
  },
  {
   "cell_type": "code",
   "execution_count": 86,
   "metadata": {},
   "outputs": [
    {
     "name": "stdout",
     "output_type": "stream",
     "text": [
      "File created: C:\\Users\\bhanu\\py_class\\man.txt\n",
      "File removed successfully\n",
      "File does not exist\n"
     ]
    }
   ],
   "source": [
    "import os\n",
    "\n",
    "def createTestFile(fileName):\n",
    "    f = open(fileName, 'w')\n",
    "    f.write(\"Sample file\")\n",
    "    print(\"File created:\", fileName)\n",
    "    \n",
    "def removeFile(fileName):\n",
    "    if os.path.exists(fileName):\n",
    "        os.remove(fileName)\n",
    "        print(\"File removed successfully\")\n",
    "    else:\n",
    "        print(\"File does not exist\")\n",
    "\n",
    "createTestFile(\"C:\\\\Users\\\\bhanu\\\\py_class\\\\man.txt\")\n",
    "removeFile(\"C:\\\\Users\\\\bhanu\\\\py_class\\\\man.txt\")\n",
    "removeFile(\"C:\\\\Users\\\\bhanu\\\\py_class\\\\man.txt\")\n"
   ]
  },
  {
   "cell_type": "code",
   "execution_count": 103,
   "metadata": {},
   "outputs": [],
   "source": [
    "# manually create a file\n",
    "# read 3rd to 6th line\n",
    "# create a new file and paste it into it\n",
    "lineNum = 0\n",
    "cf = open(\"C:\\\\Users\\\\bhanu\\\\py_class\\\\output.txt\",\"w\")\n",
    "with open(\"C:\\\\Users\\\\bhanu\\\\py_class\\\\manual.txt\",\"r\") as f:\n",
    "    for l in f:\n",
    "        lineNum += 1\n",
    "#        print(l)\n",
    "        if (lineNum > 2) and (lineNum < 7):\n",
    "            cf.write(l)\n",
    "f.close()\n",
    "cf.close()"
   ]
  },
  {
   "cell_type": "code",
   "execution_count": 108,
   "metadata": {},
   "outputs": [
    {
     "name": "stdout",
     "output_type": "stream",
     "text": [
      "[3, 4, 5, 6, 6, 6, 6, 6, 1, 9, 9, 1, 6, 6, 6, 6]\n",
      "9\n"
     ]
    },
    {
     "ename": "AttributeError",
     "evalue": "'float' object has no attribute 'diff'",
     "output_type": "error",
     "traceback": [
      "\u001b[1;31m---------------------------------------------------------------------------\u001b[0m",
      "\u001b[1;31mAttributeError\u001b[0m                            Traceback (most recent call last)",
      "\u001b[1;32m<ipython-input-108-53afd7cdd158>\u001b[0m in \u001b[0;36m<module>\u001b[1;34m\u001b[0m\n\u001b[0;32m     10\u001b[0m \u001b[1;33m\u001b[0m\u001b[0m\n\u001b[0;32m     11\u001b[0m \u001b[1;32mfor\u001b[0m \u001b[0mi\u001b[0m \u001b[1;32min\u001b[0m \u001b[0mlistNum\u001b[0m\u001b[1;33m:\u001b[0m\u001b[1;33m\u001b[0m\u001b[1;33m\u001b[0m\u001b[0m\n\u001b[1;32m---> 12\u001b[1;33m     \u001b[0mdiff\u001b[0m \u001b[1;33m=\u001b[0m \u001b[0mavg\u001b[0m\u001b[1;33m.\u001b[0m\u001b[0mdiff\u001b[0m\u001b[1;33m(\u001b[0m\u001b[1;33m)\u001b[0m\u001b[1;33m\u001b[0m\u001b[1;33m\u001b[0m\u001b[0m\n\u001b[0m",
      "\u001b[1;31mAttributeError\u001b[0m: 'float' object has no attribute 'diff'"
     ]
    }
   ],
   "source": [
    "listNum = []\n",
    "listDiff = []\n",
    "with open(\"C:\\\\Users\\\\bhanu\\\\py_class\\\\manual1.txt\",\"r\") as f:\n",
    "    for l in f:\n",
    "        for s in l:\n",
    "            if s.isdecimal():\n",
    "                listNum.append(int(s))\n",
    "print(listNum)\n",
    "print(max(listNum))\n",
    "avg = (sum(listNum)/len(listNum))\n",
    "\n",
    "for i in listNum:\n",
    "    diff = avg - i"
   ]
  },
  {
   "cell_type": "code",
   "execution_count": null,
   "metadata": {},
   "outputs": [],
   "source": []
  }
 ],
 "metadata": {
  "kernelspec": {
   "display_name": "Python 3",
   "language": "python",
   "name": "python3"
  },
  "language_info": {
   "codemirror_mode": {
    "name": "ipython",
    "version": 3
   },
   "file_extension": ".py",
   "mimetype": "text/x-python",
   "name": "python",
   "nbconvert_exporter": "python",
   "pygments_lexer": "ipython3",
   "version": "3.7.1"
  }
 },
 "nbformat": 4,
 "nbformat_minor": 2
}
