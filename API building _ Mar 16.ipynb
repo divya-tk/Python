{
 "cells": [
  {
   "cell_type": "code",
   "execution_count": null,
   "metadata": {},
   "outputs": [
    {
     "name": "stdout",
     "output_type": "stream",
     "text": [
      " * Serving Flask app \"__main__\" (lazy loading)\n",
      " * Environment: production\n",
      "   WARNING: Do not use the development server in a production environment.\n",
      "   Use a production WSGI server instead.\n",
      " * Debug mode: off\n"
     ]
    },
    {
     "name": "stderr",
     "output_type": "stream",
     "text": [
      " * Running on http://127.0.0.1:5000/ (Press CTRL+C to quit)\n"
     ]
    }
   ],
   "source": [
    "# To build API for online store       \n",
    "\n",
    "from flask import Flask, jsonify , request  #modules \n",
    "app=Flask(__name__) \n",
    "\n",
    "stores = [{'name':'My wonderful store',\n",
    "          'item':[{'name':'Item 1',\n",
    "                   'price':1050}]}]\n",
    "\n",
    "@app.route(\"/\")\n",
    "def hello_world():\n",
    "    return 'Hello world'       #Till this for creating IP Address\n",
    "\n",
    "\n",
    "\n",
    "\n",
    "# #POST / store / <string:name>/item(name:,price)\n",
    "\n",
    "\n",
    "@app.route('/store/<string:name>/item',methods=['POST'])\n",
    "def create_item_in_store(name):\n",
    "    pass\n",
    "\n",
    "#POST / store data: (name:)\n",
    "# @app.route('/store',methods=['POST'])\n",
    "# def create_store():\n",
    "#     request_data=request.get json()\n",
    "#     new_store={'name':request_data['name'],\n",
    "#               'Item':[]}\n",
    "#     stores.append(new_store)\n",
    "#     return jsonify(new_store)\n",
    "\n",
    "\n",
    "# @app.route('/store/<string:name>',methods=['GET'])\n",
    "# def get_item_in_store(name):\n",
    "#     for store in stores:\n",
    "#         if \n",
    "\n",
    "\n",
    "\n",
    "#GET / store\n",
    "@app.route('/store')\n",
    "def get_stores():\n",
    "    return jsonify({'stores':stores})\n",
    "\n",
    "\n",
    "app.run(port=5000)"
   ]
  },
  {
   "cell_type": "code",
   "execution_count": null,
   "metadata": {},
   "outputs": [],
   "source": [
    "#Linear algebra:\n",
    "import numpy as np\n",
    "array=np.matrix('1,2:3,4')\n",
    "print(array)"
   ]
  },
  {
   "cell_type": "code",
   "execution_count": null,
   "metadata": {},
   "outputs": [],
   "source": []
  }
 ],
 "metadata": {
  "kernelspec": {
   "display_name": "Python 3",
   "language": "python",
   "name": "python3"
  },
  "language_info": {
   "codemirror_mode": {
    "name": "ipython",
    "version": 3
   },
   "file_extension": ".py",
   "mimetype": "text/x-python",
   "name": "python",
   "nbconvert_exporter": "python",
   "pygments_lexer": "ipython3",
   "version": "3.7.1"
  }
 },
 "nbformat": 4,
 "nbformat_minor": 2
}
