{
 "cells": [
  {
   "cell_type": "code",
   "execution_count": 2,
   "metadata": {},
   "outputs": [
    {
     "name": "stdout",
     "output_type": "stream",
     "text": [
      "[(10, 'Great Book', 5), (101, 'Awesome', 5)]\n",
      "<bound method Book.__repr__ of (123, 'Object Oriented Programming with Python', 'Ranga', [(10, 'Great Book', 5), (101, 'Awesome', 5)])>\n"
     ]
    }
   ],
   "source": [
    "class Book(object):\n",
    "    \n",
    "    def __init__(self, id, name, author):\n",
    "        self.id = id\n",
    "        self.name = name\n",
    "        self.author = author\n",
    "        self.reviews = []\n",
    "\n",
    "    def __repr__(self):\n",
    "        return repr((self.id,self.name,self.author,self.reviews))\n",
    "\n",
    "    def add_review(self, review):\n",
    "        self.reviews.append(review)\n",
    "\n",
    "\n",
    "class Review:\n",
    "    def __init__(self, id, description, rating):\n",
    "        self.id = id\n",
    "        self.description = description\n",
    "        self.rating = rating\n",
    "\n",
    "    def __repr__(self):\n",
    "        return repr((self.id,self.description,self.rating))\n",
    "\n",
    "\n",
    "book = Book(123, 'Object Oriented Programming with Python', 'Ranga')\n",
    "\n",
    "# book.add_review()\n",
    "book.add_review(Review(10, \"Great Book\", 5))\n",
    "book.add_review(Review(101, \"Awesome\", 5))\n",
    "\n",
    "print(book.reviews)\n",
    "print(book.__repr__)"
   ]
  },
  {
   "cell_type": "code",
   "execution_count": 5,
   "metadata": {},
   "outputs": [
    {
     "name": "stdout",
     "output_type": "stream",
     "text": [
      "[23, 45, 75, 35]\n",
      "Student[\n",
      "    number_of_marks-4 \n",
      "    sum_of_marks-199\n",
      "    max-75 \n",
      "    min-23 \n",
      "    avg-49.75 ] \n"
     ]
    }
   ],
   "source": [
    "# Student Mark details:- input -> Name and Marks -> Create a Method call len, count, max, min \n",
    "                        # and avg of marks.\n",
    "\n",
    "\n",
    "class Student:\n",
    "\n",
    "    def __init__(self, name, marks):\n",
    "        self.name = name\n",
    "        self.marks = marks\n",
    "\n",
    "    def get_number_of_marks(self):\n",
    "        return len(self.marks)\n",
    "\n",
    "    def get_total_sum_of_marks(self):\n",
    "        return sum(self.marks)\n",
    "\n",
    "    def determine_maximum_mark(self):\n",
    "        return max(self.marks)\n",
    "\n",
    "    def determine_minimum_mark(self):\n",
    "        return min(self.marks)\n",
    "\n",
    "    def determine_average(self):\n",
    "        return self.get_total_sum_of_marks()/self.get_number_of_marks()\n",
    "\n",
    "    def add_new_mark(self, new_mark):\n",
    "        self.marks.append(new_mark)\n",
    "\n",
    "    def remove_mark_at_index(self, index):\n",
    "        del self.marks[index]\n",
    "\n",
    "\n",
    "student = Student (\"Ranga\", [23, 45, 56, 75])\n",
    "number = student.get_number_of_marks()\n",
    "\n",
    "sum_of_marks = student.get_total_sum_of_marks()\n",
    "maximum_mark = student.determine_maximum_mark()\n",
    "minimum_mark = student.determine_minimum_mark()\n",
    "average = student.determine_average()\n",
    "student.add_new_mark(35)\n",
    "student.remove_mark_at_index(2)\n",
    "print(student.marks)\n",
    "print(f\"\"\"Student[\n",
    "    number_of_marks-{number} \n",
    "    sum_of_marks-{sum_of_marks}\n",
    "    max-{maximum_mark} \n",
    "    min-{minimum_mark} \n",
    "    avg-{average} ] \"\"\")"
   ]
  },
  {
   "cell_type": "code",
   "execution_count": null,
   "metadata": {},
   "outputs": [],
   "source": [
    "\n",
    "        "
   ]
  }
 ],
 "metadata": {
  "kernelspec": {
   "display_name": "Python 3",
   "language": "python",
   "name": "python3"
  },
  "language_info": {
   "codemirror_mode": {
    "name": "ipython",
    "version": 3
   },
   "file_extension": ".py",
   "mimetype": "text/x-python",
   "name": "python",
   "nbconvert_exporter": "python",
   "pygments_lexer": "ipython3",
   "version": "3.6.5"
  }
 },
 "nbformat": 4,
 "nbformat_minor": 2
}
