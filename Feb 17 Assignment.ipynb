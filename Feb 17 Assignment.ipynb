{
 "cells": [
  {
   "cell_type": "code",
   "execution_count": 35,
   "metadata": {},
   "outputs": [
    {
     "name": "stdout",
     "output_type": "stream",
     "text": [
      "Enter string: break\n",
      "Palindrome\n"
     ]
    }
   ],
   "source": [
    "#Palindrome\n",
    "x=input(\"Enter string: \")\n",
    "\n",
    "str=\"\"\n",
    "\n",
    "#for i in range((len(x)-1),-1,-1):\n",
    "    #str=x[i]+str\n",
    "for i in x:\n",
    "    \n",
    "    str=str+i    \n",
    "if x.lower()==str.lower():\n",
    "        print(\"Palindrome\")\n",
    "else:\n",
    "        print(\"Not a palindrome\")\n"
   ]
  },
  {
   "cell_type": "code",
   "execution_count": 24,
   "metadata": {},
   "outputs": [
    {
     "name": "stdout",
     "output_type": "stream",
     "text": [
      "24\n"
     ]
    }
   ],
   "source": [
    "#Factorial\n",
    "Num=4\n",
    "f=1\n",
    "for i in range(1,Num+1):\n",
    "    f=f*i\n",
    "print(f)    "
   ]
  },
  {
   "cell_type": "code",
   "execution_count": 16,
   "metadata": {},
   "outputs": [
    {
     "name": "stdout",
     "output_type": "stream",
     "text": [
      "Enter number: 67\n",
      "prime\n"
     ]
    }
   ],
   "source": [
    "#Prime\n",
    "N=int(input(\"Enter number: \"))\n",
    "flag=0\n",
    "val=int(N/2)\n",
    "for i in range(2,val):\n",
    "    if N%i==0:\n",
    "        flag=1\n",
    "        break\n",
    "        \n",
    "if flag==1:\n",
    "    print(\"Not a prime\")\n",
    "else:\n",
    "    print(\"prime\")\n",
    "        "
   ]
  },
  {
   "cell_type": "code",
   "execution_count": 46,
   "metadata": {},
   "outputs": [
    {
     "name": "stdout",
     "output_type": "stream",
     "text": [
      "Enter number: 20002\n",
      "Palindrome\n"
     ]
    }
   ],
   "source": [
    "#Int palindrome\n",
    "x=int(input(\"Enter number: \"))\n",
    "R=0\n",
    "Q=0\n",
    "New=0\n",
    "tempNum=x\n",
    "while(x!=0):\n",
    "    Q=x//10\n",
    "    R=x%10\n",
    "    New=New*10+R\n",
    "    x=Q\n",
    "\n",
    "if tempNum==New:\n",
    "        print(\"Palindrome\")\n",
    "else:\n",
    "        print(\"Mot a palindrome\")\n",
    "    \n",
    "    "
   ]
  },
  {
   "cell_type": "code",
   "execution_count": null,
   "metadata": {},
   "outputs": [],
   "source": []
  },
  {
   "cell_type": "code",
   "execution_count": null,
   "metadata": {},
   "outputs": [],
   "source": []
  }
 ],
 "metadata": {
  "kernelspec": {
   "display_name": "Python 3",
   "language": "python",
   "name": "python3"
  },
  "language_info": {
   "codemirror_mode": {
    "name": "ipython",
    "version": 3
   },
   "file_extension": ".py",
   "mimetype": "text/x-python",
   "name": "python",
   "nbconvert_exporter": "python",
   "pygments_lexer": "ipython3",
   "version": "3.7.1"
  }
 },
 "nbformat": 4,
 "nbformat_minor": 2
}
