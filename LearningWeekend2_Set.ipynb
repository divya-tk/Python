{
 "cells": [
  {
   "cell_type": "code",
   "execution_count": 24,
   "metadata": {},
   "outputs": [
    {
     "name": "stdout",
     "output_type": "stream",
     "text": [
      "<class 'set'>\n",
      "{'Samsung', 'apple', 'mi'}\n",
      "{'Samsung', 'apple', 'mi'}\n",
      "{'LG', 'Samsung', 'mi', 'apple', 'lg'}\n",
      "{'LG', 'Samsung', 'mi', 'Oneplus', 'apple', 'lg'}\n",
      "{'Samsung', 'mi', 'Oneplus', 'apple', 'lg'}\n"
     ]
    }
   ],
   "source": [
    "mobiles = {'apple', 'mi'}\n",
    "print (type(mobiles))\n",
    "mobiles.add('Samsung')\n",
    "print (mobiles)\n",
    "print (mobiles)\n",
    "mobiles.update({'LG','lg'})\n",
    "print (mobiles)\n",
    "mobiles.add('Oneplus')\n",
    "print (mobiles)\n",
    "#del mobiles\n",
    "mobiles.remove('LG')\n",
    "print (mobiles)\n",
    "\n"
   ]
  },
  {
   "cell_type": "code",
   "execution_count": 14,
   "metadata": {},
   "outputs": [
    {
     "name": "stdout",
     "output_type": "stream",
     "text": [
      "{1, 2, 3, 8}\n",
      "{2, 3}\n",
      "{1}\n",
      "{8, 1}\n"
     ]
    }
   ],
   "source": [
    "number = {1, 2, 3, 3}\n",
    "number1 = {3, 2 ,8}\n",
    "print (number | number1)\n",
    "print (number & number1)\n",
    "print (number - number1)\n",
    "print (number ^ number1)"
   ]
  },
  {
   "cell_type": "code",
   "execution_count": 28,
   "metadata": {},
   "outputs": [
    {
     "name": "stdout",
     "output_type": "stream",
     "text": [
      "{1, 2, 3, 35, 21}\n",
      "{1, 2, 3, 35, 21, 8}\n",
      "{2, 3}\n",
      "{1, 35, 21}\n",
      "{1, 35, 8, 21}\n"
     ]
    }
   ],
   "source": [
    "number = {1, 2, 3, 3}\n",
    "number1 = {3, 2 ,8}\n",
    "number.update({21,35})\n",
    "print (number)\n",
    "print (number.union(number1))\n",
    "print (number.intersection(number1))\n",
    "print (number.difference(number1))\n",
    "print (number.symmetric_difference(number1))"
   ]
  },
  {
   "cell_type": "code",
   "execution_count": 53,
   "metadata": {},
   "outputs": [
    {
     "name": "stdout",
     "output_type": "stream",
     "text": [
      "again and friends hello makes perfect practice\n"
     ]
    }
   ],
   "source": [
    "# To eliminate the repeatative words from the given input and display the words in alphabetic order\n",
    "\n",
    "input1 = \"hello friends and practice makes perfect and hello friends again\"\n",
    "setofinput = set({})\n",
    "words = input1.split()\n",
    "for i in range (0, len(words)):\n",
    "    setofinput.add(words[i])\n",
    "# print (setofinput)\n",
    "output1 = list(setofinput)\n",
    "# print (output1)\n",
    "output1.sort()\n",
    "# print (output1)\n",
    "print (\" \".join(output1))"
   ]
  },
  {
   "cell_type": "code",
   "execution_count": null,
   "metadata": {},
   "outputs": [],
   "source": [
    "\n"
   ]
  },
  {
   "cell_type": "code",
   "execution_count": null,
   "metadata": {},
   "outputs": [],
   "source": []
  }
 ],
 "metadata": {
  "kernelspec": {
   "display_name": "Python 3",
   "language": "python",
   "name": "python3"
  },
  "language_info": {
   "codemirror_mode": {
    "name": "ipython",
    "version": 3
   },
   "file_extension": ".py",
   "mimetype": "text/x-python",
   "name": "python",
   "nbconvert_exporter": "python",
   "pygments_lexer": "ipython3",
   "version": "3.7.1"
  }
 },
 "nbformat": 4,
 "nbformat_minor": 2
}
