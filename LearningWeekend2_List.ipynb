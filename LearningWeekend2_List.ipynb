{
 "cells": [
  {
   "cell_type": "code",
   "execution_count": 1,
   "metadata": {},
   "outputs": [
    {
     "name": "stdout",
     "output_type": "stream",
     "text": [
      "opening\n",
      "Orange\n"
     ]
    }
   ],
   "source": [
    "# To find the words starting with 'o' in the given list\n",
    "\n",
    "words = ['opening', 'Orange', 'egg', 'milk', 'home']\n",
    "for i in range(0,len(words)):\n",
    "    if words[i].lower().startswith(\"o\"):\n",
    "        print (words[i])"
   ]
  },
  {
   "cell_type": "code",
   "execution_count": 2,
   "metadata": {},
   "outputs": [
    {
     "name": "stdout",
     "output_type": "stream",
     "text": [
      "5\n",
      "Orange\n",
      "opening\n",
      "['opening', 'Orange', 'egg', 'milk', 'home', 'mobile']\n",
      "['opening', 'Orange', 'egg', 'milk', 'home', 'mobile', 'hello', 'bhanu']\n"
     ]
    }
   ],
   "source": [
    "# Working with list\n",
    "words = ['opening', 'Orange', 'egg', 'milk', 'home']\n",
    "print (len(words))\n",
    "print (min(words))\n",
    "print (max(words))\n",
    "\n",
    "words.append(\"mobile\")\n",
    "print (words)\n",
    "words.extend(['hello', 'bhanu'])\n",
    "print (words)"
   ]
  },
  {
   "cell_type": "code",
   "execution_count": 17,
   "metadata": {},
   "outputs": [
    {
     "name": "stdout",
     "output_type": "stream",
     "text": [
      "['opening', 'Orange', 'egg', 'milk', 'home', 'lion', 'tiger', 'fox']\n",
      "['divya', 'Diva', 'vani', 'Krish', 'divya', 'Muthu', 'Naresh']\n"
     ]
    }
   ],
   "source": [
    "# To append two list without using extend\n",
    "\n",
    "wordList1 = ['opening', 'Orange', 'egg', 'milk', 'home']\n",
    "wordList2 = ['lion', 'tiger', 'fox']\n",
    "for i in range(0,len(wordList2)):\n",
    "    wordList1.append(wordList2[i])\n",
    "print (wordList1)\n",
    "\n",
    "lst1=[\"divya\",\"Diva\",\"vani\",\"Krish\"]\n",
    "lst2=[\"divya\",\"Muthu\",\"Naresh\"]\n",
    "#result=lst1.extend([lst2])\n",
    "for i in range(0,len(lst2)):\n",
    "    lst1.append(lst2[i])\n",
    "print(lst1)    \n",
    "    \n"
   ]
  },
  {
   "cell_type": "code",
   "execution_count": 6,
   "metadata": {},
   "outputs": [
    {
     "name": "stdout",
     "output_type": "stream",
     "text": [
      "['opening', 'Orange', 'milk', 'home']\n",
      "['opening', 'Orange', 'egg', 'milk', 'home']\n",
      "['eagle']\n"
     ]
    }
   ],
   "source": [
    "# To remove all the repeated word from the list\n",
    "\n",
    "wordToBeRemoved = 'egg'\n",
    "wordList = ['opening', 'Orange', 'egg', 'milk', 'home', 'egg', 'egg']\n",
    "count = 0\n",
    "\n",
    "for i in range(0,len(wordList)):\n",
    "    if wordList[i] == wordToBeRemoved:\n",
    "        count = count + 1\n",
    "for j in range(0,count):\n",
    "    wordList.remove(wordToBeRemoved)         \n",
    "print (wordList) \n",
    "    \n",
    "#Remove duplicates    \n",
    "wordList = ['opening', 'Orange', 'egg', 'milk', 'home', 'egg', 'egg']\n",
    "uniques=[]\n",
    "for word in wordList:\n",
    "    if word not in uniques:\n",
    "        uniques.append(word)\n",
    "print(uniques)  \n",
    "\n",
    "#Remove 1st word starts with 'e'\n",
    "wordList1 = ['eye','eagle']\n",
    "\n",
    "for word in wordList1:\n",
    "    if word.startswith(\"e\"):\n",
    "        wordList1.remove(word)\n",
    "    \n",
    "print(wordList1)    \n",
    "\n",
    "#Remove all words starts with 'e'    \n",
    "    "
   ]
  },
  {
   "cell_type": "code",
   "execution_count": 18,
   "metadata": {},
   "outputs": [
    {
     "name": "stdout",
     "output_type": "stream",
     "text": [
      "['a', 'b', 'c', 'a', 'b', 'c', 'a', 'b', 'c']\n"
     ]
    }
   ],
   "source": [
    "word = ['a', 'b','c']\n",
    "print (word * 3)"
   ]
  },
  {
   "cell_type": "code",
   "execution_count": 19,
   "metadata": {},
   "outputs": [
    {
     "name": "stdout",
     "output_type": "stream",
     "text": [
      "['a', 'b', 'c', '1', '2']\n"
     ]
    }
   ],
   "source": [
    "word1 = ['a', 'b','c']\n",
    "word2 = ['1', '2']\n",
    "print (word1 + word2)"
   ]
  },
  {
   "cell_type": "code",
   "execution_count": 65,
   "metadata": {},
   "outputs": [
    {
     "name": "stdout",
     "output_type": "stream",
     "text": [
      "[5, 4, 3, 2, 1]\n"
     ]
    }
   ],
   "source": [
    "# without using reverse function, to reverse and print a List\n",
    "# numbers = [2, 4, 4, 6, 6 ,8]\n",
    "# reversednumbers = []\n",
    "\n",
    "# for i in range(len(numbers)-1, -1, -1):\n",
    "#     reversednumbers.append(numbers[i])\n",
    "\n",
    "# print (reversednumbers)\n",
    "\n",
    "lst=[1,2,3,4,5]\n",
    "reversedOutput=[]\n",
    "for item in range(len(lst)-1,-1,-1):\n",
    "    reversedOutput.append(lst[item])\n",
    "print(reversedOutput)    "
   ]
  },
  {
   "cell_type": "code",
   "execution_count": 79,
   "metadata": {},
   "outputs": [
    {
     "name": "stdout",
     "output_type": "stream",
     "text": [
      "30\n",
      "30\n"
     ]
    }
   ],
   "source": [
    "# to sum all the numbers of a List\n",
    "\n",
    "numbers = [2, 4, 4, 6, 6 ,8]\n",
    "sumofnumbers = numbers[0]\n",
    "\n",
    "for i in range(1,len(numbers)):\n",
    "    sumofnumbers = sumofnumbers + numbers[i]\n",
    "print (sumofnumbers)\n",
    "\n",
    "numbers = [2, 4, 4, 6, 6 ,8]\n",
    "sumofnumbers = 0\n",
    "\n",
    "for item in numbers:\n",
    "    sumofnumbers += item\n",
    "print (sumofnumbers)"
   ]
  },
  {
   "cell_type": "code",
   "execution_count": 11,
   "metadata": {},
   "outputs": [
    {
     "name": "stdout",
     "output_type": "stream",
     "text": [
      "[2, 4, 4, 5, 6, 6, 8, 10, 100]\n",
      "Median is  6\n"
     ]
    }
   ],
   "source": [
    "# to find and print the median of an array \n",
    "numbers = [100, 2, 4, 4, 6, 5, 6 ,8,10]\n",
    "numbers.sort()\n",
    "print (numbers)\n",
    "count1 = len(numbers)\n",
    "if count1 % 2 == 0:\n",
    "    halfway = int(count1/2)\n",
    "    print(\"Median is \" , (numbers[halfway - 1] + numbers[halfway]) / 2)\n",
    "else:\n",
    "    indexOfMedian = int(count1/2)\n",
    "    print (\"Median is \", numbers[indexOfMedian])\n"
   ]
  },
  {
   "cell_type": "code",
   "execution_count": 81,
   "metadata": {},
   "outputs": [
    {
     "name": "stdout",
     "output_type": "stream",
     "text": [
      "Mode is  6\n"
     ]
    }
   ],
   "source": [
    "# to find and print the mode of an array\n",
    "numbers = [2, 4, 4, 8, 8, 8, 8, 6, 6, 6 ,8,6,6,6,6,7,6]\n",
    "maxcount = 0\n",
    "count = 0\n",
    "for i in range(0, len(numbers)):\n",
    "    count = 0\n",
    "    for j in range(0, len(numbers)):\n",
    "        if numbers[i] == numbers[j]:\n",
    "            count = count + 1\n",
    "    if count > maxcount:\n",
    "        maxcount = count\n",
    "        mode = numbers[i]\n",
    "print (\"Mode is \", mode)\n",
    "    "
   ]
  },
  {
   "cell_type": "code",
   "execution_count": 26,
   "metadata": {},
   "outputs": [
    {
     "name": "stdout",
     "output_type": "stream",
     "text": [
      "5.0\n"
     ]
    }
   ],
   "source": [
    "# to find average of an array\n",
    "\n",
    "numbers = [2, 4, 4, 6, 6 ,8]\n",
    "sumofnumbers = numbers[0]\n",
    "for i in range(1,len(numbers)):\n",
    "    sumofnumbers = sumofnumbers + numbers[i]\n",
    "average = sumofnumbers / len(numbers)\n",
    "print (average)"
   ]
  },
  {
   "cell_type": "code",
   "execution_count": 18,
   "metadata": {},
   "outputs": [
    {
     "name": "stdout",
     "output_type": "stream",
     "text": [
      "<class 'dict'>\n",
      "{100: 4, 11: 3, 1010: 10, 1001: 9}\n",
      "1010\n"
     ]
    }
   ],
   "source": [
    "# Write a program which accepts the binary number and gives the output as numbers which are divisible by 5\n",
    "\n",
    "inputlist = (100,11,1010,1001)\n",
    "decimallist = {}\n",
    "print (type(decimallist))\n",
    "for i in range(0,len(inputlist)):\n",
    "    ans = 0\n",
    "    num = inputlist[i]\n",
    "    position = 0\n",
    "    while num > 0:\n",
    "        if num % 10 == 1:\n",
    "            ans = ans + pow(2,position)\n",
    "        num = int(num / 10)\n",
    "        position += 1\n",
    "    decimallist[inputlist[i]] = ans\n",
    "print (decimallist)\n",
    "for key,value in decimallist.items():\n",
    "    if value % 5 == 0:\n",
    "        print (key)"
   ]
  },
  {
   "cell_type": "code",
   "execution_count": 1,
   "metadata": {},
   "outputs": [
    {
     "name": "stdout",
     "output_type": "stream",
     "text": [
      "[2002, 2009, 2016, 2023, 2037, 2044, 2051, 2058, 2072, 2079, 2086, 2093, 2107, 2114, 2121, 2128, 2142, 2149, 2156, 2163, 2177, 2184, 2191, 2198, 2212, 2219, 2226, 2233, 2247, 2254, 2261, 2268, 2282, 2289, 2296, 2303, 2317, 2324, 2331, 2338, 2352, 2359, 2366, 2373, 2387, 2394, 2401, 2408, 2422, 2429, 2436, 2443, 2457, 2464, 2471, 2478, 2492, 2499, 2506, 2513, 2527, 2534, 2541, 2548, 2562, 2569, 2576, 2583, 2597, 2604, 2611, 2618, 2632, 2639, 2646, 2653, 2667, 2674, 2681, 2688, 2702, 2709, 2716, 2723, 2737, 2744, 2751, 2758, 2772, 2779, 2786, 2793, 2807, 2814, 2821, 2828, 2842, 2849, 2856, 2863, 2877, 2884, 2891, 2898, 2912, 2919, 2926, 2933, 2947, 2954, 2961, 2968, 2982, 2989, 2996, 3003, 3017, 3024, 3031, 3038, 3052, 3059, 3066, 3073, 3087, 3094, 3101, 3108, 3122, 3129, 3136, 3143, 3157, 3164, 3171, 3178, 3192, 3199]\n"
     ]
    }
   ],
   "source": [
    "# to print the number divisible by 7 and not divisible by 5\n",
    "\n",
    "lstnum = list(())\n",
    "for num in range(2000, 3201):\n",
    "    if num % 7 == 0:\n",
    "        if num % 5 != 0:\n",
    "            lstnum.append(num)\n",
    "print (lstnum)"
   ]
  },
  {
   "cell_type": "code",
   "execution_count": 83,
   "metadata": {},
   "outputs": [
    {
     "name": "stdout",
     "output_type": "stream",
     "text": [
      "Enter the numbers seperated by comma1,2,3,4,5\n",
      "['1', '2', '3', '4', '5']\n",
      "('1', '2', '3', '4', '5')\n"
     ]
    }
   ],
   "source": [
    "# Accept comma seperated numbers from console and print as list and tuple\n",
    "\n",
    "numbers = input(\"Enter the numbers seperated by comma\")\n",
    "\n",
    "lstnumbers = (numbers.split(\",\"))\n",
    "tuplenumbers = (tuple)(lstnumbers)\n",
    "print (lstnumbers)\n",
    "print (tuplenumbers)"
   ]
  },
  {
   "cell_type": "code",
   "execution_count": 7,
   "metadata": {},
   "outputs": [
    {
     "name": "stdout",
     "output_type": "stream",
     "text": [
      "[1, 4, 9, 16, 25, 36, 49, 64, 81, 100, 121, 144, 169, 196, 225, 256, 289, 324, 361, 400]\n"
     ]
    }
   ],
   "source": [
    "# print a list where the values are square of numbers between 1 and 20\n",
    "lstsquare = list(())\n",
    "for i in range(1,21):\n",
    "    lstsquare.append(pow(i,2))\n",
    "print (lstsquare)"
   ]
  },
  {
   "cell_type": "code",
   "execution_count": 14,
   "metadata": {},
   "outputs": [
    {
     "name": "stdout",
     "output_type": "stream",
     "text": [
      "[23, 3, '0', 'welcome']\n"
     ]
    }
   ],
   "source": [
    "# filter function in a list\n",
    "\n",
    "p = [23, 3, '0', 0, 'welcome', '', {}]\n",
    "print (list(filter(bool,p)))"
   ]
  },
  {
   "cell_type": "code",
   "execution_count": 58,
   "metadata": {},
   "outputs": [
    {
     "name": "stdout",
     "output_type": "stream",
     "text": [
      "[2, 3, 4, 5]\n"
     ]
    }
   ],
   "source": [
    "lst = [1,2,3,4,5]\n",
    "del lst[0]\n",
    "print(lst)\n"
   ]
  },
  {
   "cell_type": "code",
   "execution_count": null,
   "metadata": {},
   "outputs": [],
   "source": []
  }
 ],
 "metadata": {
  "kernelspec": {
   "display_name": "Python 3",
   "language": "python",
   "name": "python3"
  },
  "language_info": {
   "codemirror_mode": {
    "name": "ipython",
    "version": 3
   },
   "file_extension": ".py",
   "mimetype": "text/x-python",
   "name": "python",
   "nbconvert_exporter": "python",
   "pygments_lexer": "ipython3",
   "version": "3.7.1"
  }
 },
 "nbformat": 4,
 "nbformat_minor": 2
}
