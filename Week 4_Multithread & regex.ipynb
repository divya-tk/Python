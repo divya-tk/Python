{
 "cells": [
  {
   "cell_type": "code",
   "execution_count": 20,
   "metadata": {},
   "outputs": [
    {
     "name": "stdout",
     "output_type": "stream",
     "text": [
      "1552193179.2321293\n",
      "1\n",
      "2\n",
      "3\n",
      "4\n",
      "5\n",
      "6\n",
      "7\n",
      "8\n",
      "9\n",
      "10\n",
      "11\n",
      "12\n",
      "13\n",
      "14\n",
      "15\n",
      "16\n",
      "17\n",
      "18\n",
      "19\n",
      "hello\n"
     ]
    }
   ],
   "source": [
    "from threading import *\n",
    "import time\n",
    "\n",
    "class Process1(Thread):\n",
    "    def run(self):\n",
    "        list1=[]\n",
    "        for i in range(1,20):\n",
    "            if i/2==0:\n",
    "                print(i)\n",
    "                time.sleep(0.2)\n",
    "                \n",
    "class Process2(Thread):\n",
    "    def run(self):\n",
    "        list2=[]\n",
    "        for i in range(1,20):\n",
    "            if i/2 !=0:\n",
    "                print(i)\n",
    "                time.sleep(0.2)\n",
    "\n",
    "print(time.time()) \n",
    "\n",
    "one=Process1()\n",
    "one.start()\n",
    "\n",
    "two=Process2()\n",
    "two.start()\n",
    "\n",
    "one.join()\n",
    "two.join()\n",
    "\n",
    "print(\"hello\")\n",
    "    "
   ]
  },
  {
   "cell_type": "code",
   "execution_count": 22,
   "metadata": {},
   "outputs": [
    {
     "data": {
      "text/plain": [
       "re.compile(r'Not python core', re.UNICODE)"
      ]
     },
     "execution_count": 22,
     "metadata": {},
     "output_type": "execute_result"
    }
   ],
   "source": [
    "import re\n",
    "pattern=re.compile(\"Not python core\")\n",
    "type(pattern)\n",
    "pattern"
   ]
  },
  {
   "cell_type": "code",
   "execution_count": 27,
   "metadata": {},
   "outputs": [
    {
     "name": "stdout",
     "output_type": "stream",
     "text": [
      "['licence', 'license', 'license']\n",
      "I ws drvng wtht lcnc. plc skd m lcns. I sd  frgt my lcns\n"
     ]
    }
   ],
   "source": [
    "import re\n",
    "\n",
    "txt=\"\"\"I was driving without licence. police asked me license. I said i forget my license\"\"\"\n",
    "pattern=re.compile(\"licen[cs]e\")\n",
    "print(pattern.findall(txt))\n",
    "pattern=re.compile(\"[^aeiou]\")\n",
    "print(\"\".join(pattern.findall(txt)))  \n"
   ]
  },
  {
   "cell_type": "code",
   "execution_count": 46,
   "metadata": {},
   "outputs": [
    {
     "name": "stdout",
     "output_type": "stream",
     "text": [
      "3.7.21)2)3)4)5)6)7)8)9)10)\n"
     ]
    }
   ],
   "source": [
    "with open(\"D:\\\\Data Science\\\\DS.txt\",mode='r',encoding=\"utf-8\") as f:        \n",
    "    for l in f:\n",
    "        #print(l)\n",
    "        pattern=re.compile('[^a-z A-Z]*')  # remove alphabets and whitespace\n",
    "        a=pattern.findall(l)\n",
    "        output=\"\".join(a)\n",
    "        print(output)\n",
    "    f.close()    \n",
    "    \n"
   ]
  },
  {
   "cell_type": "code",
   "execution_count": 47,
   "metadata": {},
   "outputs": [
    {
     "name": "stdout",
     "output_type": "stream",
     "text": [
      "DB opened\n"
     ]
    }
   ],
   "source": [
    "import sqlite3\n",
    "\n",
    "con = sqlite3.connect('emp.db')  #Create DB . this file will work as  \n",
    "print(\"DB opened\")\n"
   ]
  },
  {
   "cell_type": "code",
   "execution_count": 76,
   "metadata": {},
   "outputs": [
    {
     "name": "stdout",
     "output_type": "stream",
     "text": [
      "Table created\n",
      "Close the connection\n"
     ]
    }
   ],
   "source": [
    "con.execute(\"\"\"create table emp(firstName,lastName,pay)\"\"\")\n",
    "print(\"Table created\")\n",
    "con.execute(\"Insert into emp values('divya','T.K',50000)\")\n",
    "con.execute(\"Insert into emp values('naresh','Muthu',500000)\") \n",
    "con.commit()\n",
    "print(\"Close the connection\")"
   ]
  },
  {
   "cell_type": "code",
   "execution_count": 82,
   "metadata": {},
   "outputs": [
    {
     "name": "stdout",
     "output_type": "stream",
     "text": [
      "first name:  divya\n",
      "last name:  T.K\n",
      "pay:  50000 \n",
      "\n",
      "first name:  naresh\n",
      "last name:  Muthu\n",
      "pay:  500000 \n",
      "\n"
     ]
    }
   ],
   "source": [
    "con=sqlite3.connect('emp.db')\n",
    "\n",
    "def fetchValueFromDB(con):\n",
    "    cursor = con.execute(\"SELECT *FROM emp\")\n",
    "    for row in cursor:\n",
    "        print(\"first name: \",row[0])\n",
    "        print(\"last name: \",row[1])\n",
    "        print(\"pay: \",row[2], '\\n')\n",
    "        \n",
    "fetchValueFromDB(con)        "
   ]
  },
  {
   "cell_type": "code",
   "execution_count": 79,
   "metadata": {},
   "outputs": [
    {
     "data": {
      "text/html": [
       "<div>\n",
       "<style scoped>\n",
       "    .dataframe tbody tr th:only-of-type {\n",
       "        vertical-align: middle;\n",
       "    }\n",
       "\n",
       "    .dataframe tbody tr th {\n",
       "        vertical-align: top;\n",
       "    }\n",
       "\n",
       "    .dataframe thead th {\n",
       "        text-align: right;\n",
       "    }\n",
       "</style>\n",
       "<table border=\"1\" class=\"dataframe\">\n",
       "  <thead>\n",
       "    <tr style=\"text-align: right;\">\n",
       "      <th></th>\n",
       "      <th>firstName</th>\n",
       "      <th>lastName</th>\n",
       "      <th>pay</th>\n",
       "    </tr>\n",
       "  </thead>\n",
       "  <tbody>\n",
       "    <tr>\n",
       "      <th>0</th>\n",
       "      <td>divya</td>\n",
       "      <td>T.K</td>\n",
       "      <td>50000</td>\n",
       "    </tr>\n",
       "    <tr>\n",
       "      <th>1</th>\n",
       "      <td>naresh</td>\n",
       "      <td>Muthu</td>\n",
       "      <td>500000</td>\n",
       "    </tr>\n",
       "  </tbody>\n",
       "</table>\n",
       "</div>"
      ],
      "text/plain": [
       "  firstName lastName     pay\n",
       "0     divya      T.K   50000\n",
       "1    naresh    Muthu  500000"
      ]
     },
     "execution_count": 79,
     "metadata": {},
     "output_type": "execute_result"
    }
   ],
   "source": [
    "import pandas as pd\n",
    "import sqlite3 as sql\n",
    "\n",
    "connection=sql.connect('emp.db')\n",
    "\n",
    "query=\"SELECT * FROM emp\"\n",
    "\n",
    "dr=pd.read_sql_query(query,connection)\n",
    "dr.head()"
   ]
  },
  {
   "cell_type": "code",
   "execution_count": 83,
   "metadata": {},
   "outputs": [
    {
     "ename": "SyntaxError",
     "evalue": "EOL while scanning string literal (<ipython-input-83-6790e34bd6e3>, line 14)",
     "output_type": "error",
     "traceback": [
      "\u001b[1;36m  File \u001b[1;32m\"<ipython-input-83-6790e34bd6e3>\"\u001b[1;36m, line \u001b[1;32m14\u001b[0m\n\u001b[1;33m    con.execute(\"Insert into notepad values(\\' \"+ output + \" \\')\u001b[0m\n\u001b[1;37m                                                                ^\u001b[0m\n\u001b[1;31mSyntaxError\u001b[0m\u001b[1;31m:\u001b[0m EOL while scanning string literal\n"
     ]
    }
   ],
   "source": [
    "# Write a program to display the output of notepad as a table\n",
    "\n",
    "import sqlite3\n",
    "\n",
    "con = sqlite3.connect('notepad.db') \n",
    "\n",
    "with open(\"D:\\\\Data Science\\\\DS.txt\",mode='r',encoding=\"utf-8\") as f:        \n",
    "    for l in f:\n",
    "        #print(l)\n",
    "        pattern=re.compile('[^a-z A-Z]*')  # remove alphabets and whitespace\n",
    "        a=pattern.findall(l)\n",
    "        output=\"\".join(a)\n",
    "        print(output)\n",
    "        con.execute(\"Insert into notepad values(\\' \"+ output + \" \\')\n",
    "    f.close()    \n"
   ]
  },
  {
   "cell_type": "code",
   "execution_count": null,
   "metadata": {},
   "outputs": [],
   "source": []
  }
 ],
 "metadata": {
  "kernelspec": {
   "display_name": "Python 3",
   "language": "python",
   "name": "python3"
  },
  "language_info": {
   "codemirror_mode": {
    "name": "ipython",
    "version": 3
   },
   "file_extension": ".py",
   "mimetype": "text/x-python",
   "name": "python",
   "nbconvert_exporter": "python",
   "pygments_lexer": "ipython3",
   "version": "3.7.1"
  }
 },
 "nbformat": 4,
 "nbformat_minor": 2
}
