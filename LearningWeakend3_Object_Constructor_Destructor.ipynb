{
 "cells": [
  {
   "cell_type": "code",
   "execution_count": 7,
   "metadata": {},
   "outputs": [
    {
     "name": "stdout",
     "output_type": "stream",
     "text": [
      "First Function\n",
      "bhanu\n",
      "<class '__main__.learnClass'>\n",
      "<__main__.learnClass object at 0x000001BC52992E80>\n"
     ]
    }
   ],
   "source": [
    "# Basic class in python\n",
    "class learnClass:\n",
    "    \n",
    "    variable = 'bhanu'\n",
    "    \n",
    "    def firstFuntion(self):\n",
    "        print (\"First Function\")\n",
    "        \n",
    "callClass = learnClass()\n",
    "callClass.firstFuntion()\n",
    "print (callClass.variable)\n",
    "print (type(callClass))\n",
    "print(callClass)"
   ]
  },
  {
   "cell_type": "code",
   "execution_count": 8,
   "metadata": {},
   "outputs": [
    {
     "name": "stdout",
     "output_type": "stream",
     "text": [
      "Bhanu\n",
      "Muthu Bhanu\n",
      "Bhanu\n"
     ]
    }
   ],
   "source": [
    "#Accessing variables\n",
    "class learnClass1:\n",
    "    \n",
    "    variable = 'Bhanu'\n",
    "    \n",
    "    def firstFunction(self):\n",
    "        print (\"First method\")\n",
    "        \n",
    "callClass = learnClass1()\n",
    "callSameClass = learnClass1()\n",
    "\n",
    "print (callClass.variable)\n",
    "callClass.variable = 'Muthu Bhanu'\n",
    "print (callClass.variable)\n",
    "print (callSameClass.variable)"
   ]
  },
  {
   "cell_type": "code",
   "execution_count": 13,
   "metadata": {},
   "outputs": [
    {
     "name": "stdout",
     "output_type": "stream",
     "text": [
      "First function 20\n"
     ]
    }
   ],
   "source": [
    "# Accessing Methods\n",
    "class learnClass2:\n",
    "    \n",
    "    variable = 'Bhanu'\n",
    "    \n",
    "    def firstFunction(self, a):\n",
    "        print (\"First function\", a)\n",
    "\n",
    "callClass = learnClass2()\n",
    "callClass.firstFunction(\"20\")"
   ]
  },
  {
   "cell_type": "code",
   "execution_count": 22,
   "metadata": {},
   "outputs": [
    {
     "name": "stdout",
     "output_type": "stream",
     "text": [
      "red\n",
      "BMW\n",
      "14000000\n",
      "blue\n",
      "JAGUAR\n",
      "11100000\n"
     ]
    }
   ],
   "source": [
    "# We have a class for vehicles\n",
    "# 1. Create two new vehicles called car1 and car2\n",
    "# 2. Set car1 to be blue convertible worth 14000000 with a name of BMW\n",
    "# 3. Set car2 to be a red van named JAGUAR worth 11100000\n",
    "\n",
    "class Vehicle:\n",
    "    \n",
    "    color = ''\n",
    "    brand = ''\n",
    "    cost = 0\n",
    "   \n",
    "    def printdetails (self):\n",
    "        print (self.color)\n",
    "        print (self.brand)\n",
    "        print (self.cost)\n",
    "        \n",
    "car1 = Vehicle()\n",
    "car1.color = 'red'\n",
    "car1.brand = 'BMW'\n",
    "car1.cost = 14000000\n",
    "car1.printdetails()\n",
    "\n",
    "car2 = Vehicle()\n",
    "car2.color = 'blue'\n",
    "car2.brand = 'JAGUAR'\n",
    "car2.cost = 11100000\n",
    "car2.printdetails()"
   ]
  },
  {
   "cell_type": "code",
   "execution_count": 27,
   "metadata": {},
   "outputs": [
    {
     "name": "stdout",
     "output_type": "stream",
     "text": [
      "red BMW 14000000\n",
      "blue JAGUAR 11100000\n"
     ]
    }
   ],
   "source": [
    "#Write the above again\n",
    "\n",
    "class Vehicle1:\n",
    "    \n",
    "    name = ''\n",
    "    color = ''\n",
    "    rate = 0\n",
    "    \n",
    "    def assignvariables(self, n, c, r):\n",
    "        self.name = n\n",
    "        self.color = c\n",
    "        self.rate = r\n",
    "        \n",
    "    def printvariables(self):\n",
    "        print(self.name, self.color, self.rate)\n",
    "        \n",
    "car1 = Vehicle1()\n",
    "car1.assignvariables('red' , 'BMW' , 14000000)\n",
    "car1.printvariables()\n",
    "\n",
    "car2 = Vehicle1()\n",
    "car2.assignvariables('blue', 'JAGUAR',11100000 )\n",
    "car2.printvariables()"
   ]
  },
  {
   "cell_type": "code",
   "execution_count": 35,
   "metadata": {},
   "outputs": [
    {
     "name": "stdout",
     "output_type": "stream",
     "text": [
      "Rs.7200\n",
      "Rs.8100\n",
      "Rs.8900\n",
      "Invalid input\n"
     ]
    }
   ],
   "source": [
    "# Write a code to convert currency from USdollar 72 , euro 81, uk 89 to india\n",
    "class currencyConvertor:\n",
    "    \n",
    "    rupee = 0\n",
    "    fromCountry = ''\n",
    "    \n",
    "    def convertor(self, amount, fromCountry):\n",
    "        if fromCountry == 'USD':\n",
    "            print (\"Rs.\", end ='')\n",
    "            print (amount * 72)\n",
    "        elif fromCountry == 'EURO':\n",
    "            print (\"Rs.\", end ='')\n",
    "            print (amount * 81)\n",
    "        elif fromCountry == 'UK':\n",
    "            print (\"Rs.\", end ='')\n",
    "            print (amount * 89)\n",
    "        else:\n",
    "            print (\"Invalid input\")\n",
    "\n",
    "scn1 = currencyConvertor()\n",
    "scn2 = currencyConvertor()\n",
    "scn3 = currencyConvertor()\n",
    "scn4 = currencyConvertor()\n",
    "scn1.convertor(100,'USD')\n",
    "scn2.convertor(100,'EURO')\n",
    "scn3.convertor(100,'UK')\n",
    "scn4.convertor(100,'invalid')"
   ]
  },
  {
   "cell_type": "code",
   "execution_count": 40,
   "metadata": {},
   "outputs": [
    {
     "name": "stdout",
     "output_type": "stream",
     "text": [
      "7200\n"
     ]
    }
   ],
   "source": [
    "class currencies:\n",
    "    \n",
    "    money = 0\n",
    "    dollar = 0\n",
    "    country = ''\n",
    "    \n",
    "    def assignvariables(self, amount, countr):\n",
    "        self.money = amount\n",
    "        self.country = countr\n",
    "        \n",
    "    def converting(self):\n",
    "        if self.country == 'US':\n",
    "            self.dollar = self.money * 72\n",
    "            print (self.dollar)\n",
    "\n",
    "def callFunction():\n",
    "    cur1 = currencies()\n",
    "    cur1.assignvariables(100,'US')\n",
    "    cur1.converting()\n",
    "\n",
    "    \n",
    "callFunction()"
   ]
  },
  {
   "cell_type": "code",
   "execution_count": 6,
   "metadata": {},
   "outputs": [
    {
     "name": "stdout",
     "output_type": "stream",
     "text": [
      "100\n",
      "90\n",
      "95\n",
      "95.0\n"
     ]
    }
   ],
   "source": [
    "# add the marks of a student in a list using class and constructor\n",
    "# use a method that return average of the marks\n",
    "\n",
    "class studentMarks:\n",
    "    \n",
    "    def __init__(self,name):\n",
    "        self.name = name\n",
    "        self.marks = []\n",
    "    \n",
    "    def addmarks(self, mark):\n",
    "        self.marks.append(mark)\n",
    "        \n",
    "    def printMarks(self):\n",
    "        for mark in self.marks:\n",
    "            print (mark)\n",
    "    \n",
    "    def average(self):\n",
    "        return sum(self.marks)/len(self.marks)\n",
    "            \n",
    "mark1 = studentMarks(\"Bhanu\")\n",
    "mark1.addmarks(100)\n",
    "mark1.addmarks(90)\n",
    "mark1.addmarks(95)\n",
    "mark1.printMarks()\n",
    "print(mark1.average())\n"
   ]
  },
  {
   "cell_type": "code",
   "execution_count": 13,
   "metadata": {},
   "outputs": [
    {
     "name": "stdout",
     "output_type": "stream",
     "text": [
      "10\n",
      "('a', 1)\n",
      "('b', 2)\n",
      "('c', 3)\n"
     ]
    }
   ],
   "source": [
    "# * args is the argument for function - which allows many arguments (it s a tuple) for a function at runtime\n",
    "# **kwargs to pass dictionary - doulle quotes not needed for key side, automatically considers as string\n",
    "\n",
    "def sumOfNumber(*args):\n",
    "    sum = 0\n",
    "    for a in args:\n",
    "        sum = sum + a\n",
    "    print (sum)\n",
    "        \n",
    "def printingDict(**kwargs):\n",
    "    for var in kwargs.items():\n",
    "        print (var)\n",
    "        \n",
    "sumOfNumber(4,3,2,1)\n",
    "printingDict(a = 1, b = 2, c = 3)\n",
    "        "
   ]
  },
  {
   "cell_type": "code",
   "execution_count": 15,
   "metadata": {},
   "outputs": [
    {
     "name": "stdout",
     "output_type": "stream",
     "text": [
      "Enter the string:bhanu\n",
      "BHANU\n"
     ]
    }
   ],
   "source": [
    "# Write a program that converts lower case to upper case\n",
    "class upperCaseConvertor:\n",
    "    \n",
    "    def __init__(self):\n",
    "        self.str1 = ''\n",
    "    \n",
    "    def getString(self):\n",
    "        self.str1 = input(\"Enter the string:\")\n",
    "    \n",
    "    def printUpperString(self):\n",
    "        print (self.str1.upper())\n",
    "\n",
    "def callFunction():\n",
    "    ucc = upperCaseConvertor()\n",
    "    ucc.getString()\n",
    "    ucc.printUpperString()\n",
    "    \n",
    "callFunction()\n",
    "        \n",
    "    "
   ]
  },
  {
   "cell_type": "code",
   "execution_count": 32,
   "metadata": {},
   "outputs": [
    {
     "name": "stdout",
     "output_type": "stream",
     "text": [
      "Enter the value of D seperated by commas: 8,9,6,7,4,5\n",
      "[5, 5, 4, 4, 3, 4]\n"
     ]
    }
   ],
   "source": [
    "# Write a program that takes input from a list, does the calculation and outputs a list\n",
    "class formulaCalculation:\n",
    "    \n",
    "    def __init__(self, D):\n",
    "        self.C = 50\n",
    "        self.D = D\n",
    "        self.H = 30\n",
    "    \n",
    "    def printOutput(self):\n",
    "        return int(pow(((2 * self.C * self.D) / self.H),0.5))\n",
    "        \n",
    "values = input(\"Enter the value of D seperated by commas: \").split(',')\n",
    "outputvalues = []\n",
    "for value in values:\n",
    "    f1 = formulaCalculation(int(value))\n",
    "    outputvalues.append(f1.printOutput())\n",
    "    \n",
    "print(outputvalues)"
   ]
  },
  {
   "cell_type": "code",
   "execution_count": 67,
   "metadata": {},
   "outputs": [
    {
     "name": "stdout",
     "output_type": "stream",
     "text": [
      "Enter the numbers seperated by comma:100,400\n",
      "[200, 202, 204, 206, 208, 220, 222, 224, 226, 228, 240, 242, 244, 246, 248, 260, 262, 264, 266, 268, 280, 282, 284, 286, 288, 400]\n"
     ]
    }
   ],
   "source": [
    "# Write a program to print the numbers with only even digits\n",
    "\n",
    "class evenDigitNumbers:\n",
    "    \n",
    "    def __init__(self, a, b):\n",
    "        self.a = a\n",
    "        self.b = b\n",
    "        self.outputString = []\n",
    "        \n",
    "    def identifyEvenDigits(self):\n",
    "        for i in range(self.a, self.b + 1):\n",
    "            flag = 'true'\n",
    "            j = i\n",
    "            while (i != 0):\n",
    "                digit = i % 10\n",
    "                if digit % 2 == 0:\n",
    "                    i = i // 10\n",
    "                else:\n",
    "                    flag = 'false'\n",
    "                    break\n",
    "            if flag == 'true':\n",
    "                self.outputString.append(j)\n",
    "                \n",
    "    def printOutput(self):\n",
    "        print (self.outputString)\n",
    "                \n",
    "inputString = input(\"Enter the numbers seperated by comma:\").split(',')           \n",
    "edn = evenDigitNumbers(int(inputString[0]),int(inputString[1]))\n",
    "edn.identifyEvenDigits()\n",
    "edn.printOutput()\n",
    "            "
   ]
  },
  {
   "cell_type": "code",
   "execution_count": 62,
   "metadata": {},
   "outputs": [
    {
     "name": "stdout",
     "output_type": "stream",
     "text": [
      "Enter the string:djs232\n",
      "Count of Letters: 3\n",
      "Count of Digits: 3\n"
     ]
    }
   ],
   "source": [
    "#Write a program to count the number of letters and digits\n",
    "\n",
    "class countLettersDigits:\n",
    "    \n",
    "    def __init__(self,inputString):\n",
    "        self.inputString = inputString\n",
    "        self.lettersCount = 0\n",
    "        self.digitsCount = 0\n",
    "        \n",
    "    def countLettersDigits(self):\n",
    "        for i in self.inputString:\n",
    "            if ((ord(i) >= 65) & (ord(i) <= 90)) or ((ord(i) >= 97) & (ord(i) <= 122)):\n",
    "                self.lettersCount += 1\n",
    "            elif ((ord(i) >= 48) & (ord(i) <= 57)):\n",
    "                self.digitsCount += 1\n",
    "                \n",
    "    def printOutput(self):\n",
    "        print (\"Count of Letters:\", self.lettersCount)\n",
    "        print (\"Count of Digits:\", self.digitsCount)\n",
    "\n",
    "cld = countLettersDigits(input('Enter the string:'))\n",
    "cld.countLettersDigits()\n",
    "cld.printOutput()"
   ]
  },
  {
   "cell_type": "code",
   "execution_count": null,
   "metadata": {},
   "outputs": [],
   "source": []
  }
 ],
 "metadata": {
  "kernelspec": {
   "display_name": "Python 3",
   "language": "python",
   "name": "python3"
  },
  "language_info": {
   "codemirror_mode": {
    "name": "ipython",
    "version": 3
   },
   "file_extension": ".py",
   "mimetype": "text/x-python",
   "name": "python",
   "nbconvert_exporter": "python",
   "pygments_lexer": "ipython3",
   "version": "3.7.1"
  }
 },
 "nbformat": 4,
 "nbformat_minor": 2
}
