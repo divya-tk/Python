{
 "cells": [
  {
   "cell_type": "code",
   "execution_count": 8,
   "metadata": {},
   "outputs": [
    {
     "name": "stdout",
     "output_type": "stream",
     "text": [
      "apple\n",
      "asus\n",
      "acer\n"
     ]
    }
   ],
   "source": [
    "#Print the values starts with a\n",
    "val=[\"dell\",\"HP\",\"Lenovo\",\"apple\",\"asus\",\"Lenovo\",\"acer\"]\n",
    "for i in range(0,len(val)):\n",
    "    \n",
    "    \n",
    "    if val[i].startswith(\"a\"):\n",
    "           print(val[i])\n",
    "    \n",
    "\n"
   ]
  },
  {
   "cell_type": "raw",
   "metadata": {},
   "source": []
  },
  {
   "cell_type": "code",
   "execution_count": 5,
   "metadata": {},
   "outputs": [
    {
     "name": "stdout",
     "output_type": "stream",
     "text": [
      "[1, 2, 3, 4, 5, 6, 7, 8, 9, 10]\n",
      "[1, 3, 4, 5, 6, 7, 8, 9, 10]\n"
     ]
    }
   ],
   "source": [
    "#Fetch each item from list 2 and append it with list 1\n",
    "lst=[1,2,3,4,5]\n",
    "lst1=[6,7,8,9,10]\n",
    "#lst1=['muthu','divya','naresh']\n",
    "#result=lst+lst1\n",
    "lst.extend(lst1)\n",
    "print(lst)\n",
    "lst.remove(2)\n",
    "print(lst)\n",
    "\n"
   ]
  },
  {
   "cell_type": "code",
   "execution_count": 3,
   "metadata": {},
   "outputs": [
    {
     "name": "stdout",
     "output_type": "stream",
     "text": [
      "['dell', 'HP', 'apple', 'asus', 'acer', 'dell']\n"
     ]
    }
   ],
   "source": [
    "#delete values starts with a (Use Count)\n",
    "\n",
    "val=[\"dell\",\"HP\",\"Lenovo\",\"apple\",\"asus\",\"Lenovo\",\"acer\",\"dell\",\"Lenovo\"]\n",
    "ToBeRemoved=\"Lenovo\"\n",
    "count=0\n",
    "for i in range(0,len(val)):\n",
    "    if val[i]==ToBeRemoved:\n",
    "        count=count+1\n",
    "        \n",
    "for j in range(0,count):\n",
    "    val.remove(ToBeRemoved)\n",
    "print(val)"
   ]
  },
  {
   "cell_type": "code",
   "execution_count": 1,
   "metadata": {},
   "outputs": [
    {
     "name": "stdout",
     "output_type": "stream",
     "text": [
      "['Lenovo', 'dell', 'acer', 'Lenovo', 'asus', 'apple', 'Lenovo', 'HP', 'dell']\n",
      "[5, 4, 3, 2, 1]\n"
     ]
    },
    {
     "data": {
      "text/plain": [
       "9"
      ]
     },
     "execution_count": 1,
     "metadata": {},
     "output_type": "execute_result"
    }
   ],
   "source": [
    "#Reverse items in list without using inbuilt reverse function\n",
    "val=[\"dell\",\"HP\",\"Lenovo\",\"apple\",\"asus\",\"Lenovo\",\"acer\",\"dell\",\"Lenovo\"]\n",
    "\n",
    "output=val[::-1]\n",
    "print(output )\n",
    "\n",
    "data=[1,2,3 ,4,5]\n",
    "ReverseOutput=data[::-1]\n",
    "print(ReverseOutput)\n",
    "len(val)"
   ]
  },
  {
   "cell_type": "code",
   "execution_count": 25,
   "metadata": {},
   "outputs": [
    {
     "name": "stdout",
     "output_type": "stream",
     "text": [
      "33\n",
      "5.5\n"
     ]
    }
   ],
   "source": [
    "#Sum all the numbers in the list & average\n",
    "val=[3,4,5,6,7,8]\n",
    "x=0\n",
    "for i in range(0,len(val)):\n",
    "    x += val[i]\n",
    "print(x)\n",
    "    \n",
    "average= x/len(val)\n",
    "print(average)\n",
    "\n",
    "    \n",
    "    \n"
   ]
  },
  {
   "cell_type": "code",
   "execution_count": 2,
   "metadata": {},
   "outputs": [
    {
     "name": "stdout",
     "output_type": "stream",
     "text": [
      "15\n"
     ]
    }
   ],
   "source": [
    "lst=[\"apple\",\"banana\"]\n",
    "lst1=[1,2,3,4,5]\n",
    "print(sum(lst1))\n",
    "#print(cmp(lst[0],lst1[0]))"
   ]
  },
  {
   "cell_type": "code",
   "execution_count": 35,
   "metadata": {},
   "outputs": [
    {
     "name": "stdout",
     "output_type": "stream",
     "text": [
      "8\n"
     ]
    }
   ],
   "source": [
    "#mode of an array\n",
    "numbers=[2,4,4,8,8,8,8,6,6,6,8,6,6,8,8,8,8]\n",
    "maxcount=0\n",
    "count=0\n",
    "for i in range(0,len(numbers)):\n",
    "    count=0\n",
    "    for j in range(0,len(numbers)): \n",
    "        if numbers[i]==numbers[j]:\n",
    "            count+=1\n",
    "    if count >  maxcount:\n",
    "        maxcount=count\n",
    "        mode=numbers[i]\n",
    "      \n",
    "print(mode)        \n",
    "        \n",
    "        \n",
    "        \n",
    "        "
   ]
  },
  {
   "cell_type": "code",
   "execution_count": 26,
   "metadata": {},
   "outputs": [
    {
     "name": "stdout",
     "output_type": "stream",
     "text": [
      "Median is 42.0\n"
     ]
    }
   ],
   "source": [
    "#Median of an array\n",
    "Val=[58,26,71,86,9,16]\n",
    "Val.sort()\n",
    "count=len(Val)\n",
    "if count%2==0:\n",
    "    middle=int(count/2)\n",
    "    print(\"Median is\",(Val[middle-1]+Val[middle])/2)\n",
    "else:\n",
    "    middle1=int(count/2)\n",
    "    print(\"Median is\",Val[middle1])\n",
    "         "
   ]
  },
  {
   "cell_type": "markdown",
   "metadata": {},
   "source": []
  }
 ],
 "metadata": {
  "kernelspec": {
   "display_name": "Python 3",
   "language": "python",
   "name": "python3"
  },
  "language_info": {
   "codemirror_mode": {
    "name": "ipython",
    "version": 3
   },
   "file_extension": ".py",
   "mimetype": "text/x-python",
   "name": "python",
   "nbconvert_exporter": "python",
   "pygments_lexer": "ipython3",
   "version": "3.7.1"
  }
 },
 "nbformat": 4,
 "nbformat_minor": 2
}
