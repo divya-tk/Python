{
 "cells": [
  {
   "cell_type": "code",
   "execution_count": 29,
   "metadata": {},
   "outputs": [
    {
     "name": "stdout",
     "output_type": "stream",
     "text": [
      "<class 'tuple'>\n",
      "<class 'tuple'>\n",
      "<class 'tuple'>\n",
      "<class 'tuple'>\n"
     ]
    }
   ],
   "source": [
    "mobile = ('LG','apple')\n",
    "print (type(mobile))\n",
    "mobile1 = ('LG',)\n",
    "print (type(mobile1))\n",
    "mobile2 = 'LG','apple'\n",
    "print (type(mobile2))\n",
    "mobile3 = ()\n",
    "print(type(mobile3))"
   ]
  },
  {
   "cell_type": "code",
   "execution_count": 11,
   "metadata": {},
   "outputs": [
    {
     "name": "stdout",
     "output_type": "stream",
     "text": [
      "('LG', 'apple', 1, 2, 3)\n"
     ]
    }
   ],
   "source": [
    "mobile = ('LG','apple')\n",
    "number = 1,2,3\n",
    "order = mobile + number\n",
    "print (order)\n",
    "del order\n",
    "#print (order)"
   ]
  },
  {
   "cell_type": "code",
   "execution_count": 23,
   "metadata": {},
   "outputs": [
    {
     "name": "stdout",
     "output_type": "stream",
     "text": [
      "('LG', 'LG', 'apple', 1, 2, 3)\n",
      "(3, 2, 1, 'apple', 'LG', 'LG')\n",
      "(2, 1, 'apple')\n",
      "2\n",
      "3\n"
     ]
    }
   ],
   "source": [
    "order = ('LG', 'LG', 'apple', 1, 2, 3)\n",
    "print (order[::])\n",
    "print (order[::-1])\n",
    "print (order[4:1:-1])\n",
    "print (order.count('LG'))\n",
    "print (order.index(1))"
   ]
  },
  {
   "cell_type": "code",
   "execution_count": 5,
   "metadata": {},
   "outputs": [
    {
     "name": "stdout",
     "output_type": "stream",
     "text": [
      "(1, 2, 3, 4, 5, 6)\n",
      "(7, 8, 9, 10, 11, 12)\n"
     ]
    }
   ],
   "source": [
    "# program to print the first half values in one line and second half in second line\n",
    "\n",
    "tuplenumber = (1, 2, 3, 4, 5, 6, 7, 8, 9, 10, 11, 12)\n",
    "i = int(len(tuplenumber)/2)\n",
    "print (tuplenumber[:i:])\n",
    "print (tuplenumber[i::])"
   ]
  },
  {
   "cell_type": "code",
   "execution_count": null,
   "metadata": {},
   "outputs": [],
   "source": []
  }
 ],
 "metadata": {
  "kernelspec": {
   "display_name": "Python 3",
   "language": "python",
   "name": "python3"
  },
  "language_info": {
   "codemirror_mode": {
    "name": "ipython",
    "version": 3
   },
   "file_extension": ".py",
   "mimetype": "text/x-python",
   "name": "python",
   "nbconvert_exporter": "python",
   "pygments_lexer": "ipython3",
   "version": "3.7.1"
  }
 },
 "nbformat": 4,
 "nbformat_minor": 2
}
