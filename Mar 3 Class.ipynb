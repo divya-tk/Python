{
 "cells": [
  {
   "cell_type": "code",
   "execution_count": 16,
   "metadata": {},
   "outputs": [
    {
     "name": "stdout",
     "output_type": "stream",
     "text": [
      "[(4, 'good', 8), (5, 'best', 9)]\n",
      "<bound method Book.__repr__ of (1, 'python', 'Guido van', [(4, 'good', 8), (5, 'best', 9)])>\n"
     ]
    }
   ],
   "source": [
    "class Book(object):   #Object will get the output from class Review which will get added to add_reviews method inside class Book\n",
    "    def __init__(self,id,name,author):\n",
    "        self.id=id\n",
    "        self.name=name\n",
    "        self.author=author\n",
    "        self.reviews=[]\n",
    "    def __repr__(self):        #repr(): evaluatable string representation of object \n",
    "        return repr((self.id,self.name,self.author,self.reviews))\n",
    "    def add_reviews(self,review):\n",
    "        self.reviews.append(review)\n",
    "        \n",
    "class Review:\n",
    "\n",
    "    def __init__(self,id,desc,rating):\n",
    "        self.id=id\n",
    "        self.desc=desc\n",
    "        self.rating=rating\n",
    "    def __repr__(self) :\n",
    "        return repr((self.id,self.desc,self.rating))  #if repr is not given then __repr__returned non-string(type tuple) error\n",
    " \n",
    "book=Book(1,\"python\",\"Guido van\")\n",
    "book.add_reviews(Review(4,'good',8))  #Passing class Review as argument\n",
    "book.add_reviews(Review(5,'best',9))  #As reviews is made as list giving more than 1 value \n",
    "print(book.reviews)\n",
    "print(book.__repr__)\n",
    "\n",
    "\n",
    "    \n",
    "        \n",
    "    "
   ]
  },
  {
   "cell_type": "code",
   "execution_count": null,
   "metadata": {},
   "outputs": [],
   "source": [
    "\n",
    "\n",
    "class student(object):\n",
    "    def ___init__(self,name,marks):\n",
    "        self.name=name\n",
    "        self.marks=[]      \n",
    "        \n",
    "    def __repr__(self):\n",
    "        return repr((self.name,self.marks))\n",
    "    \n",
    "    \n",
    "    def addMarks(self,eachmark):\n",
    "        self.marks.append(eachmark)\n",
    "     \n",
    "    def length(self,marks):\n",
    "        print(len(marks)) \n",
    "        \n",
    "    def max(self):\n",
    "        print(max(marks))\n",
    "        \n",
    "    def min(self):\n",
    "        print(min(marks))\n",
    "        \n",
    "    def     \n",
    "        \n",
    "        \n",
    "        \n",
    "    \n",
    "           \n",
    "          "
   ]
  },
  {
   "cell_type": "code",
   "execution_count": 20,
   "metadata": {},
   "outputs": [
    {
     "name": "stdout",
     "output_type": "stream",
     "text": [
      "Naru 10 6th\n",
      "None\n",
      "55\n"
     ]
    }
   ],
   "source": [
    "class studentDetails:\n",
    "    def __init__(self,name,age,std):\n",
    "        self.name=name\n",
    "        self.age=age\n",
    "        self.std=std\n",
    "        \n",
    "    def infoStudent(self):\n",
    "        print(self.name,self.age,self.std)\n",
    "        \n",
    "        \n",
    "class marksDetails:\n",
    "    def __init__(self,marks):\n",
    "        self.marks=marks\n",
    "        self.details=studentDetails(\"Naru\",10,\"6th\")\n",
    "    def sumofmarks(self):\n",
    "        return sum(self.marks)\n",
    "    \n",
    "x=marksDetails([10,20,25])    \n",
    "print(x.details.infoStudent())\n",
    "print(x.sumofmarks())\n"
   ]
  },
  {
   "cell_type": "code",
   "execution_count": 24,
   "metadata": {},
   "outputs": [],
   "source": [
    "f=open(\"D:\\\\divya.txt\",mode='w',encoding=\"utf-8\")\n",
    "\n",
    "f.write(\"Hello\")\n",
    "f.close()"
   ]
  },
  {
   "cell_type": "code",
   "execution_count": 25,
   "metadata": {},
   "outputs": [
    {
     "name": "stdout",
     "output_type": "stream",
     "text": [
      "File Created:  new_test_file_mar.txt\n",
      "Removed file:  new_test_file_mar.txt\n",
      "File doesn't exist : random_file_test.txt\n"
     ]
    }
   ],
   "source": [
    "import os\n",
    "def createFile(fileName):\n",
    "    f=open(fileName,'w')\n",
    "    f.write(\"Sample\")\n",
    "    print(\"File Created: \",fileName)\n",
    "def removeFile(file_name):\n",
    "    if os.path.exists(file_name):\n",
    "        os.remove(file_name)\n",
    "        print(\"Removed file: \",file_name)\n",
    "    else:\n",
    "        print(\"File doesn't exist :\",file_name)\n",
    "        \n",
    "file_name=\"new_test_file_mar.txt\"   \n",
    "createFile(file_name)\n",
    "removeFile(file_name)\n",
    "removeFile(\"random_file_test.txt\")"
   ]
  },
  {
   "cell_type": "code",
   "execution_count": 36,
   "metadata": {},
   "outputs": [
    {
     "name": "stdout",
     "output_type": "stream",
     "text": [
      "File Created:  D:\\Naresh.txt\n"
     ]
    },
    {
     "ename": "PermissionError",
     "evalue": "[WinError 32] The process cannot access the file because it is being used by another process: 'D:\\\\Naresh.txt'",
     "output_type": "error",
     "traceback": [
      "\u001b[1;31m---------------------------------------------------------------------------\u001b[0m",
      "\u001b[1;31mPermissionError\u001b[0m                           Traceback (most recent call last)",
      "\u001b[1;32m<ipython-input-36-01ac8012c4ce>\u001b[0m in \u001b[0;36m<module>\u001b[1;34m\u001b[0m\n\u001b[0;32m     13\u001b[0m \u001b[0mfile_name\u001b[0m\u001b[1;33m=\u001b[0m\u001b[1;34m\"D:\\\\Naresh.txt\"\u001b[0m\u001b[1;33m\u001b[0m\u001b[1;33m\u001b[0m\u001b[0m\n\u001b[0;32m     14\u001b[0m \u001b[0mcreateFile\u001b[0m\u001b[1;33m(\u001b[0m\u001b[0mfile_name\u001b[0m\u001b[1;33m)\u001b[0m\u001b[1;33m\u001b[0m\u001b[1;33m\u001b[0m\u001b[0m\n\u001b[1;32m---> 15\u001b[1;33m \u001b[0mremoveFile\u001b[0m\u001b[1;33m(\u001b[0m\u001b[0mfile_name\u001b[0m\u001b[1;33m)\u001b[0m\u001b[1;33m\u001b[0m\u001b[1;33m\u001b[0m\u001b[0m\n\u001b[0m\u001b[0;32m     16\u001b[0m \u001b[1;31m#removeFile(\"random_file_test.txt\")\u001b[0m\u001b[1;33m\u001b[0m\u001b[1;33m\u001b[0m\u001b[1;33m\u001b[0m\u001b[0m\n",
      "\u001b[1;32m<ipython-input-36-01ac8012c4ce>\u001b[0m in \u001b[0;36mremoveFile\u001b[1;34m(file_name)\u001b[0m\n\u001b[0;32m      6\u001b[0m \u001b[1;32mdef\u001b[0m \u001b[0mremoveFile\u001b[0m\u001b[1;33m(\u001b[0m\u001b[0mfile_name\u001b[0m\u001b[1;33m)\u001b[0m\u001b[1;33m:\u001b[0m\u001b[1;33m\u001b[0m\u001b[1;33m\u001b[0m\u001b[0m\n\u001b[0;32m      7\u001b[0m     \u001b[1;32mif\u001b[0m \u001b[0mos\u001b[0m\u001b[1;33m.\u001b[0m\u001b[0mpath\u001b[0m\u001b[1;33m.\u001b[0m\u001b[0mexists\u001b[0m\u001b[1;33m(\u001b[0m\u001b[1;34m\"D:\\\\Naresh.txt\"\u001b[0m\u001b[1;33m)\u001b[0m\u001b[1;33m:\u001b[0m\u001b[1;33m\u001b[0m\u001b[1;33m\u001b[0m\u001b[0m\n\u001b[1;32m----> 8\u001b[1;33m         \u001b[0mos\u001b[0m\u001b[1;33m.\u001b[0m\u001b[0mremove\u001b[0m\u001b[1;33m(\u001b[0m\u001b[0mfile_name\u001b[0m\u001b[1;33m)\u001b[0m\u001b[1;33m\u001b[0m\u001b[1;33m\u001b[0m\u001b[0m\n\u001b[0m\u001b[0;32m      9\u001b[0m         \u001b[0mprint\u001b[0m\u001b[1;33m(\u001b[0m\u001b[1;34m\"Removed file: \"\u001b[0m\u001b[1;33m,\u001b[0m\u001b[0mfile_name\u001b[0m\u001b[1;33m)\u001b[0m\u001b[1;33m\u001b[0m\u001b[1;33m\u001b[0m\u001b[0m\n\u001b[0;32m     10\u001b[0m     \u001b[1;32melse\u001b[0m\u001b[1;33m:\u001b[0m\u001b[1;33m\u001b[0m\u001b[1;33m\u001b[0m\u001b[0m\n",
      "\u001b[1;31mPermissionError\u001b[0m: [WinError 32] The process cannot access the file because it is being used by another process: 'D:\\\\Naresh.txt'"
     ]
    }
   ],
   "source": [
    "import os\n",
    "def createFile(file_name):\n",
    "    f=open(\"D:\\\\Naresh.txt\",'w')\n",
    "    f.write(\"Sample\")\n",
    "    print(\"File Created: \",file_name)\n",
    "def removeFile(file_name):\n",
    "    if os.path.exists(\"D:\\\\Naresh.txt\"):\n",
    "        os.remove(file_name)\n",
    "        print(\"Removed file: \",file_name)\n",
    "    else:\n",
    "        print(\"File doesn't exist :\",file_name)\n",
    "        \n",
    "file_name=\"D:\\\\Naresh.txt\"   \n",
    "createFile(file_name)\n",
    "removeFile(file_name)\n",
    "#removeFile(\"random_file_test.txt\")"
   ]
  },
  {
   "cell_type": "code",
   "execution_count": null,
   "metadata": {},
   "outputs": [],
   "source": []
  }
 ],
 "metadata": {
  "kernelspec": {
   "display_name": "Python 3",
   "language": "python",
   "name": "python3"
  },
  "language_info": {
   "codemirror_mode": {
    "name": "ipython",
    "version": 3
   },
   "file_extension": ".py",
   "mimetype": "text/x-python",
   "name": "python",
   "nbconvert_exporter": "python",
   "pygments_lexer": "ipython3",
   "version": "3.7.1"
  }
 },
 "nbformat": 4,
 "nbformat_minor": 2
}
