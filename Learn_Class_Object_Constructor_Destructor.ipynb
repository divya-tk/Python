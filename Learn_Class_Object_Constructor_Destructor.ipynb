{
 "cells": [
  {
   "cell_type": "code",
   "execution_count": 1,
   "metadata": {},
   "outputs": [],
   "source": [
    "# Classes and Object\n",
    "    # Object are an encapsulation of variables and functions into single entity.\n",
    "    # Objects get variable and functions from Classes. Classes are essentially a \n",
    "    #template to create your objects."
   ]
  },
  {
   "cell_type": "code",
   "execution_count": null,
   "metadata": {},
   "outputs": [],
   "source": [
    "# Basic class in Python\n",
    "class learnClass:\n",
    "\n",
    "# State's \n",
    "    variable = \"Gopinath\"\n",
    "\n",
    "# Methods\n",
    "    def firstFunction(self):\n",
    "        print(\"This is my first function\")\n"
   ]
  },
  {
   "cell_type": "code",
   "execution_count": 3,
   "metadata": {},
   "outputs": [
    {
     "name": "stdout",
     "output_type": "stream",
     "text": [
      "This is my first function\n"
     ]
    }
   ],
   "source": [
    "# assign the class to the object\n",
    "class learnClass:    \n",
    "    variable = \"Gopinath\"\n",
    "    \n",
    "    def firstFunction(self):\n",
    "        print(\"This is my first function\")\n",
    "# \"\"\"Now the 'callClass' variable holding the object of \"learnClass\" that contains variables and functions \n",
    "#    that defined within the class called \"learnClass\".\"\"\""
   ]
  },
  {
   "cell_type": "code",
   "execution_count": 7,
   "metadata": {},
   "outputs": [
    {
     "name": "stdout",
     "output_type": "stream",
     "text": [
      "Gopinath\n"
     ]
    }
   ],
   "source": [
    "x = learnClass()\n",
    "type(x)\n",
    "print(x.variable)"
   ]
  },
  {
   "cell_type": "code",
   "execution_count": null,
   "metadata": {},
   "outputs": [],
   "source": [
    "# Accessing Object and Variables\n",
    "class learnClass:\n",
    "    variable = \"Gopinath\"\n",
    "    \n",
    "    def firstFunction(self):\n",
    "        print(\"This is my first function\")\n",
    "        \n",
    "callClass = learnClass()\n",
    "print(callClass.variable)"
   ]
  },
  {
   "cell_type": "code",
   "execution_count": 8,
   "metadata": {},
   "outputs": [
    {
     "name": "stdout",
     "output_type": "stream",
     "text": [
      "Gopinath Jayakumar\n",
      "Gopinath\n"
     ]
    }
   ],
   "source": [
    "# you can create multiple different objects that are of the same class(have the same variable and functions defined).\n",
    "# However, each object contains independent copies of the variables defined in the class.\n",
    "# for instance, if we were to define another object with the 'learnClass' class and then change the string in the variable.\n",
    "class learnClass:\n",
    "    variable = \"Gopinath\"\n",
    "    \n",
    "    def firstFunction(self):\n",
    "        print(\"This is my first function\")\n",
    "        \n",
    "callClass = learnClass()\n",
    "callSameClass = learnClass()\n",
    "\n",
    "callClass.variable = \"Gopinath Jayakumar\"\n",
    "\n",
    "print(callClass.variable)\n",
    "print(callSameClass.variable)"
   ]
  },
  {
   "cell_type": "code",
   "execution_count": 10,
   "metadata": {},
   "outputs": [
    {
     "name": "stdout",
     "output_type": "stream",
     "text": [
      "Gopinath Jayakumar\n",
      "This is my first function\n"
     ]
    }
   ],
   "source": [
    "# Accessing Object Methods\n",
    "class learnClass:\n",
    "    variable  = \"Gopinath Jayakumar\"\n",
    "    \n",
    "    def firstFunction(self, a, b):\n",
    "        print (\"This is my first function\")\n",
    "        \n",
    "callClass = learnClass()\n",
    "callSameClass = learnClass()\n",
    "\n",
    "print(callClass.variable)\n",
    "callClass.firstFunction()"
   ]
  },
  {
   "cell_type": "code",
   "execution_count": null,
   "metadata": {},
   "outputs": [],
   "source": [
    "# Exercise 1:\n",
    "\n",
    "# We have a class defined for vehicles.\n",
    "    # 1. Create two new vechicles called car1 and car2.\n",
    "    # 2. Set car1 to be a blue convertible worth 14000000 with a name of BMW\n",
    "    # 3. Set car2 to be a red van named JAGUAR worth  11100000\n",
    "    \n",
    "#Define the Vehicle class\n",
    "\n",
    "class Vehicle:\n",
    "    name  = \"\"\n",
    "    color = \"\"\n",
    "    value = 100.00     \n",
    "    \n",
    "    def calVehicle(self):\n",
    "        print(self.name, self.color, self.value)\n",
    "\n",
    "# your code goes here\n",
    "callCar1 = Vehicle()\n",
    "callCar1.name = \"BMW\"\n",
    "callCar1.color = \"Blue\"\n",
    "callCar1.value = 14000000\n",
    "\n",
    "# your code goes here\n",
    "callCar2 = Vehicle()\n",
    "callCar2.name = \"JAGUAR\"\n",
    "callCar2.color = \"Red\"\n",
    "callCar2.value = 11100000\n",
    "\n",
    "print(callCar1.name, callCar1.color, callCar1.value)\n",
    "print(callCar2.name, callCar2.color, callCar2.value)\n",
    "\n"
   ]
  },
  {
   "cell_type": "code",
   "execution_count": null,
   "metadata": {},
   "outputs": [],
   "source": [
    "# Exercise 2:\n",
    "    # Write a code for convert currency from indai to other countries\n",
    "    #(atleast only 'USA' and 'India')\n",
    "    \n",
    "class currencies:    \n",
    "    # State's\n",
    "    money = 1\n",
    "    country = \"\"\n",
    "    \n",
    "    def assignValues(self):\n",
    "        print(self.money, self.country)       \n",
    "        \n",
    "con1  = currencies()\n",
    "con1.country = \"India\"\n",
    "con1.money = str(1)+\" Rs\"\n",
    "    \n",
    "con2 = currencies()\n",
    "con2.country = \"USA\"\n",
    "con2.money   = str(con2.money / 70)+ \" dollar\"\n",
    "\n",
    "con3 = currencies()\n",
    "con3.country = \"Belgium\"\n",
    "con3.money = str(con3.money / 81) + \" Euro\"\n",
    "\n",
    "con1.assignValues()\n",
    "con2.assignValues()\n",
    "con3.assignValues()"
   ]
  },
  {
   "cell_type": "code",
   "execution_count": null,
   "metadata": {
    "scrolled": true
   },
   "outputs": [],
   "source": [
    "# What is difference between 'Function' and 'Methods'.\n",
    "    # 'Function' → Free (Free means not belong to an object or class)\n",
    "    # 'Method'   → Member (A member of an object or class)\n",
    "    \n",
    "class currencies:    \n",
    "\n",
    "# State's\n",
    "    money = 1\n",
    "    country = \"\"\n",
    "    \n",
    "    def assignValues(self):\n",
    "        print(self.money, end = \" \")\n",
    "        print(self.country)\n",
    "        \n",
    "def calCurrencies():\n",
    "    x = currencies()\n",
    "    x.country = \"USA\"\n",
    "    x.money = str(x.money + 70) + \" dollar\"    \n",
    "    currencies.assignValues(x)\n",
    "    \n",
    "calCurrencies()  "
   ]
  },
  {
   "cell_type": "code",
   "execution_count": null,
   "metadata": {},
   "outputs": [],
   "source": [
    "class student:\n",
    "    \n",
    "    def __init__(self, name):\n",
    "        self.name =name\n",
    "        self.marks = []\n",
    "        print(f\"Welcome {name} to join TestLeaf\")\n",
    "        \n",
    "    def addmarks(self, mark):\n",
    "        mark = int(input(\"Enter the marks: \"))\n",
    "        self.marks.append(mark)\n",
    "        \n",
    "    def avg(self):\n",
    "        return sum(self.marks)/len(self.marks)\n",
    "    \n",
    "x= student(\"Gopi\")\n",
    "x.addmarks(12)\n",
    "x.addmarks(11)\n",
    "x.addmarks(18)\n",
    "y = x.avg()\n",
    "print(y)"
   ]
  },
  {
   "cell_type": "code",
   "execution_count": 2,
   "metadata": {},
   "outputs": [
    {
     "name": "stdout",
     "output_type": "stream",
     "text": [
      "Enter the operands: mul\n",
      "Enter the first vaule: 10\n",
      "Enter the second vaule: 30\n",
      "Input are 10 and 20\n",
      "Multiplication of 10 and 20 is: 200\n",
      "200\n"
     ]
    }
   ],
   "source": [
    "# Build the Calculator\n",
    "\n",
    "class basicCalculator:\n",
    "    \n",
    "    def __init__(self, a, b, operator):\n",
    "        self.a = a\n",
    "        self.b = b\n",
    "        self.operator = operator  \n",
    "        print (f\"Input are {a} and {b}\")\n",
    "        \n",
    "    def mathManipulation(self):        \n",
    "        if(self.operator == \"add\"):\n",
    "            output = self.a + self.b\n",
    "            print(f\"Addition of {self.a} and {self.b} is: {self.a + self.b}\")\n",
    "        elif(self.operator == \"sub\"):\n",
    "            output = self.a - self.b\n",
    "            print(f\"Subtraction of {self.a} and {self.b} is: {self.a - self.b}\")\n",
    "        elif(self.operator == \"mul\"):\n",
    "            output = self.a * self.b\n",
    "            print(f\"Multiplication of {self.a} and {self.b} is: {self.a * self.b}\")\n",
    "        elif(self.operator == \"div\"):\n",
    "            output = self.a / self.b\n",
    "            print(f\"Division of {self.a} and {self.b} is: {self.a / self.b}\") \n",
    "        return output\n",
    "    \n",
    "\n",
    "operator = input(\"Enter the operands: \")\n",
    "operand1 = input(\"Enter the first vaule: \")\n",
    "operand2 = input(\"Enter the second vaule: \")\n",
    "\n",
    "cal = basicCalculator(10,20, operator)\n",
    "output = cal.mathManipulation()"
   ]
  },
  {
   "cell_type": "code",
   "execution_count": 32,
   "metadata": {},
   "outputs": [
    {
     "name": "stdout",
     "output_type": "stream",
     "text": [
      " 500 \n",
      " Stone Grey Color \n",
      " 150 mm \n",
      " 66 mm \n",
      "\n",
      "India's second highest rupee note printed by RBI.\n",
      "It was released by the Reserve Bank of India (RBI) on 8 November 2016\n"
     ]
    }
   ],
   "source": [
    "class indianRupee:\n",
    "    \n",
    "    value = \"\"\n",
    "    color = \"\"\n",
    "    hight = \"\"\n",
    "    width = \"\"\n",
    "    desc  = \"\"\n",
    "    \n",
    "    def detailsOfMoney(self):\n",
    "        print(f\"\"\" {self.value} \\n {self.color} \\n { self.hight} \\n {self.width} \\n\"\"\" )\n",
    "        print(self.desc)   \n",
    "    \n",
    "hightestCurrency = indianRupee()\n",
    "hightestCurrency.value = 2000\n",
    "hightestCurrency.color = 'VioletShade'\n",
    "hightestCurrency.hight = '66 mm'\n",
    "hightestCurrency.width = '166 mm'\n",
    "\n",
    "hightestCurrency.desc = \"\"\"India's highest currency note printed by RBI.\n",
    "It was released by the Reserve Bank of India (RBI) on 8 November 2016\"\"\"\n",
    "\n",
    "\n",
    "SecondHighestCurrency = indianRupee()   \n",
    "SecondHighestCurrency.value = 500\n",
    "SecondHighestCurrency.color = \"Stone Grey Color\"\n",
    "SecondHighestCurrency.hight = '150 mm'\n",
    "SecondHighestCurrency.width = '66 mm'\n",
    "\n",
    "SecondHighestCurrency.desc  = \"\"\"India's second highest rupee note printed by RBI.\n",
    "It was released by the Reserve Bank of India (RBI) on 8 November 2016\"\"\"\n",
    "\n",
    "\n",
    "\n",
    "#hightestCurrency.detailsOfMoney()\n",
    "SecondHighestCurrency.detailsOfMoney()"
   ]
  },
  {
   "cell_type": "code",
   "execution_count": 31,
   "metadata": {},
   "outputs": [
    {
     "name": "stdout",
     "output_type": "stream",
     "text": [
      "sum of 5 and 10 are 25\n",
      "sum of 5 and 10 are 8\n",
      "{'g1': 2, 'g2': 3}\n",
      "(1, 2, 3) {'g1': 100, 'g2': 200}\n"
     ]
    }
   ],
   "source": [
    "# Learn *args and **kwargs\n",
    "\n",
    "def getData(*args):\n",
    "    print(f\"sum of {a} and {b} are {sum(args)}\")\n",
    "    \n",
    "a = 5\n",
    "b = 10\n",
    "c = 10\n",
    "getData(a,b,c)\n",
    "\n",
    "def getData1(**kwargs):\n",
    "    print(kwargs)\n",
    "    \n",
    "    \n",
    "def getData2(*args, **kwargs):\n",
    "    print(args, kwargs)\n",
    "    \n",
    "getData(1,3,4)\n",
    "getData1(g1 = 2, g2 = 3)\n",
    "getData2(1,2,3, g1 = 100, g2 = 200)"
   ]
  }
 ],
 "metadata": {
  "kernelspec": {
   "display_name": "Python 3",
   "language": "python",
   "name": "python3"
  },
  "language_info": {
   "codemirror_mode": {
    "name": "ipython",
    "version": 3
   },
   "file_extension": ".py",
   "mimetype": "text/x-python",
   "name": "python",
   "nbconvert_exporter": "python",
   "pygments_lexer": "ipython3",
   "version": "3.7.1"
  }
 },
 "nbformat": 4,
 "nbformat_minor": 2
}
