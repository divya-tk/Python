{
 "cells": [
  {
   "cell_type": "code",
   "execution_count": 29,
   "metadata": {},
   "outputs": [],
   "source": [
    "#Data Structure [Non - Primitive Data Structure] - List, Tuples, Dictionary, set and Files\n",
    "   \n",
    "    # Manipulating individual values is very difficult. so we focus into the DataStructure. \n",
    "        # Note:: we can add any type of data values in list\n",
    "\n",
    "    #List -> \n",
    "    \n",
    "        # len          :    its return count of item\n",
    "        # sum          :    sum the each item in the list(only for integer)\n",
    "        # min          :    its print minimum value in the given list\n",
    "        # max          :    its return maximum value in the given list\n",
    "       \n",
    "        # append       :    its add values in existing list(one element)\n",
    "        # extend       :    its add list of elements  (collection of elements)\n",
    "        # insert       :    its add value in specific index in the list\n",
    "       \n",
    "        # remove       :    its remove the value from list based on given value(if you know the value in list)\n",
    "        # del          :    its remove the value from list based on given index number\n",
    "        \n",
    "        # reverse      :    its reverse the existing list\n",
    "        # reversed     :    its gives output in reverse order. (use for loop)\n",
    "        \n",
    "        # sort         :    its sort in alphabet.\n",
    "        # sorted       :    \n",
    "        \n",
    "        \n",
    "        \n",
    "    # List Slicing ->   A Python slice extracts elements, based on a start and stop. We take slices on many types in Python.\n",
    "                        # We specify an optional first index, an optional last index, and an optional step.  \n",
    "\n",
    "    \n",
    "        # list[inclusive:exclusive] : for subset of list\n",
    "        "
   ]
  },
  {
   "cell_type": "code",
   "execution_count": 2,
   "metadata": {},
   "outputs": [],
   "source": [
    "# Create a list\n",
    "#mobiles.clear()\n",
    "mobiles = ['sumsung', 'LG', 'OnePlus', 'Apple']"
   ]
  },
  {
   "cell_type": "code",
   "execution_count": 3,
   "metadata": {},
   "outputs": [
    {
     "data": {
      "text/plain": [
       "'OnePlus'"
      ]
     },
     "execution_count": 3,
     "metadata": {},
     "output_type": "execute_result"
    }
   ],
   "source": [
    "# Array Index\n",
    "mobiles[2]"
   ]
  },
  {
   "cell_type": "code",
   "execution_count": 4,
   "metadata": {},
   "outputs": [
    {
     "name": "stdout",
     "output_type": "stream",
     "text": [
      "<class 'list'>\n",
      "['sumsung', 'LG', 'OnePlus', 'Apple']\n"
     ]
    }
   ],
   "source": [
    "# Verify DataType of variable\n",
    "print(type(mobiles))\n",
    "print(mobiles)"
   ]
  },
  {
   "cell_type": "code",
   "execution_count": 5,
   "metadata": {},
   "outputs": [
    {
     "data": {
      "text/plain": [
       "'Apple'"
      ]
     },
     "execution_count": 5,
     "metadata": {},
     "output_type": "execute_result"
    }
   ],
   "source": [
    "#fetch minimum value in List\n",
    "min(mobiles)"
   ]
  },
  {
   "cell_type": "code",
   "execution_count": 6,
   "metadata": {},
   "outputs": [
    {
     "data": {
      "text/plain": [
       "'sumsung'"
      ]
     },
     "execution_count": 6,
     "metadata": {},
     "output_type": "execute_result"
    }
   ],
   "source": [
    "#fetch maximum value in List\n",
    "max(mobiles)"
   ]
  },
  {
   "cell_type": "code",
   "execution_count": 7,
   "metadata": {},
   "outputs": [
    {
     "data": {
      "text/plain": [
       "4"
      ]
     },
     "execution_count": 7,
     "metadata": {},
     "output_type": "execute_result"
    }
   ],
   "source": [
    "# for Count of list\n",
    "len(mobiles)"
   ]
  },
  {
   "cell_type": "code",
   "execution_count": 8,
   "metadata": {},
   "outputs": [],
   "source": [
    "# append value in to list -> append @ last\n",
    "mobiles.append(\"Redmi\")"
   ]
  },
  {
   "cell_type": "code",
   "execution_count": 9,
   "metadata": {},
   "outputs": [
    {
     "name": "stdout",
     "output_type": "stream",
     "text": [
      "['sumsung', 'LG', 'OnePlus', 'Apple', 'Redmi']\n"
     ]
    }
   ],
   "source": [
    "print(mobiles)"
   ]
  },
  {
   "cell_type": "code",
   "execution_count": 10,
   "metadata": {},
   "outputs": [
    {
     "name": "stdout",
     "output_type": "stream",
     "text": [
      "['sumsung', 'LG', 'OnePlus', 'Apple', 'Redmi', 'Honor', 'Sony']\n"
     ]
    }
   ],
   "source": [
    "# extend list on element in to list\n",
    "mobiles.extend([\"Honor\",\"Sony\"])\n",
    "print(mobiles)"
   ]
  },
  {
   "cell_type": "code",
   "execution_count": 11,
   "metadata": {},
   "outputs": [
    {
     "name": "stdout",
     "output_type": "stream",
     "text": [
      "['sumsung', 'LG', 'OnePlus', 'Apple', 'Redmi', 'Honor', 'Sony', 'Honor', 'Sony']\n"
     ]
    }
   ],
   "source": [
    "# Another way to extend the list of values\n",
    "mobiles = mobiles + [\"Honor\", \"Sony\"]     # or   mobile += [\"Honor\", \"Sony\"]\n",
    "print(mobiles)"
   ]
  },
  {
   "cell_type": "code",
   "execution_count": 12,
   "metadata": {},
   "outputs": [],
   "source": [
    "# insert value based on specific index number\n",
    "mobiles.insert(2, \"Gopi\")"
   ]
  },
  {
   "cell_type": "code",
   "execution_count": 13,
   "metadata": {},
   "outputs": [
    {
     "name": "stdout",
     "output_type": "stream",
     "text": [
      "['sumsung', 'LG', 'Gopi', 'OnePlus', 'Apple', 'Redmi', 'Honor', 'Sony', 'Honor', 'Sony']\n",
      "\n"
     ]
    }
   ],
   "source": [
    "print(mobiles)\n",
    "\n",
    "print()"
   ]
  },
  {
   "cell_type": "code",
   "execution_count": 14,
   "metadata": {},
   "outputs": [],
   "source": [
    "mobiles.remove('Gopi')"
   ]
  },
  {
   "cell_type": "code",
   "execution_count": 15,
   "metadata": {},
   "outputs": [
    {
     "name": "stdout",
     "output_type": "stream",
     "text": [
      "['sumsung', 'LG', 'OnePlus', 'Apple', 'Redmi', 'Honor', 'Sony', 'Honor', 'Sony']\n"
     ]
    }
   ],
   "source": [
    "print(mobiles)"
   ]
  },
  {
   "cell_type": "code",
   "execution_count": 16,
   "metadata": {},
   "outputs": [
    {
     "data": {
      "text/plain": [
       "<list_reverseiterator at 0x27174c66198>"
      ]
     },
     "execution_count": 16,
     "metadata": {},
     "output_type": "execute_result"
    }
   ],
   "source": [
    "reversed(mobiles)"
   ]
  },
  {
   "cell_type": "code",
   "execution_count": 20,
   "metadata": {},
   "outputs": [
    {
     "name": "stdout",
     "output_type": "stream",
     "text": [
      "Apple\n",
      "OnePlus\n",
      "LG\n",
      "sumsung\n",
      "23\n",
      "3\n",
      "6\n",
      "2\n"
     ]
    }
   ],
   "source": [
    "#for reversed\n",
    "mobiles = ['sumsung', 'LG', 'OnePlus', 'Apple']\n",
    "for eachmobile in reversed(mobiles):\n",
    "    print(eachmobile)\n",
    "\n",
    "number = [2,6, 3, 23]\n",
    "for eachNumber in reversed(number):\n",
    "    print(eachNumber)"
   ]
  },
  {
   "cell_type": "code",
   "execution_count": 21,
   "metadata": {},
   "outputs": [
    {
     "name": "stdout",
     "output_type": "stream",
     "text": [
      "Apple\n",
      "LG\n",
      "OnePlus\n",
      "sumsung\n"
     ]
    }
   ],
   "source": [
    "#for sorted\n",
    "mobiles = ['sumsung', 'LG', 'OnePlus', 'Apple']\n",
    "for eachmobile in sorted(mobiles):\n",
    "    print(eachmobile)\n"
   ]
  },
  {
   "cell_type": "code",
   "execution_count": null,
   "metadata": {},
   "outputs": [],
   "source": []
  }
 ],
 "metadata": {
  "kernelspec": {
   "display_name": "Python 3",
   "language": "python",
   "name": "python3"
  },
  "language_info": {
   "codemirror_mode": {
    "name": "ipython",
    "version": 3
   },
   "file_extension": ".py",
   "mimetype": "text/x-python",
   "name": "python",
   "nbconvert_exporter": "python",
   "pygments_lexer": "ipython3",
   "version": "3.6.5"
  }
 },
 "nbformat": 4,
 "nbformat_minor": 2
}
